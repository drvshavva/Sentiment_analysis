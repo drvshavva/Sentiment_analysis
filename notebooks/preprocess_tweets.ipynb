{
 "cells": [
  {
   "cell_type": "code",
   "execution_count": 1,
   "metadata": {
    "pycharm": {
     "is_executing": false
    }
   },
   "outputs": [],
   "source": [
    "# import libraries\n",
    "from src.preprocess.preprocess import *\n",
    "from src.data_operations.rw_utils import read_from_csv, write_to_csv, read_from_excel\n",
    "from src.data_operations.data_quality import create_data_quality_report\n",
    "from src.data_operations.plots import plot_bar_chart, plot_wordcloud\n",
    "import time\n",
    "import numpy as np\n"
   ]
  },
  {
   "cell_type": "markdown",
   "metadata": {},
   "source": [
    "# tweets data set operations"
   ]
  },
  {
   "cell_type": "code",
   "execution_count": 2,
   "metadata": {
    "pycharm": {
     "is_executing": false,
     "name": "#%%\n"
    },
    "scrolled": false
   },
   "outputs": [
    {
     "name": "stdout",
     "text": [
      "Data is read. Len of the data 13832 and columns Index(['tweet', 'sentiment'], dtype='object')\n"
     ],
     "output_type": "stream"
    },
    {
     "data": {
      "text/plain": "                                               tweet sentiment\n0  Ulan Wifi'ye bağlıyım ben. Ona bağlıyken Turkc...   olumsuz\n1  20 dk 1 GB internet 500 mb sadece kaşar turkce...   olumsuz\n2  Ayrıca turkcell superonline reklamı kadar da k...   olumsuz\n3                             Turkcell çok pahalı ya   olumsuz\n4                Turkcell Kaş'ta internetin cekmiyor   olumsuz",
      "text/html": "<div>\n<style scoped>\n    .dataframe tbody tr th:only-of-type {\n        vertical-align: middle;\n    }\n\n    .dataframe tbody tr th {\n        vertical-align: top;\n    }\n\n    .dataframe thead th {\n        text-align: right;\n    }\n</style>\n<table border=\"1\" class=\"dataframe\">\n  <thead>\n    <tr style=\"text-align: right;\">\n      <th></th>\n      <th>tweet</th>\n      <th>sentiment</th>\n    </tr>\n  </thead>\n  <tbody>\n    <tr>\n      <th>0</th>\n      <td>Ulan Wifi'ye bağlıyım ben. Ona bağlıyken Turkc...</td>\n      <td>olumsuz</td>\n    </tr>\n    <tr>\n      <th>1</th>\n      <td>20 dk 1 GB internet 500 mb sadece kaşar turkce...</td>\n      <td>olumsuz</td>\n    </tr>\n    <tr>\n      <th>2</th>\n      <td>Ayrıca turkcell superonline reklamı kadar da k...</td>\n      <td>olumsuz</td>\n    </tr>\n    <tr>\n      <th>3</th>\n      <td>Turkcell çok pahalı ya</td>\n      <td>olumsuz</td>\n    </tr>\n    <tr>\n      <th>4</th>\n      <td>Turkcell Kaş'ta internetin cekmiyor</td>\n      <td>olumsuz</td>\n    </tr>\n  </tbody>\n</table>\n</div>"
     },
     "metadata": {},
     "output_type": "execute_result",
     "execution_count": 2
    }
   ],
   "source": [
    "# read data from source\n",
    "train = read_from_excel(\"train_tweets.xlsx\", [\"tweet\", \"sentiment\"])\n",
    "train.head()"
   ]
  },
  {
   "cell_type": "code",
   "execution_count": 3,
   "metadata": {
    "pycharm": {
     "is_executing": false
    }
   },
   "outputs": [
    {
     "name": "stdout",
     "text": [
      "Data is read. Len of the data 3457 and columns Index(['tweet', 'sentiment'], dtype='object')\n"
     ],
     "output_type": "stream"
    },
    {
     "data": {
      "text/plain": "                                               tweet sentiment\n0  Turkcell'e kızgınım. Ve bu kızgınlık sanırım a...   olumsuz\n1                 turkcell kadar şerefsiz misiniz ya   olumsuz\n2  Burdan Turkcell'e sesleniyorum o 3 tl haram olsun   olumsuz\n3  Hayatımda turkcell kadar kazık 1 operatör görm...   olumsuz\n4  Turkcell gözümde son demlerini yaşıyor hattı d...   olumsuz",
      "text/html": "<div>\n<style scoped>\n    .dataframe tbody tr th:only-of-type {\n        vertical-align: middle;\n    }\n\n    .dataframe tbody tr th {\n        vertical-align: top;\n    }\n\n    .dataframe thead th {\n        text-align: right;\n    }\n</style>\n<table border=\"1\" class=\"dataframe\">\n  <thead>\n    <tr style=\"text-align: right;\">\n      <th></th>\n      <th>tweet</th>\n      <th>sentiment</th>\n    </tr>\n  </thead>\n  <tbody>\n    <tr>\n      <th>0</th>\n      <td>Turkcell'e kızgınım. Ve bu kızgınlık sanırım a...</td>\n      <td>olumsuz</td>\n    </tr>\n    <tr>\n      <th>1</th>\n      <td>turkcell kadar şerefsiz misiniz ya</td>\n      <td>olumsuz</td>\n    </tr>\n    <tr>\n      <th>2</th>\n      <td>Burdan Turkcell'e sesleniyorum o 3 tl haram olsun</td>\n      <td>olumsuz</td>\n    </tr>\n    <tr>\n      <th>3</th>\n      <td>Hayatımda turkcell kadar kazık 1 operatör görm...</td>\n      <td>olumsuz</td>\n    </tr>\n    <tr>\n      <th>4</th>\n      <td>Turkcell gözümde son demlerini yaşıyor hattı d...</td>\n      <td>olumsuz</td>\n    </tr>\n  </tbody>\n</table>\n</div>"
     },
     "metadata": {},
     "output_type": "execute_result",
     "execution_count": 3
    }
   ],
   "source": [
    "test = read_from_excel(\"test_tweets.xlsx\", [\"tweet\", \"sentiment\"])\n",
    "test.head()"
   ]
  },
  {
   "cell_type": "code",
   "execution_count": 4,
   "metadata": {
    "pycharm": {
     "is_executing": false,
     "name": "#%%\n"
    },
    "scrolled": true
   },
   "outputs": [
    {
     "data": {
      "text/plain": "olumsuz    5511\nnotr       4658\nolumlu     3663\nName: sentiment, dtype: int64"
     },
     "metadata": {},
     "output_type": "execute_result",
     "execution_count": 4
    }
   ],
   "source": [
    "# get each label counts\n",
    "df_label_counts = train[\"sentiment\"].value_counts()\n",
    "df_label_counts"
   ]
  },
  {
   "cell_type": "code",
   "execution_count": 5,
   "metadata": {
    "pycharm": {
     "is_executing": false
    }
   },
   "outputs": [],
   "source": [
    "# visualize the sample counts of each label\n",
    "labels = list(df_label_counts.to_frame().index)\n",
    "counts = df_label_counts.values\n",
    "plot_bar_chart(labels, counts, \"Sentiments - Train\").show()"
   ]
  },
  {
   "cell_type": "code",
   "execution_count": 6,
   "metadata": {
    "pycharm": {
     "is_executing": false,
     "name": "#%%\n"
    },
    "scrolled": true
   },
   "outputs": [
    {
     "name": "stdout",
     "text": [
      "<class 'pandas.core.frame.DataFrame'>\n",
      "RangeIndex: 13832 entries, 0 to 13831\n",
      "Data columns (total 2 columns):\n",
      " #   Column     Non-Null Count  Dtype \n",
      "---  ------     --------------  ----- \n",
      " 0   tweet      13832 non-null  object\n",
      " 1   sentiment  13832 non-null  object\n",
      "dtypes: object(2)\n",
      "memory usage: 216.2+ KB\n",
      "#################################################\n",
      "############ DATA QUALITY RESULT ################\n",
      "#################################################\n",
      "\n",
      "Number of sample in data set:13832.\n",
      "Number of classes in data set: 3 and they are: ['olumsuz' 'olumlu' 'notr'].\n",
      "Columns in data set:['tweet', 'sentiment'].\n",
      "\n",
      "None.\n",
      "\n",
      "\n",
      "\n",
      "############## SUMMARY STATISTICS ###############\n",
      "\n",
      "tweet sentiment\n",
      "count                                               13832     13832\n",
      "unique                                              13802         3\n",
      "top     Ensar'a sponsor olan Turkcell'in yıllık kârı y...   olumsuz\n",
      "freq                                                    2      5511.\n",
      "\n",
      "\n",
      "\n",
      "############## NULL PERCENTAGES #################\n",
      "\n",
      "Column: tweet  percent of null values:  %0.0.\n",
      "Column: sentiment  percent of null values:  %0.0.\n"
     ],
     "output_type": "stream"
    }
   ],
   "source": [
    "## Data Information\n",
    "missing_value_df = create_data_quality_report(train, \"sentiment\")"
   ]
  },
  {
   "cell_type": "code",
   "execution_count": 7,
   "metadata": {
    "pycharm": {
     "is_executing": false
    },
    "scrolled": true
   },
   "outputs": [
    {
     "data": {
      "text/plain": "          column_name  percent_missing\ntweet           tweet              0.0\nsentiment   sentiment              0.0",
      "text/html": "<div>\n<style scoped>\n    .dataframe tbody tr th:only-of-type {\n        vertical-align: middle;\n    }\n\n    .dataframe tbody tr th {\n        vertical-align: top;\n    }\n\n    .dataframe thead th {\n        text-align: right;\n    }\n</style>\n<table border=\"1\" class=\"dataframe\">\n  <thead>\n    <tr style=\"text-align: right;\">\n      <th></th>\n      <th>column_name</th>\n      <th>percent_missing</th>\n    </tr>\n  </thead>\n  <tbody>\n    <tr>\n      <th>tweet</th>\n      <td>tweet</td>\n      <td>0.0</td>\n    </tr>\n    <tr>\n      <th>sentiment</th>\n      <td>sentiment</td>\n      <td>0.0</td>\n    </tr>\n  </tbody>\n</table>\n</div>"
     },
     "metadata": {},
     "output_type": "execute_result",
     "execution_count": 7
    }
   ],
   "source": [
    "missing_value_df"
   ]
  },
  {
   "cell_type": "code",
   "execution_count": 8,
   "metadata": {
    "pycharm": {
     "is_executing": false
    }
   },
   "outputs": [
    {
     "name": "stdout",
     "text": [
      "<class 'pandas.core.frame.DataFrame'>\n",
      "Int64Index: 13807 entries, 0 to 13831\n",
      "Data columns (total 2 columns):\n",
      " #   Column     Non-Null Count  Dtype \n",
      "---  ------     --------------  ----- \n",
      " 0   tweet      13807 non-null  object\n",
      " 1   sentiment  13807 non-null  object\n",
      "dtypes: object(2)\n",
      "memory usage: 323.6+ KB\n"
     ],
     "output_type": "stream"
    }
   ],
   "source": [
    "# drop null values and duplicate values\n",
    "train['tweet'].replace('', np.nan, inplace=True)\n",
    "train = train.dropna()\n",
    "train = train.drop_duplicates()\n",
    "train.info()"
   ]
  },
  {
   "cell_type": "code",
   "execution_count": 9,
   "metadata": {
    "pycharm": {
     "is_executing": false
    }
   },
   "outputs": [],
   "source": [
    "# apply preprocess operations\n",
    "preprocess_operations = [to_lower, remove_stopwords, handle_emojis, remove_hyperlink, remove_number, remove_punctuation, \n",
    "                         remove_whitespace,\n",
    "                         replace_special_chars, remove_less_than_two]"
   ]
  },
  {
   "cell_type": "code",
   "execution_count": 10,
   "metadata": {
    "pycharm": {
     "is_executing": false
    }
   },
   "outputs": [
    {
     "data": {
      "text/plain": "'Of evin her köşesinden Turkcell geçiyor bizi kazıklamalarıyla kalmayıp birde internetleri düşük hızlı'"
     },
     "metadata": {},
     "output_type": "execute_result",
     "execution_count": 10
    }
   ],
   "source": [
    "# example result\n",
    "train[\"tweet\"].values[12]"
   ]
  },
  {
   "cell_type": "code",
   "execution_count": 11,
   "metadata": {
    "pycharm": {
     "is_executing": false
    }
   },
   "outputs": [
    {
     "data": {
      "text/plain": "['evin köşesinden geçiyor bizi kazıklamalarıyla kalmayıp birde internetleri düşük hızlı']"
     },
     "metadata": {},
     "output_type": "execute_result",
     "execution_count": 11
    }
   ],
   "source": [
    "apply_preprocess_operations_to_corpus([train[\"tweet\"].values[12]], preprocess_operations)"
   ]
  },
  {
   "cell_type": "code",
   "execution_count": 12,
   "metadata": {
    "pycharm": {
     "is_executing": false
    }
   },
   "outputs": [
    {
     "name": "stdout",
     "text": [
      "Processed 13807 samples.\n",
      "\n",
      "It's took 0.018102538585662842 minutes.\n"
     ],
     "output_type": "stream"
    }
   ],
   "source": [
    "# apply preprocess operation train\n",
    "start = time.time()\n",
    "for operation in preprocess_operations:\n",
    "    train[\"tweet\"] = train[\"tweet\"].apply(operation)\n",
    "print(f\"Processed {len(train)} samples.\\n\")\n",
    "print(f\"It's took {(time.time()-start) / 60} minutes.\")"
   ]
  },
  {
   "cell_type": "code",
   "execution_count": 13,
   "metadata": {
    "pycharm": {
     "is_executing": false
    }
   },
   "outputs": [
    {
     "name": "stdout",
     "text": [
      "Processed 3457 samples.\n",
      "\n",
      "It's took 0.003445597489674886 minutes.\n"
     ],
     "output_type": "stream"
    }
   ],
   "source": [
    "# apply preprocess operation all the data\n",
    "start = time.time()\n",
    "for operation in preprocess_operations:\n",
    "    test[\"tweet\"] = test[\"tweet\"].apply(operation)\n",
    "print(f\"Processed {len(test)} samples.\\n\")\n",
    "print(f\"It's took {(time.time()-start) / 60} minutes.\")"
   ]
  },
  {
   "cell_type": "code",
   "execution_count": 14,
   "metadata": {
    "pycharm": {
     "is_executing": false
    }
   },
   "outputs": [
    {
     "name": "stdout",
     "text": [
      "Data is wrote to path C:\\Users\\user\\Desktop\\YL\\1.2\\hesaplamalı_anabilim\\ödev2\\20501001\\20501001\\sentiment_analysis/data/, with name preprocess_train.csv\n",
      "Data is wrote to path C:\\Users\\user\\Desktop\\YL\\1.2\\hesaplamalı_anabilim\\ödev2\\20501001\\20501001\\sentiment_analysis/data/, with name preprocess_test.csv\n"
     ],
     "output_type": "stream"
    }
   ],
   "source": [
    "write_to_csv(\"preprocess_train.csv\", train)\n",
    "write_to_csv(\"preprocess_test.csv\", test)"
   ]
  },
  {
   "cell_type": "code",
   "execution_count": 15,
   "metadata": {
    "pycharm": {
     "is_executing": false
    }
   },
   "outputs": [
    {
     "data": {
      "text/plain": "array(['ulan wifiye bağlıyım ben ona bağlıyken internet paketin bitti mesaj atabilir bana onu ödeyelim',\n       'internet sadece kaşar düşer çocukları',\n       'ayrıca reklamı kadar kötü bir reklam görmemiştim', ...,\n       'merhaba numarami bir baska operatöre taşıdım hattimda kalan bakiyeyinin iadesini nasil yapıyorsunuz',\n       'iyi herkes abonesi değil',\n       'çekmiyor çekmiyor kaç para ulan fakir telefonu avea parayı bulayım ilk işim geçmek'],\n      dtype=object)"
     },
     "metadata": {},
     "output_type": "execute_result",
     "execution_count": 15
    }
   ],
   "source": [
    "train[\"tweet\"].values"
   ]
  },
  {
   "cell_type": "code",
   "execution_count": 16,
   "metadata": {
    "pycharm": {
     "is_executing": false
    }
   },
   "outputs": [],
   "source": [
    "#plot_wordcloud(train[\"tweet\"].values, title=\"Sentiment Analysis Word Cloud\")"
   ]
  },
  {
   "cell_type": "code",
   "execution_count": 17,
   "metadata": {
    "pycharm": {
     "is_executing": false
    }
   },
   "outputs": [],
   "source": [
    "#plot_wordcloud(train.where(train.sentiment == \"olumlu\").dropna()[\"tweet\"].values, title=\"Sentiment Analysis Word Cloud Olumlu\")"
   ]
  },
  {
   "cell_type": "code",
   "execution_count": 18,
   "metadata": {
    "pycharm": {
     "is_executing": false
    }
   },
   "outputs": [],
   "source": [
    "#plot_wordcloud(train.where(train.sentiment == \"olumsuz\").dropna()[\"tweet\"].values, title=\"Sentiment Analysis Word Cloud Olumsuz\")"
   ]
  },
  {
   "cell_type": "code",
   "execution_count": 19,
   "metadata": {
    "pycharm": {
     "is_executing": false
    }
   },
   "outputs": [],
   "source": [
    "#plot_wordcloud(train.where(train.sentiment == \"notr\").dropna()[\"tweet\"].values, title=\"Sentiment Analysis Word Cloud Notr\")"
   ]
  },
  {
   "cell_type": "code",
   "execution_count": 19,
   "metadata": {
    "pycharm": {
     "is_executing": false
    }
   },
   "outputs": [],
   "source": []
  }
 ],
 "metadata": {
  "kernelspec": {
   "display_name": "Python 3",
   "language": "python",
   "name": "python3"
  },
  "language_info": {
   "codemirror_mode": {
    "name": "ipython",
    "version": 3
   },
   "file_extension": ".py",
   "mimetype": "text/x-python",
   "name": "python",
   "nbconvert_exporter": "python",
   "pygments_lexer": "ipython3",
   "version": "3.7.7"
  },
  "pycharm": {
   "stem_cell": {
    "cell_type": "raw",
    "source": [],
    "metadata": {
     "collapsed": false
    }
   }
  }
 },
 "nbformat": 4,
 "nbformat_minor": 1
}