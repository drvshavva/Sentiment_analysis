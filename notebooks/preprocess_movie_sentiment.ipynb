{
 "cells": [
  {
   "cell_type": "code",
   "execution_count": 1,
   "metadata": {
    "pycharm": {
     "is_executing": false
    }
   },
   "outputs": [],
   "source": [
    "# import libraries\n",
    "from src.preprocess.preprocess import *\n",
    "from src.data_operations.rw_utils import read_from_csv, write_to_csv, read_from_excel\n",
    "from src.data_operations.data_quality import create_data_quality_report\n",
    "from src.data_operations.plots import plot_bar_chart, plot_wordcloud\n",
    "import time\n",
    "import numpy as np\n"
   ]
  },
  {
   "cell_type": "code",
   "execution_count": 2,
   "metadata": {
    "pycharm": {
     "is_executing": false,
     "name": "#%%\n"
    },
    "scrolled": false
   },
   "outputs": [
    {
     "name": "stdout",
     "text": [
      "Data is read. Len of the data 83227 and columns Index(['comment', 'film_name', 'point'], dtype='object')\n"
     ],
     "output_type": "stream"
    },
    {
     "data": {
      "text/plain": "                                             comment      film_name point\n0  \\n                      Jean Reno denince zate...  Sevginin Gücü   5,0\n1  \\n                      Ekşın falan izlemek is...  Sevginin Gücü   5,0\n2  \\n                      Bu yapım hakkında öyle...  Sevginin Gücü   5,0\n3  \\n                      finali yeter... (sting...  Sevginin Gücü   5,0\n4  \\n                      Jean Reno..\\r\\nbu adam...  Sevginin Gücü   5,0",
      "text/html": "<div>\n<style scoped>\n    .dataframe tbody tr th:only-of-type {\n        vertical-align: middle;\n    }\n\n    .dataframe tbody tr th {\n        vertical-align: top;\n    }\n\n    .dataframe thead th {\n        text-align: right;\n    }\n</style>\n<table border=\"1\" class=\"dataframe\">\n  <thead>\n    <tr style=\"text-align: right;\">\n      <th></th>\n      <th>comment</th>\n      <th>film_name</th>\n      <th>point</th>\n    </tr>\n  </thead>\n  <tbody>\n    <tr>\n      <th>0</th>\n      <td>\\n                      Jean Reno denince zate...</td>\n      <td>Sevginin Gücü</td>\n      <td>5,0</td>\n    </tr>\n    <tr>\n      <th>1</th>\n      <td>\\n                      Ekşın falan izlemek is...</td>\n      <td>Sevginin Gücü</td>\n      <td>5,0</td>\n    </tr>\n    <tr>\n      <th>2</th>\n      <td>\\n                      Bu yapım hakkında öyle...</td>\n      <td>Sevginin Gücü</td>\n      <td>5,0</td>\n    </tr>\n    <tr>\n      <th>3</th>\n      <td>\\n                      finali yeter... (sting...</td>\n      <td>Sevginin Gücü</td>\n      <td>5,0</td>\n    </tr>\n    <tr>\n      <th>4</th>\n      <td>\\n                      Jean Reno..\\r\\nbu adam...</td>\n      <td>Sevginin Gücü</td>\n      <td>5,0</td>\n    </tr>\n  </tbody>\n</table>\n</div>"
     },
     "metadata": {},
     "output_type": "execute_result",
     "execution_count": 2
    }
   ],
   "source": [
    "# read data from source\n",
    "data = read_from_csv(\"turkish_movie_sentiment_dataset.csv\")\n",
    "data.head()"
   ]
  },
  {
   "cell_type": "code",
   "execution_count": 3,
   "metadata": {
    "pycharm": {
     "is_executing": false,
     "name": "#%%\n"
    },
    "scrolled": true
   },
   "outputs": [
    {
     "data": {
      "text/plain": "4,0    19958\n5,0    15873\n2,5    11433\n3,5     8565\n4,5     6983\n3,0     5499\n0,5     5150\n1,0     4917\n2,0     2433\n1,5     1464\n4,6      522\n3,9      211\n3,8      100\n3,7       55\n3,2       38\n3,1       26\nName: point, dtype: int64"
     },
     "metadata": {},
     "output_type": "execute_result",
     "execution_count": 3
    }
   ],
   "source": [
    "# get each label counts\n",
    "df_label_counts = data[\"point\"].value_counts()\n",
    "df_label_counts"
   ]
  },
  {
   "cell_type": "code",
   "execution_count": 4,
   "metadata": {
    "pycharm": {
     "is_executing": false
    }
   },
   "outputs": [],
   "source": [
    "# visualize the sample counts of each label\n",
    "labels = list(df_label_counts.to_frame().index)\n",
    "counts = df_label_counts.values\n",
    "plot_bar_chart(labels, counts, \"Movie Reviews Point Distribution\").show()"
   ]
  },
  {
   "cell_type": "code",
   "execution_count": 5,
   "metadata": {
    "pycharm": {
     "is_executing": false
    }
   },
   "outputs": [],
   "source": [
    "# create sentiment column from points\n",
    "data[\"point\"] = data[\"point\"].astype(str).str.replace(\",\", \".\")\n",
    "data[\"point\"] = data[\"point\"].astype(float)\n",
    "data[\"sentiment\"] = np.where(data.point > 3.5, 1, 0)"
   ]
  },
  {
   "cell_type": "code",
   "execution_count": 6,
   "metadata": {
    "pycharm": {
     "is_executing": false
    }
   },
   "outputs": [
    {
     "data": {
      "text/plain": "1    43702\n0    39525\nName: sentiment, dtype: int64"
     },
     "metadata": {},
     "output_type": "execute_result",
     "execution_count": 6
    }
   ],
   "source": [
    "# get each label counts\n",
    "df_sent_counts = data[\"sentiment\"].value_counts()\n",
    "df_sent_counts"
   ]
  },
  {
   "cell_type": "code",
   "execution_count": 7,
   "metadata": {
    "pycharm": {
     "is_executing": false
    }
   },
   "outputs": [],
   "source": [
    "# visualize the sample counts of each label\n",
    "labels = list(df_sent_counts.to_frame().index)\n",
    "counts = df_sent_counts.values\n",
    "plot_bar_chart(labels, counts, \"Movie Reviews Sentiment Distribution\").show()"
   ]
  },
  {
   "cell_type": "code",
   "execution_count": 8,
   "metadata": {
    "pycharm": {
     "is_executing": false,
     "name": "#%%\n"
    },
    "scrolled": true
   },
   "outputs": [
    {
     "name": "stdout",
     "text": [
      "<class 'pandas.core.frame.DataFrame'>\n",
      "RangeIndex: 83227 entries, 0 to 83226\n",
      "Data columns (total 4 columns):\n",
      " #   Column     Non-Null Count  Dtype  \n",
      "---  ------     --------------  -----  \n",
      " 0   comment    83227 non-null  object \n",
      " 1   film_name  83227 non-null  object \n",
      " 2   point      83227 non-null  float64\n",
      " 3   sentiment  83227 non-null  int32  \n",
      "dtypes: float64(1), int32(1), object(2)\n",
      "memory usage: 2.2+ MB\n",
      "#################################################\n",
      "############ DATA QUALITY RESULT ################\n",
      "#################################################\n",
      "\n",
      "Number of sample in data set:83227.\n",
      "Number of classes in data set: 2 and they are: [1 0].\n",
      "Columns in data set:['comment', 'film_name', 'point', 'sentiment'].\n",
      "\n",
      "None.\n",
      "\n",
      "\n",
      "\n",
      "############## SUMMARY STATISTICS ###############\n",
      "\n",
      "point     sentiment\n",
      "count  83227.000000  83227.000000\n",
      "mean       3.415253      0.525094\n",
      "std        1.337989      0.499373\n",
      "min        0.500000      0.000000\n",
      "25%        2.500000      0.000000\n",
      "50%        4.000000      1.000000\n",
      "75%        4.500000      1.000000\n",
      "max        5.000000      1.000000.\n",
      "\n",
      "\n",
      "\n",
      "############## NULL PERCENTAGES #################\n",
      "\n",
      "Column: comment  percent of null values:  %0.0.\n",
      "Column: film_name  percent of null values:  %0.0.\n",
      "Column: point  percent of null values:  %0.0.\n",
      "Column: sentiment  percent of null values:  %0.0.\n"
     ],
     "output_type": "stream"
    }
   ],
   "source": [
    "## Data Information\n",
    "missing_value_df = create_data_quality_report(data, \"sentiment\")"
   ]
  },
  {
   "cell_type": "code",
   "execution_count": 9,
   "metadata": {
    "pycharm": {
     "is_executing": false
    },
    "scrolled": true
   },
   "outputs": [
    {
     "data": {
      "text/plain": "          column_name  percent_missing\ncomment       comment              0.0\nfilm_name   film_name              0.0\npoint           point              0.0\nsentiment   sentiment              0.0",
      "text/html": "<div>\n<style scoped>\n    .dataframe tbody tr th:only-of-type {\n        vertical-align: middle;\n    }\n\n    .dataframe tbody tr th {\n        vertical-align: top;\n    }\n\n    .dataframe thead th {\n        text-align: right;\n    }\n</style>\n<table border=\"1\" class=\"dataframe\">\n  <thead>\n    <tr style=\"text-align: right;\">\n      <th></th>\n      <th>column_name</th>\n      <th>percent_missing</th>\n    </tr>\n  </thead>\n  <tbody>\n    <tr>\n      <th>comment</th>\n      <td>comment</td>\n      <td>0.0</td>\n    </tr>\n    <tr>\n      <th>film_name</th>\n      <td>film_name</td>\n      <td>0.0</td>\n    </tr>\n    <tr>\n      <th>point</th>\n      <td>point</td>\n      <td>0.0</td>\n    </tr>\n    <tr>\n      <th>sentiment</th>\n      <td>sentiment</td>\n      <td>0.0</td>\n    </tr>\n  </tbody>\n</table>\n</div>"
     },
     "metadata": {},
     "output_type": "execute_result",
     "execution_count": 9
    }
   ],
   "source": [
    "missing_value_df"
   ]
  },
  {
   "cell_type": "code",
   "execution_count": 10,
   "metadata": {
    "pycharm": {
     "is_executing": false
    }
   },
   "outputs": [
    {
     "name": "stdout",
     "text": [
      "<class 'pandas.core.frame.DataFrame'>\n",
      "Int64Index: 83183 entries, 0 to 83226\n",
      "Data columns (total 4 columns):\n",
      " #   Column     Non-Null Count  Dtype  \n",
      "---  ------     --------------  -----  \n",
      " 0   comment    83183 non-null  object \n",
      " 1   film_name  83183 non-null  object \n",
      " 2   point      83183 non-null  float64\n",
      " 3   sentiment  83183 non-null  int32  \n",
      "dtypes: float64(1), int32(1), object(2)\n",
      "memory usage: 2.9+ MB\n"
     ],
     "output_type": "stream"
    }
   ],
   "source": [
    "# drop null values and duplicate values\n",
    "data['comment'].replace('', np.nan, inplace=True)\n",
    "data = data.dropna()\n",
    "data = data.drop_duplicates()\n",
    "data.info()"
   ]
  },
  {
   "cell_type": "code",
   "execution_count": 11,
   "metadata": {
    "pycharm": {
     "is_executing": false
    }
   },
   "outputs": [],
   "source": [
    "# apply preprocess operations\n",
    "preprocess_operations = [to_lower, remove_stopwords, handle_emojis, remove_hyperlink, remove_number, remove_punctuation, \n",
    "                         remove_whitespace,\n",
    "                         replace_special_chars, remove_less_than_two]"
   ]
  },
  {
   "cell_type": "code",
   "execution_count": 12,
   "metadata": {
    "pycharm": {
     "is_executing": false
    }
   },
   "outputs": [
    {
     "data": {
      "text/plain": "'\\n                      Bir tarafta ailesini sevmeyen ve kötü alışkanlıkarı olan 12 yaşında bir kız, bir tarafta çok yalnız, tek aktivitesi adam öldürüp evde spor yapmak olan cahil olduğu kadar da zeki ve karizmatik olan bir suikastçi. \\nİzledikten sonra yaklaşık 1 gün boyunca etkisinden çıkamadığım, her aklıma geldiğinde \"ne filmdi be\" diye iç geçirdiğim başyapıttır. Beğenmediğim pek bir tarafı yok.  Senaryonun orjinalinde Mathilda\\'nın aşkına Leon da karşılık veriyor ve sevgili oluyorlar ama kızın ailesi bu senaryoyu reddettikleri için değiştiriliyor. Senaryo değişmeseydi nasıl olurdu merak etmiyor değilim. Sübyancı bir Leon bu kadar karizmatik olurmuydu acaba. Kız 12 değil 22 yaşında gibiydi. Oyunculuklar muhteşemdi. Leon\\'un kızı eğitme sahneleride çok iyiydi. Kızın, ailesinin ölümü üzerine Leon\\'un zilini çalıp lütfen aç diye sessizce ağlama sahnesinde heycanım zirve yapmıştı. Güzel bir filmdi izlemenizi tavsiye ederim.\\n        \\n            '"
     },
     "metadata": {},
     "output_type": "execute_result",
     "execution_count": 12
    }
   ],
   "source": [
    "# example result\n",
    "data[\"comment\"].values[12]"
   ]
  },
  {
   "cell_type": "code",
   "execution_count": 13,
   "metadata": {
    "pycharm": {
     "is_executing": false
    }
   },
   "outputs": [
    {
     "data": {
      "text/plain": "['bir tarafta ailesini sevmeyen kötü alışkanlıkarı olan yaşında bir kız bir tarafta yalnız tek aktivitesi adam öldürüp evde spor yapmak olan cahil olduğu kadar zeki karizmatik olan bir suikastçi i̇zledikten sonra yaklaşık gün boyunca etkisinden çıkamadığım aklıma geldiğinde filmdi geçirdiğim başyapıttır beğenmediğim pek bir tarafı yok senaryonun orjinalinde mathildanın aşkına leon karşılık veriyor sevgili oluyorlar kızın ailesi senaryoyu reddettikleri değiştiriliyor senaryo değişmeseydi olurdu merak etmiyor değilim sübyancı bir leon kadar karizmatik olurmuydu acaba kız değil yaşında gibiydi oyunculuklar muhteşemdi leonun kızı eğitme sahneleride iyiydi kızın ailesinin ölümü üzerine leonun zilini çalıp lütfen sessizce ağlama sahnesinde heycanım zirve yapmıştı güzel bir filmdi izlemenizi tavsiye ederim']"
     },
     "metadata": {},
     "output_type": "execute_result",
     "execution_count": 13
    }
   ],
   "source": [
    "apply_preprocess_operations_to_corpus([data[\"comment\"].values[12]], preprocess_operations)"
   ]
  },
  {
   "cell_type": "code",
   "execution_count": 14,
   "metadata": {
    "pycharm": {
     "is_executing": false
    }
   },
   "outputs": [
    {
     "name": "stdout",
     "text": [
      "Processed 83183 samples.\n",
      "\n",
      "It's took 0.2490411917368571 minutes.\n"
     ],
     "output_type": "stream"
    }
   ],
   "source": [
    "# apply preprocess operation \n",
    "start = time.time()\n",
    "for operation in preprocess_operations:\n",
    "    data[\"comment\"] = data[\"comment\"].apply(operation)\n",
    "print(f\"Processed {len(data)} samples.\\n\")\n",
    "print(f\"It's took {(time.time()-start) / 60} minutes.\")"
   ]
  },
  {
   "cell_type": "code",
   "execution_count": 15,
   "metadata": {
    "pycharm": {
     "is_executing": false
    }
   },
   "outputs": [
    {
     "name": "stdout",
     "text": [
      "Data is wrote to path C:\\Users\\user\\Desktop\\YL\\1.2\\hesaplamalı_anabilim\\ödev2\\20501001\\20501001\\sentiment_analysis/data/, with name preprocess_movie_sentiment.csv\n"
     ],
     "output_type": "stream"
    }
   ],
   "source": [
    "write_to_csv(\"preprocess_movie_sentiment.csv\", data)"
   ]
  },
  {
   "cell_type": "code",
   "execution_count": 16,
   "metadata": {
    "pycharm": {
     "is_executing": false
    }
   },
   "outputs": [],
   "source": [
    "#plot_wordcloud(data.where(data.sentiment == 1).dropna()[\"comment\"].values, title=\"Movie Data Sentiment Analysis Word Cloud Olumlu\")"
   ]
  },
  {
   "cell_type": "code",
   "execution_count": 17,
   "metadata": {
    "pycharm": {
     "is_executing": false
    }
   },
   "outputs": [],
   "source": [
    "#plot_wordcloud(data.where(data.sentiment == 0).dropna()[\"comment\"].values, title=\"Movie Data Sentiment Analysis Word Cloud Olumsuz\")"
   ]
  },
  {
   "cell_type": "code",
   "execution_count": 17,
   "metadata": {
    "pycharm": {
     "is_executing": false
    }
   },
   "outputs": [],
   "source": []
  }
 ],
 "metadata": {
  "kernelspec": {
   "display_name": "Python 3",
   "language": "python",
   "name": "python3"
  },
  "language_info": {
   "codemirror_mode": {
    "name": "ipython",
    "version": 3
   },
   "file_extension": ".py",
   "mimetype": "text/x-python",
   "name": "python",
   "nbconvert_exporter": "python",
   "pygments_lexer": "ipython3",
   "version": "3.7.7"
  },
  "pycharm": {
   "stem_cell": {
    "cell_type": "raw",
    "source": [],
    "metadata": {
     "collapsed": false
    }
   }
  }
 },
 "nbformat": 4,
 "nbformat_minor": 1
}