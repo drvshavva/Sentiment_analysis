{
  "nbformat": 4,
  "nbformat_minor": 0,
  "metadata": {
    "colab": {
      "name": "movie_rw_doc2vec_benchmark.ipynb ",
      "provenance": [],
      "machine_shape": "hm"
    },
    "kernelspec": {
      "name": "python3",
      "display_name": "Python 3"
    },
    "language_info": {
      "name": "python"
    }
  },
  "cells": [
    {
      "cell_type": "code",
      "metadata": {
        "colab": {
          "base_uri": "https://localhost:8080/"
        },
        "id": "8YxwpjDU0-DP",
        "outputId": "8ce00e60-2de4-4595-a788-b52e13067ed5"
      },
      "source": [
        "# import libraries\n",
        "from gensim.models import Doc2Vec\n",
        "import gensim\n",
        "from gensim.models.doc2vec import TaggedDocument\n",
        "import multiprocessing\n",
        "from sklearn import utils\n",
        "import pandas as pd\n",
        "from gensim.models.phrases import Phrases, Phraser\n",
        "import numpy as np\n",
        "import xgboost \n",
        "from tqdm import tqdm\n",
        "from sklearn.model_selection import train_test_split\n",
        "tqdm.pandas(desc=\"progress-bar\")\n",
        "from sklearn import model_selection, preprocessing, linear_model, naive_bayes, metrics, svm\n",
        "from sklearn import decomposition, ensemble\n",
        "from collections import Counter\n",
        "from nltk import ngrams"
      ],
      "execution_count": null,
      "outputs": [
        {
          "output_type": "stream",
          "text": [
            "/usr/local/lib/python3.7/dist-packages/tqdm/std.py:658: FutureWarning: The Panel class is removed from pandas. Accessing it from the top-level namespace will also be removed in the next version\n",
            "  from pandas import Panel\n"
          ],
          "name": "stderr"
        }
      ]
    },
    {
      "cell_type": "code",
      "metadata": {
        "id": "72Lu7aGp4A19"
      },
      "source": [
        "def classification_report(x_train, x_test, y_train, y_test):\n",
        "  models = []\n",
        "  models.append(('LogisticRegression', linear_model.LogisticRegression(solver='newton-cg',multi_class='multinomial')))\n",
        "  models.append(('RandomForest', ensemble.RandomForestClassifier(n_estimators=100)))\n",
        "\n",
        "  for name, model in models:\n",
        "      clf=model\n",
        "      clf.fit(x_train, y_train)\n",
        "      y_pred=clf.predict(x_test)\n",
        "      print(f\"{name}:\")\n",
        "      print(f\"accuracy: {metrics.accuracy_score(y_pred=y_pred, y_true=y_test)}\")\n",
        "      print(f\"precision: {metrics.precision_score(y_pred=y_pred, y_true=y_test, average='macro')}\")\n",
        "      print(f\"recall: {metrics.recall_score(y_pred=y_pred, y_true=y_test, average='macro')}\")\n",
        "      print(f\"{metrics.classification_report(y_pred=y_pred, y_true=y_test)}\")"
      ],
      "execution_count": null,
      "outputs": []
    },
    {
      "cell_type": "code",
      "metadata": {
        "id": "mXg0RuZAZlwf"
      },
      "source": [
        "def get_word_counts(data):\n",
        "  words = data.tweet.to_string().split()\n",
        "  return Counter(words)\n",
        "  "
      ],
      "execution_count": null,
      "outputs": []
    },
    {
      "cell_type": "code",
      "metadata": {
        "id": "g-O9ZWt4ILoE"
      },
      "source": [
        "# word2vec hyper parameters\n",
        "# min_count = corpusta kelimenin en az bulunma sayısı eğer kelime bu kadardan az geçiyorsa anlam ifade etmediği varsayılır(default=5)\n",
        "# vector_size = kelimelerin ifade edileceği vektörün boyut sayısı\n",
        "# window = current ve predicted word arasındaki maksimum mesafe\n",
        "# sg = 0 cbow, 1 skip-gram\n",
        "# negative = eğer sıfırdan büyük olursa negative sampling kullanılır 5-20 arasında olmalı\n",
        "# alpha = başlangıç learning rate\n",
        "# min_alpha = eğitim aşamasında learning rate linear olarak bunu düşer\n",
        "# epoch = iterasyon sayısı\n"
      ],
      "execution_count": null,
      "outputs": []
    },
    {
      "cell_type": "code",
      "metadata": {
        "id": "lCziQoyb0qbe"
      },
      "source": [
        "def labelize_tweets_ug(tweets,label):\n",
        "    result = []\n",
        "    prefix = label\n",
        "    for i, t in zip(tweets.index, tweets):\n",
        "        result.append(TaggedDocument(t.split(), [prefix + '_%s' % i]))\n",
        "    return result"
      ],
      "execution_count": null,
      "outputs": []
    },
    {
      "cell_type": "code",
      "metadata": {
        "id": "NPao5rpSYA_2"
      },
      "source": [
        "def train_doc2vec(corpus, n_epoch, name_corpus, vector_size, negative, window, min_count, alpha, min_alpha):\n",
        "  cores = multiprocessing.cpu_count()\n",
        "  model = Doc2Vec(size=vector_size, negative=negative, window=window, min_count=min_count, workers=cores, alpha=alpha, min_alpha=min_alpha)\n",
        "  model.build_vocab(corpus)\n",
        "\n",
        "  for epoch in range(n_epoch):\n",
        "    model.train(utils.shuffle(corpus), total_examples=len(corpus), epochs=1)\n",
        "    model.alpha -= 0.002\n",
        "    model.min_alpha = model.alpha\n",
        "\n",
        "  model.save(f\"/content/drive/MyDrive/hesaplamalı_anlambilim_ödev/trained_embeddings/Doc2Vec_{name_corpus}_size_{vector_size}_window_{window}_min_count_{min_count}.model\")\n",
        "  return model"
      ],
      "execution_count": null,
      "outputs": []
    },
    {
      "cell_type": "code",
      "metadata": {
        "id": "vL63uMQfkxrK"
      },
      "source": [
        "def get_mean_vector(model, words):\n",
        "    # remove out-of-vocabulary words\n",
        "    words = [word for word in words if word in model.wv]\n",
        "    if len(words) >= 1:\n",
        "        return np.mean(model[words], axis=0)\n",
        "    else:\n",
        "        return np.zeros((1, model.vector_size))"
      ],
      "execution_count": null,
      "outputs": []
    },
    {
      "cell_type": "code",
      "metadata": {
        "id": "oVMy-vj1lQQm"
      },
      "source": [
        "def get_vectors(model, corpus):\n",
        "  vectors = []\n",
        "  for sentence in corpus:\n",
        "      vec = get_mean_vector(model, sentence)\n",
        "      vectors.append(vec)\n",
        "  return vectors"
      ],
      "execution_count": null,
      "outputs": []
    },
    {
      "cell_type": "code",
      "metadata": {
        "id": "ULEuRdQeqyzs"
      },
      "source": [
        "def get_max_len_sentence(series):\n",
        "  res = series.str.split().str.len().max()\n",
        "\n",
        "  print(f\"The maximum length in words are : {res}\") "
      ],
      "execution_count": null,
      "outputs": []
    },
    {
      "cell_type": "code",
      "metadata": {
        "id": "aWfrOSNVl3U-"
      },
      "source": [
        "data = pd.read_csv(\"/content/drive/MyDrive/hesaplamalı_anlambilim_ödev/preprocess_movie_sentiment.csv\")"
      ],
      "execution_count": null,
      "outputs": []
    },
    {
      "cell_type": "code",
      "metadata": {
        "id": "jR7vZvjFmJHN"
      },
      "source": [
        "data.dropna(inplace=True)\n",
        "data.reset_index(drop=True,inplace=True)\n",
        "\n",
        "x=data.comment\n",
        "y=data.sentiment.values\n",
        "\n",
        "x_train, x_test, y_train, y_test = train_test_split(x, y, test_size=0.2, random_state=42)"
      ],
      "execution_count": null,
      "outputs": []
    },
    {
      "cell_type": "code",
      "metadata": {
        "id": "fKY4-aLTmMBM"
      },
      "source": [
        "corpus = labelize_tweets_ug(x, 'all')"
      ],
      "execution_count": null,
      "outputs": []
    },
    {
      "cell_type": "code",
      "metadata": {
        "id": "Hnxp9_tbv5Gq"
      },
      "source": [
        "corpus_train = pd.DataFrame(x_train)['comment'].apply(lambda x: x.split())\n",
        "corpus_test = pd.DataFrame(x_test)['comment'].apply(lambda x: x.split())"
      ],
      "execution_count": null,
      "outputs": []
    },
    {
      "cell_type": "code",
      "metadata": {
        "id": "MOvAfCWonIDg"
      },
      "source": [
        "# min_count = corpusta kelimenin en az bulunma sayısı eğer kelime bu kadardan az geçiyorsa anlam ifade etmediği varsayılır(default=5)\n",
        "# vector_size = kelimelerin ifade edileceği vektörün boyut sayısı\n",
        "# window = current ve predicted word arasındaki maksimum mesafe\n",
        "# sg = 0 cbow, 1 skip-gram\n",
        "# negative = eğer sıfırdan büyük olursa negative sampling kullanılır 5-20 arasında olmalı\n",
        "# alpha = başlangıç learning rate\n",
        "# min_alpha = eğitim aşamasında learning rate linear olarak bunu düşer\n",
        "# epoch = iterasyon sayısı"
      ],
      "execution_count": null,
      "outputs": []
    },
    {
      "cell_type": "markdown",
      "metadata": {
        "id": "4LoeKUIrq3-C"
      },
      "source": [
        "# sg=0 epoch=25 negative=5 için (sg karar vermek için ilk deneme ikisi için yapılacak)\n",
        "# alpha 0.5 0.01 0.05 0.1 her biri window = 3, vector_size = 150 kullanılacak \n",
        "# window 3 5 7 her biri alpha = 0.05, vector_size = 150 kullanılacak \n",
        "# vector_size 25 50 150 200 her biri  için window = 3, alpha = 0.05"
      ]
    },
    {
      "cell_type": "code",
      "metadata": {
        "colab": {
          "base_uri": "https://localhost:8080/"
        },
        "id": "XpeTWvLo3oYl",
        "outputId": "f7e1304d-8226-41ba-fc6a-f9adbf2393d7"
      },
      "source": [
        "# deneme 2\n",
        "model_2 = train_doc2vec(corpus=corpus, \n",
        "                         n_epoch=25, \n",
        "                         name_corpus=\"movie\", \n",
        "                         negative=5,\n",
        "                         alpha = 0.5,\n",
        "                         min_alpha = 0.065,\n",
        "                         window = 3,\n",
        "                         vector_size=150,\n",
        "                         min_count=2)"
      ],
      "execution_count": null,
      "outputs": [
        {
          "output_type": "stream",
          "text": [
            "/usr/local/lib/python3.7/dist-packages/gensim/models/doc2vec.py:570: UserWarning: The parameter `size` is deprecated, will be removed in 4.0.0, use `vector_size` instead.\n",
            "  warnings.warn(\"The parameter `size` is deprecated, will be removed in 4.0.0, use `vector_size` instead.\")\n"
          ],
          "name": "stderr"
        }
      ]
    },
    {
      "cell_type": "code",
      "metadata": {
        "colab": {
          "base_uri": "https://localhost:8080/"
        },
        "id": "8rvBQAvG4CK_",
        "outputId": "819fabdf-5b4c-48f8-cce4-12870412d59b"
      },
      "source": [
        "vectors_train = get_vectors(model=model_2,\n",
        "                            corpus=corpus_train)\n",
        "vectors_test = get_vectors(model=model_2,\n",
        "                            corpus=corpus_test)\n",
        "\n",
        "X_train = np.array(vectors_train)\n",
        "X_train = np.vstack(X_train)\n",
        "X_test = np.array(vectors_test)\n",
        "X_test = np.vstack(X_test)"
      ],
      "execution_count": null,
      "outputs": [
        {
          "output_type": "stream",
          "text": [
            "/usr/local/lib/python3.7/dist-packages/ipykernel_launcher.py:6: VisibleDeprecationWarning: Creating an ndarray from ragged nested sequences (which is a list-or-tuple of lists-or-tuples-or ndarrays with different lengths or shapes) is deprecated. If you meant to do this, you must specify 'dtype=object' when creating the ndarray\n",
            "  \n",
            "/usr/local/lib/python3.7/dist-packages/ipykernel_launcher.py:8: VisibleDeprecationWarning: Creating an ndarray from ragged nested sequences (which is a list-or-tuple of lists-or-tuples-or ndarrays with different lengths or shapes) is deprecated. If you meant to do this, you must specify 'dtype=object' when creating the ndarray\n",
            "  \n"
          ],
          "name": "stderr"
        }
      ]
    },
    {
      "cell_type": "code",
      "metadata": {
        "colab": {
          "base_uri": "https://localhost:8080/"
        },
        "id": "h-CEpQeS4jtW",
        "outputId": "5df09ae8-bb02-4a66-d470-300b91252e6c"
      },
      "source": [
        "classification_report(x_train=X_train,\n",
        "                      x_test=X_test,\n",
        "                      y_train=y_train,\n",
        "                      y_test=y_test)"
      ],
      "execution_count": null,
      "outputs": [
        {
          "output_type": "stream",
          "text": [
            "LogisticRegression:\n",
            "accuracy: 0.6858958837772398\n",
            "precision: 0.6848244020587344\n",
            "recall: 0.6832001568611321\n",
            "              precision    recall  f1-score   support\n",
            "\n",
            "           0       0.68      0.64      0.66      7761\n",
            "           1       0.69      0.73      0.71      8759\n",
            "\n",
            "    accuracy                           0.69     16520\n",
            "   macro avg       0.68      0.68      0.68     16520\n",
            "weighted avg       0.69      0.69      0.69     16520\n",
            "\n",
            "RandomForest:\n",
            "accuracy: 0.6478813559322034\n",
            "precision: 0.6463957991434175\n",
            "recall: 0.6446206327376649\n",
            "              precision    recall  f1-score   support\n",
            "\n",
            "           0       0.63      0.59      0.61      7761\n",
            "           1       0.66      0.70      0.68      8759\n",
            "\n",
            "    accuracy                           0.65     16520\n",
            "   macro avg       0.65      0.64      0.64     16520\n",
            "weighted avg       0.65      0.65      0.65     16520\n",
            "\n"
          ],
          "name": "stdout"
        }
      ]
    },
    {
      "cell_type": "markdown",
      "metadata": {
        "id": "wZ8PHNLTtn2R"
      },
      "source": [
        "# alpha(learning rate) = 0.01"
      ]
    },
    {
      "cell_type": "code",
      "metadata": {
        "id": "WtO0gImktIbn",
        "colab": {
          "base_uri": "https://localhost:8080/"
        },
        "outputId": "55216025-1281-40f3-f471-1baf2a110852"
      },
      "source": [
        "model = train_doc2vec(corpus=corpus, \n",
        "                         n_epoch=25, \n",
        "                         name_corpus=\"movie\", \n",
        "                         negative=5,\n",
        "                         alpha = 0.01,\n",
        "                         min_alpha = 0.065,\n",
        "                         window = 3,\n",
        "                         vector_size=150,\n",
        "                         min_count=2)"
      ],
      "execution_count": null,
      "outputs": [
        {
          "output_type": "stream",
          "text": [
            "/usr/local/lib/python3.7/dist-packages/gensim/models/doc2vec.py:570: UserWarning: The parameter `size` is deprecated, will be removed in 4.0.0, use `vector_size` instead.\n",
            "  warnings.warn(\"The parameter `size` is deprecated, will be removed in 4.0.0, use `vector_size` instead.\")\n"
          ],
          "name": "stderr"
        }
      ]
    },
    {
      "cell_type": "code",
      "metadata": {
        "colab": {
          "base_uri": "https://localhost:8080/"
        },
        "id": "mfHkCqRetfmk",
        "outputId": "02f0ae93-83b8-43f4-86c7-b038cb9a5c5e"
      },
      "source": [
        "vectors_train = get_vectors(model=model,\n",
        "                            corpus=corpus_train)\n",
        "vectors_test = get_vectors(model=model,\n",
        "                            corpus=corpus_test)\n",
        "\n",
        "X_train = np.array(vectors_train)\n",
        "X_train = np.vstack(X_train)\n",
        "X_test = np.array(vectors_test)\n",
        "X_test = np.vstack(X_test)"
      ],
      "execution_count": null,
      "outputs": [
        {
          "output_type": "stream",
          "text": [
            "/usr/local/lib/python3.7/dist-packages/ipykernel_launcher.py:6: VisibleDeprecationWarning: Creating an ndarray from ragged nested sequences (which is a list-or-tuple of lists-or-tuples-or ndarrays with different lengths or shapes) is deprecated. If you meant to do this, you must specify 'dtype=object' when creating the ndarray\n",
            "  \n",
            "/usr/local/lib/python3.7/dist-packages/ipykernel_launcher.py:8: VisibleDeprecationWarning: Creating an ndarray from ragged nested sequences (which is a list-or-tuple of lists-or-tuples-or ndarrays with different lengths or shapes) is deprecated. If you meant to do this, you must specify 'dtype=object' when creating the ndarray\n",
            "  \n"
          ],
          "name": "stderr"
        }
      ]
    },
    {
      "cell_type": "code",
      "metadata": {
        "colab": {
          "base_uri": "https://localhost:8080/"
        },
        "id": "I47m7ABgtl-2",
        "outputId": "2cd09cde-6f7f-42e5-d01d-7174f1e745e1"
      },
      "source": [
        "classification_report(x_train=X_train,\n",
        "                      x_test=X_test,\n",
        "                      y_train=y_train,\n",
        "                      y_test=y_test)"
      ],
      "execution_count": null,
      "outputs": [
        {
          "output_type": "stream",
          "text": [
            "LogisticRegression:\n",
            "accuracy: 0.7319007263922518\n",
            "precision: 0.7314123750124597\n",
            "recall: 0.7293661715505493\n",
            "              precision    recall  f1-score   support\n",
            "\n",
            "           0       0.73      0.69      0.71      7761\n",
            "           1       0.74      0.77      0.75      8759\n",
            "\n",
            "    accuracy                           0.73     16520\n",
            "   macro avg       0.73      0.73      0.73     16520\n",
            "weighted avg       0.73      0.73      0.73     16520\n",
            "\n",
            "RandomForest:\n",
            "accuracy: 0.710411622276029\n",
            "precision: 0.7102101939960562\n",
            "recall: 0.7070386078418591\n",
            "              precision    recall  f1-score   support\n",
            "\n",
            "           0       0.71      0.65      0.68      7761\n",
            "           1       0.71      0.76      0.74      8759\n",
            "\n",
            "    accuracy                           0.71     16520\n",
            "   macro avg       0.71      0.71      0.71     16520\n",
            "weighted avg       0.71      0.71      0.71     16520\n",
            "\n"
          ],
          "name": "stdout"
        }
      ]
    },
    {
      "cell_type": "markdown",
      "metadata": {
        "id": "A3NDXq-Vtund"
      },
      "source": [
        "# learning rate 0.05"
      ]
    },
    {
      "cell_type": "code",
      "metadata": {
        "id": "hbd1U86UtxYV",
        "colab": {
          "base_uri": "https://localhost:8080/"
        },
        "outputId": "2dfb8157-e1ef-48e5-c536-65ac5d3bad88"
      },
      "source": [
        "model = train_doc2vec(corpus=corpus, \n",
        "                         n_epoch=25, \n",
        "                         name_corpus=\"movie\", \n",
        "                         negative=5,\n",
        "                         alpha = 0.05,\n",
        "                         min_alpha = 0.065,\n",
        "                         window = 3,\n",
        "                         vector_size=150,\n",
        "                         min_count=2)"
      ],
      "execution_count": null,
      "outputs": [
        {
          "output_type": "stream",
          "text": [
            "/usr/local/lib/python3.7/dist-packages/gensim/models/doc2vec.py:570: UserWarning: The parameter `size` is deprecated, will be removed in 4.0.0, use `vector_size` instead.\n",
            "  warnings.warn(\"The parameter `size` is deprecated, will be removed in 4.0.0, use `vector_size` instead.\")\n"
          ],
          "name": "stderr"
        }
      ]
    },
    {
      "cell_type": "code",
      "metadata": {
        "colab": {
          "base_uri": "https://localhost:8080/"
        },
        "id": "Mk53FKIjt0B3",
        "outputId": "be41b616-bc3a-4d0c-b6a3-42538cd33427"
      },
      "source": [
        "vectors_train = get_vectors(model=model,\n",
        "                            corpus=corpus_train)\n",
        "vectors_test = get_vectors(model=model,\n",
        "                            corpus=corpus_test)\n",
        "\n",
        "X_train = np.array(vectors_train)\n",
        "X_train = np.vstack(X_train)\n",
        "X_test = np.array(vectors_test)\n",
        "X_test = np.vstack(X_test)"
      ],
      "execution_count": null,
      "outputs": [
        {
          "output_type": "stream",
          "text": [
            "/usr/local/lib/python3.7/dist-packages/ipykernel_launcher.py:6: VisibleDeprecationWarning: Creating an ndarray from ragged nested sequences (which is a list-or-tuple of lists-or-tuples-or ndarrays with different lengths or shapes) is deprecated. If you meant to do this, you must specify 'dtype=object' when creating the ndarray\n",
            "  \n",
            "/usr/local/lib/python3.7/dist-packages/ipykernel_launcher.py:8: VisibleDeprecationWarning: Creating an ndarray from ragged nested sequences (which is a list-or-tuple of lists-or-tuples-or ndarrays with different lengths or shapes) is deprecated. If you meant to do this, you must specify 'dtype=object' when creating the ndarray\n",
            "  \n"
          ],
          "name": "stderr"
        }
      ]
    },
    {
      "cell_type": "code",
      "metadata": {
        "colab": {
          "base_uri": "https://localhost:8080/"
        },
        "id": "fRRL4cFQt4Oo",
        "outputId": "ee1bfded-a79f-45d6-93fe-67c9fc737a39"
      },
      "source": [
        "classification_report(x_train=X_train,\n",
        "                      x_test=X_test,\n",
        "                      y_train=y_train,\n",
        "                      y_test=y_test)"
      ],
      "execution_count": null,
      "outputs": [
        {
          "output_type": "stream",
          "text": [
            "LogisticRegression:\n",
            "accuracy: 0.737590799031477\n",
            "precision: 0.7369069060180697\n",
            "recall: 0.7354881570889685\n",
            "              precision    recall  f1-score   support\n",
            "\n",
            "           0       0.73      0.70      0.72      7761\n",
            "           1       0.74      0.77      0.76      8759\n",
            "\n",
            "    accuracy                           0.74     16520\n",
            "   macro avg       0.74      0.74      0.74     16520\n",
            "weighted avg       0.74      0.74      0.74     16520\n",
            "\n",
            "RandomForest:\n",
            "accuracy: 0.7128934624697336\n",
            "precision: 0.7121486782061617\n",
            "recall: 0.7103186474908081\n",
            "              precision    recall  f1-score   support\n",
            "\n",
            "           0       0.71      0.67      0.69      7761\n",
            "           1       0.72      0.75      0.74      8759\n",
            "\n",
            "    accuracy                           0.71     16520\n",
            "   macro avg       0.71      0.71      0.71     16520\n",
            "weighted avg       0.71      0.71      0.71     16520\n",
            "\n"
          ],
          "name": "stdout"
        }
      ]
    },
    {
      "cell_type": "markdown",
      "metadata": {
        "id": "iz0iXMrlt5Fw"
      },
      "source": [
        "# learning rate 0.1"
      ]
    },
    {
      "cell_type": "code",
      "metadata": {
        "id": "Y67dlPnSt8GK",
        "colab": {
          "base_uri": "https://localhost:8080/"
        },
        "outputId": "b78493d7-a634-4cb3-d807-0ac03ed56862"
      },
      "source": [
        "model = train_doc2vec(corpus=corpus, \n",
        "                         n_epoch=25, \n",
        "                         name_corpus=\"movie\", \n",
        "                         negative=5,\n",
        "                         alpha = 0.1,\n",
        "                         min_alpha = 0.065,\n",
        "                         window = 3,\n",
        "                         vector_size=150,\n",
        "                         min_count=2)"
      ],
      "execution_count": null,
      "outputs": [
        {
          "output_type": "stream",
          "text": [
            "/usr/local/lib/python3.7/dist-packages/gensim/models/doc2vec.py:570: UserWarning: The parameter `size` is deprecated, will be removed in 4.0.0, use `vector_size` instead.\n",
            "  warnings.warn(\"The parameter `size` is deprecated, will be removed in 4.0.0, use `vector_size` instead.\")\n"
          ],
          "name": "stderr"
        }
      ]
    },
    {
      "cell_type": "code",
      "metadata": {
        "colab": {
          "base_uri": "https://localhost:8080/"
        },
        "id": "zColPCbsuE5k",
        "outputId": "7bfa23e3-4773-4355-98db-2815a04a9ca4"
      },
      "source": [
        "vectors_train = get_vectors(model=model,\n",
        "                            corpus=corpus_train)\n",
        "vectors_test = get_vectors(model=model,\n",
        "                            corpus=corpus_test)\n",
        "\n",
        "X_train = np.array(vectors_train)\n",
        "X_train = np.vstack(X_train)\n",
        "X_test = np.array(vectors_test)\n",
        "X_test = np.vstack(X_test)"
      ],
      "execution_count": null,
      "outputs": [
        {
          "output_type": "stream",
          "text": [
            "/usr/local/lib/python3.7/dist-packages/ipykernel_launcher.py:6: VisibleDeprecationWarning: Creating an ndarray from ragged nested sequences (which is a list-or-tuple of lists-or-tuples-or ndarrays with different lengths or shapes) is deprecated. If you meant to do this, you must specify 'dtype=object' when creating the ndarray\n",
            "  \n",
            "/usr/local/lib/python3.7/dist-packages/ipykernel_launcher.py:8: VisibleDeprecationWarning: Creating an ndarray from ragged nested sequences (which is a list-or-tuple of lists-or-tuples-or ndarrays with different lengths or shapes) is deprecated. If you meant to do this, you must specify 'dtype=object' when creating the ndarray\n",
            "  \n"
          ],
          "name": "stderr"
        }
      ]
    },
    {
      "cell_type": "code",
      "metadata": {
        "colab": {
          "base_uri": "https://localhost:8080/"
        },
        "id": "pV5tAPDnuJm7",
        "outputId": "0665fc64-ffe6-4039-9378-6f60c932c929"
      },
      "source": [
        "classification_report(x_train=X_train,\n",
        "                      x_test=X_test,\n",
        "                      y_train=y_train,\n",
        "                      y_test=y_test)"
      ],
      "execution_count": null,
      "outputs": [
        {
          "output_type": "stream",
          "text": [
            "LogisticRegression:\n",
            "accuracy: 0.7199757869249395\n",
            "precision: 0.7190597934978965\n",
            "recall: 0.717966444115743\n",
            "              precision    recall  f1-score   support\n",
            "\n",
            "           0       0.71      0.68      0.70      7761\n",
            "           1       0.73      0.75      0.74      8759\n",
            "\n",
            "    accuracy                           0.72     16520\n",
            "   macro avg       0.72      0.72      0.72     16520\n",
            "weighted avg       0.72      0.72      0.72     16520\n",
            "\n",
            "RandomForest:\n",
            "accuracy: 0.686319612590799\n",
            "precision: 0.6855399086109003\n",
            "recall: 0.6830418643961756\n",
            "              precision    recall  f1-score   support\n",
            "\n",
            "           0       0.68      0.63      0.65      7761\n",
            "           1       0.69      0.74      0.71      8759\n",
            "\n",
            "    accuracy                           0.69     16520\n",
            "   macro avg       0.69      0.68      0.68     16520\n",
            "weighted avg       0.69      0.69      0.69     16520\n",
            "\n"
          ],
          "name": "stdout"
        }
      ]
    },
    {
      "cell_type": "markdown",
      "metadata": {
        "id": "bx4bPZ2_uVfy"
      },
      "source": [
        "# window = 3"
      ]
    },
    {
      "cell_type": "code",
      "metadata": {
        "colab": {
          "base_uri": "https://localhost:8080/"
        },
        "id": "QqXWkzvUuUeK",
        "outputId": "8805696c-1bf7-4d28-ca87-472c5324f65b"
      },
      "source": [
        "model = train_doc2vec(corpus=corpus, \n",
        "                         n_epoch=25, \n",
        "                         name_corpus=\"movie\", \n",
        "                         negative=5,\n",
        "                         alpha = 0.05,\n",
        "                         min_alpha = 0.065,\n",
        "                         window = 3,\n",
        "                         vector_size=150,\n",
        "                         min_count=2)"
      ],
      "execution_count": null,
      "outputs": [
        {
          "output_type": "stream",
          "text": [
            "/usr/local/lib/python3.7/dist-packages/gensim/models/doc2vec.py:570: UserWarning: The parameter `size` is deprecated, will be removed in 4.0.0, use `vector_size` instead.\n",
            "  warnings.warn(\"The parameter `size` is deprecated, will be removed in 4.0.0, use `vector_size` instead.\")\n"
          ],
          "name": "stderr"
        }
      ]
    },
    {
      "cell_type": "code",
      "metadata": {
        "colab": {
          "base_uri": "https://localhost:8080/"
        },
        "id": "xPBRjqXzul1G",
        "outputId": "8255e631-1e25-4703-d100-4e5f71571185"
      },
      "source": [
        "vectors_train = get_vectors(model=model,\n",
        "                            corpus=corpus_train)\n",
        "vectors_test = get_vectors(model=model,\n",
        "                            corpus=corpus_test)\n",
        "\n",
        "X_train = np.array(vectors_train)\n",
        "X_train = np.vstack(X_train)\n",
        "X_test = np.array(vectors_test)\n",
        "X_test = np.vstack(X_test)"
      ],
      "execution_count": null,
      "outputs": [
        {
          "output_type": "stream",
          "text": [
            "/usr/local/lib/python3.7/dist-packages/ipykernel_launcher.py:6: VisibleDeprecationWarning: Creating an ndarray from ragged nested sequences (which is a list-or-tuple of lists-or-tuples-or ndarrays with different lengths or shapes) is deprecated. If you meant to do this, you must specify 'dtype=object' when creating the ndarray\n",
            "  \n",
            "/usr/local/lib/python3.7/dist-packages/ipykernel_launcher.py:8: VisibleDeprecationWarning: Creating an ndarray from ragged nested sequences (which is a list-or-tuple of lists-or-tuples-or ndarrays with different lengths or shapes) is deprecated. If you meant to do this, you must specify 'dtype=object' when creating the ndarray\n",
            "  \n"
          ],
          "name": "stderr"
        }
      ]
    },
    {
      "cell_type": "code",
      "metadata": {
        "colab": {
          "base_uri": "https://localhost:8080/"
        },
        "id": "CIYqGZ4_uoFm",
        "outputId": "85de93a8-93a9-4608-f28c-5349f7e36b49"
      },
      "source": [
        "classification_report(x_train=X_train,\n",
        "                      x_test=X_test,\n",
        "                      y_train=y_train,\n",
        "                      y_test=y_test)"
      ],
      "execution_count": null,
      "outputs": [
        {
          "output_type": "stream",
          "text": [
            "LogisticRegression:\n",
            "accuracy: 0.7348062953995157\n",
            "precision: 0.7340274702293081\n",
            "recall: 0.732832924373743\n",
            "              precision    recall  f1-score   support\n",
            "\n",
            "           0       0.73      0.70      0.71      7761\n",
            "           1       0.74      0.77      0.75      8759\n",
            "\n",
            "    accuracy                           0.73     16520\n",
            "   macro avg       0.73      0.73      0.73     16520\n",
            "weighted avg       0.73      0.73      0.73     16520\n",
            "\n",
            "RandomForest:\n",
            "accuracy: 0.7142857142857143\n",
            "precision: 0.7135902722973366\n",
            "recall: 0.7116609449394508\n",
            "              precision    recall  f1-score   support\n",
            "\n",
            "           0       0.71      0.67      0.69      7761\n",
            "           1       0.72      0.76      0.74      8759\n",
            "\n",
            "    accuracy                           0.71     16520\n",
            "   macro avg       0.71      0.71      0.71     16520\n",
            "weighted avg       0.71      0.71      0.71     16520\n",
            "\n"
          ],
          "name": "stdout"
        }
      ]
    },
    {
      "cell_type": "markdown",
      "metadata": {
        "id": "Uo8XEx9KupRg"
      },
      "source": [
        "# window size = 5"
      ]
    },
    {
      "cell_type": "code",
      "metadata": {
        "id": "Q_LfAvpEutjk",
        "colab": {
          "base_uri": "https://localhost:8080/"
        },
        "outputId": "7c40e3f6-dca7-4954-eaaa-e75c7636cde3"
      },
      "source": [
        "model = train_doc2vec(corpus=corpus, \n",
        "                         n_epoch=25, \n",
        "                         name_corpus=\"movie\", \n",
        "                         negative=5,\n",
        "                         alpha = 0.05,\n",
        "                         min_alpha = 0.065,\n",
        "                         window = 5,\n",
        "                         vector_size=150,\n",
        "                         min_count=2)"
      ],
      "execution_count": null,
      "outputs": [
        {
          "output_type": "stream",
          "text": [
            "/usr/local/lib/python3.7/dist-packages/gensim/models/doc2vec.py:570: UserWarning: The parameter `size` is deprecated, will be removed in 4.0.0, use `vector_size` instead.\n",
            "  warnings.warn(\"The parameter `size` is deprecated, will be removed in 4.0.0, use `vector_size` instead.\")\n"
          ],
          "name": "stderr"
        }
      ]
    },
    {
      "cell_type": "code",
      "metadata": {
        "colab": {
          "base_uri": "https://localhost:8080/"
        },
        "id": "Ph8qFhMYuvMk",
        "outputId": "23579239-d877-4981-be7c-df87e3e725ad"
      },
      "source": [
        "vectors_train = get_vectors(model=model,\n",
        "                            corpus=corpus_train)\n",
        "vectors_test = get_vectors(model=model,\n",
        "                            corpus=corpus_test)\n",
        "\n",
        "X_train = np.array(vectors_train)\n",
        "X_train = np.vstack(X_train)\n",
        "X_test = np.array(vectors_test)\n",
        "X_test = np.vstack(X_test)\n",
        "\n",
        "classification_report(x_train=X_train,\n",
        "                      x_test=X_test,\n",
        "                      y_train=y_train,\n",
        "                      y_test=y_test)"
      ],
      "execution_count": null,
      "outputs": [
        {
          "output_type": "stream",
          "text": [
            "/usr/local/lib/python3.7/dist-packages/ipykernel_launcher.py:6: VisibleDeprecationWarning: Creating an ndarray from ragged nested sequences (which is a list-or-tuple of lists-or-tuples-or ndarrays with different lengths or shapes) is deprecated. If you meant to do this, you must specify 'dtype=object' when creating the ndarray\n",
            "  \n",
            "/usr/local/lib/python3.7/dist-packages/ipykernel_launcher.py:8: VisibleDeprecationWarning: Creating an ndarray from ragged nested sequences (which is a list-or-tuple of lists-or-tuples-or ndarrays with different lengths or shapes) is deprecated. If you meant to do this, you must specify 'dtype=object' when creating the ndarray\n",
            "  \n"
          ],
          "name": "stderr"
        },
        {
          "output_type": "stream",
          "text": [
            "LogisticRegression:\n",
            "accuracy: 0.738680387409201\n",
            "precision: 0.7379719828611503\n",
            "recall: 0.7366478014646933\n",
            "              precision    recall  f1-score   support\n",
            "\n",
            "           0       0.73      0.70      0.72      7761\n",
            "           1       0.75      0.77      0.76      8759\n",
            "\n",
            "    accuracy                           0.74     16520\n",
            "   macro avg       0.74      0.74      0.74     16520\n",
            "weighted avg       0.74      0.74      0.74     16520\n",
            "\n",
            "RandomForest:\n",
            "accuracy: 0.7157990314769975\n",
            "precision: 0.715250309842179\n",
            "recall: 0.7129852808528755\n",
            "              precision    recall  f1-score   support\n",
            "\n",
            "           0       0.71      0.67      0.69      7761\n",
            "           1       0.72      0.76      0.74      8759\n",
            "\n",
            "    accuracy                           0.72     16520\n",
            "   macro avg       0.72      0.71      0.71     16520\n",
            "weighted avg       0.72      0.72      0.72     16520\n",
            "\n"
          ],
          "name": "stdout"
        }
      ]
    },
    {
      "cell_type": "markdown",
      "metadata": {
        "id": "q71fQ3vbu2eC"
      },
      "source": [
        "# window size = 7"
      ]
    },
    {
      "cell_type": "code",
      "metadata": {
        "colab": {
          "base_uri": "https://localhost:8080/"
        },
        "id": "40kIrtDbu1R2",
        "outputId": "c87ce7d9-d56e-4076-9746-9ae3d0cdcb89"
      },
      "source": [
        "model = train_doc2vec(corpus=corpus, \n",
        "                         n_epoch=25, \n",
        "                         name_corpus=\"movie\", \n",
        "                         negative=5,\n",
        "                         alpha = 0.05,\n",
        "                         min_alpha = 0.065,\n",
        "                         window = 7,\n",
        "                         vector_size=150,\n",
        "                         min_count=2)\n",
        "\n",
        "\n",
        "vectors_train = get_vectors(model=model,\n",
        "                            corpus=corpus_train)\n",
        "vectors_test = get_vectors(model=model,\n",
        "                            corpus=corpus_test)\n",
        "\n",
        "X_train = np.array(vectors_train)\n",
        "X_train = np.vstack(X_train)\n",
        "X_test = np.array(vectors_test)\n",
        "X_test = np.vstack(X_test)\n",
        "\n",
        "classification_report(x_train=X_train,\n",
        "                      x_test=X_test,\n",
        "                      y_train=y_train,\n",
        "                      y_test=y_test)"
      ],
      "execution_count": null,
      "outputs": [
        {
          "output_type": "stream",
          "text": [
            "/usr/local/lib/python3.7/dist-packages/gensim/models/doc2vec.py:570: UserWarning: The parameter `size` is deprecated, will be removed in 4.0.0, use `vector_size` instead.\n",
            "  warnings.warn(\"The parameter `size` is deprecated, will be removed in 4.0.0, use `vector_size` instead.\")\n",
            "/usr/local/lib/python3.7/dist-packages/ipykernel_launcher.py:17: VisibleDeprecationWarning: Creating an ndarray from ragged nested sequences (which is a list-or-tuple of lists-or-tuples-or ndarrays with different lengths or shapes) is deprecated. If you meant to do this, you must specify 'dtype=object' when creating the ndarray\n",
            "/usr/local/lib/python3.7/dist-packages/ipykernel_launcher.py:19: VisibleDeprecationWarning: Creating an ndarray from ragged nested sequences (which is a list-or-tuple of lists-or-tuples-or ndarrays with different lengths or shapes) is deprecated. If you meant to do this, you must specify 'dtype=object' when creating the ndarray\n"
          ],
          "name": "stderr"
        },
        {
          "output_type": "stream",
          "text": [
            "LogisticRegression:\n",
            "accuracy: 0.7428571428571429\n",
            "precision: 0.7421934793808618\n",
            "recall: 0.7408288452664344\n",
            "              precision    recall  f1-score   support\n",
            "\n",
            "           0       0.74      0.71      0.72      7761\n",
            "           1       0.75      0.77      0.76      8759\n",
            "\n",
            "    accuracy                           0.74     16520\n",
            "   macro avg       0.74      0.74      0.74     16520\n",
            "weighted avg       0.74      0.74      0.74     16520\n",
            "\n",
            "RandomForest:\n",
            "accuracy: 0.7187046004842615\n",
            "precision: 0.7181256061203951\n",
            "recall: 0.716004260399659\n",
            "              precision    recall  f1-score   support\n",
            "\n",
            "           0       0.71      0.67      0.69      7761\n",
            "           1       0.72      0.76      0.74      8759\n",
            "\n",
            "    accuracy                           0.72     16520\n",
            "   macro avg       0.72      0.72      0.72     16520\n",
            "weighted avg       0.72      0.72      0.72     16520\n",
            "\n"
          ],
          "name": "stdout"
        }
      ]
    },
    {
      "cell_type": "code",
      "metadata": {
        "id": "WMnCFd1vu-yL"
      },
      "source": [
        ""
      ],
      "execution_count": null,
      "outputs": []
    },
    {
      "cell_type": "markdown",
      "metadata": {
        "id": "MMEjCkh9vC9D"
      },
      "source": [
        "# vector size = 25\n"
      ]
    },
    {
      "cell_type": "code",
      "metadata": {
        "colab": {
          "base_uri": "https://localhost:8080/"
        },
        "id": "d2bHOBPlvF_A",
        "outputId": "d393f900-dd60-4696-f779-1390e3758f7b"
      },
      "source": [
        "model = train_doc2vec(corpus=corpus, \n",
        "                         n_epoch=25, \n",
        "                         name_corpus=\"movie\", \n",
        "                         negative=5,\n",
        "                         alpha = 0.05,\n",
        "                         min_alpha = 0.065,\n",
        "                         window = 3,\n",
        "                         vector_size=25,\n",
        "                         min_count=2)\n",
        "\n",
        "\n",
        "vectors_train = get_vectors(model=model,\n",
        "                            corpus=corpus_train)\n",
        "vectors_test = get_vectors(model=model,\n",
        "                            corpus=corpus_test)\n",
        "\n",
        "X_train = np.array(vectors_train)\n",
        "X_train = np.vstack(X_train)\n",
        "X_test = np.array(vectors_test)\n",
        "X_test = np.vstack(X_test)\n",
        "\n",
        "classification_report(x_train=X_train,\n",
        "                      x_test=X_test,\n",
        "                      y_train=y_train,\n",
        "                      y_test=y_test)"
      ],
      "execution_count": null,
      "outputs": [
        {
          "output_type": "stream",
          "text": [
            "/usr/local/lib/python3.7/dist-packages/gensim/models/doc2vec.py:570: UserWarning: The parameter `size` is deprecated, will be removed in 4.0.0, use `vector_size` instead.\n",
            "  warnings.warn(\"The parameter `size` is deprecated, will be removed in 4.0.0, use `vector_size` instead.\")\n",
            "/usr/local/lib/python3.7/dist-packages/ipykernel_launcher.py:17: VisibleDeprecationWarning: Creating an ndarray from ragged nested sequences (which is a list-or-tuple of lists-or-tuples-or ndarrays with different lengths or shapes) is deprecated. If you meant to do this, you must specify 'dtype=object' when creating the ndarray\n",
            "/usr/local/lib/python3.7/dist-packages/ipykernel_launcher.py:19: VisibleDeprecationWarning: Creating an ndarray from ragged nested sequences (which is a list-or-tuple of lists-or-tuples-or ndarrays with different lengths or shapes) is deprecated. If you meant to do this, you must specify 'dtype=object' when creating the ndarray\n"
          ],
          "name": "stderr"
        },
        {
          "output_type": "stream",
          "text": [
            "LogisticRegression:\n",
            "accuracy: 0.7179782082324455\n",
            "precision: 0.7170833428016317\n",
            "recall: 0.715855110517944\n",
            "              precision    recall  f1-score   support\n",
            "\n",
            "           0       0.71      0.68      0.69      7761\n",
            "           1       0.73      0.75      0.74      8759\n",
            "\n",
            "    accuracy                           0.72     16520\n",
            "   macro avg       0.72      0.72      0.72     16520\n",
            "weighted avg       0.72      0.72      0.72     16520\n",
            "\n",
            "RandomForest:\n",
            "accuracy: 0.7110774818401937\n",
            "precision: 0.7104708641702606\n",
            "recall: 0.7082317554087869\n",
            "              precision    recall  f1-score   support\n",
            "\n",
            "           0       0.71      0.66      0.68      7761\n",
            "           1       0.72      0.76      0.73      8759\n",
            "\n",
            "    accuracy                           0.71     16520\n",
            "   macro avg       0.71      0.71      0.71     16520\n",
            "weighted avg       0.71      0.71      0.71     16520\n",
            "\n"
          ],
          "name": "stdout"
        }
      ]
    },
    {
      "cell_type": "markdown",
      "metadata": {
        "id": "0LYFwoQ9vRIM"
      },
      "source": [
        "# vector  size = 50"
      ]
    },
    {
      "cell_type": "code",
      "metadata": {
        "colab": {
          "base_uri": "https://localhost:8080/"
        },
        "id": "WwCctArMvT7J",
        "outputId": "208668e0-5a98-4de7-f5ad-d9cb010382c1"
      },
      "source": [
        "model = train_doc2vec(corpus=corpus, \n",
        "                         n_epoch=25, \n",
        "                         name_corpus=\"movie\", \n",
        "                         negative=5,\n",
        "                         alpha = 0.05,\n",
        "                         min_alpha = 0.065,\n",
        "                         window = 3,\n",
        "                         vector_size=50,\n",
        "                         min_count=2)\n",
        "\n",
        "\n",
        "vectors_train = get_vectors(model=model,\n",
        "                            corpus=corpus_train)\n",
        "vectors_test = get_vectors(model=model,\n",
        "                            corpus=corpus_test)\n",
        "\n",
        "X_train = np.array(vectors_train)\n",
        "X_train = np.vstack(X_train)\n",
        "X_test = np.array(vectors_test)\n",
        "X_test = np.vstack(X_test)\n",
        "\n",
        "classification_report(x_train=X_train,\n",
        "                      x_test=X_test,\n",
        "                      y_train=y_train,\n",
        "                      y_test=y_test)"
      ],
      "execution_count": null,
      "outputs": [
        {
          "output_type": "stream",
          "text": [
            "/usr/local/lib/python3.7/dist-packages/gensim/models/doc2vec.py:570: UserWarning: The parameter `size` is deprecated, will be removed in 4.0.0, use `vector_size` instead.\n",
            "  warnings.warn(\"The parameter `size` is deprecated, will be removed in 4.0.0, use `vector_size` instead.\")\n",
            "/usr/local/lib/python3.7/dist-packages/ipykernel_launcher.py:17: VisibleDeprecationWarning: Creating an ndarray from ragged nested sequences (which is a list-or-tuple of lists-or-tuples-or ndarrays with different lengths or shapes) is deprecated. If you meant to do this, you must specify 'dtype=object' when creating the ndarray\n",
            "/usr/local/lib/python3.7/dist-packages/ipykernel_launcher.py:19: VisibleDeprecationWarning: Creating an ndarray from ragged nested sequences (which is a list-or-tuple of lists-or-tuples-or ndarrays with different lengths or shapes) is deprecated. If you meant to do this, you must specify 'dtype=object' when creating the ndarray\n"
          ],
          "name": "stderr"
        },
        {
          "output_type": "stream",
          "text": [
            "LogisticRegression:\n",
            "accuracy: 0.7265133171912833\n",
            "precision: 0.7257033627517911\n",
            "recall: 0.7244104721840472\n",
            "              precision    recall  f1-score   support\n",
            "\n",
            "           0       0.72      0.69      0.70      7761\n",
            "           1       0.73      0.76      0.75      8759\n",
            "\n",
            "    accuracy                           0.73     16520\n",
            "   macro avg       0.73      0.72      0.72     16520\n",
            "weighted avg       0.73      0.73      0.73     16520\n",
            "\n",
            "RandomForest:\n",
            "accuracy: 0.7139830508474576\n",
            "precision: 0.7135425240389827\n",
            "recall: 0.7109791347715183\n",
            "              precision    recall  f1-score   support\n",
            "\n",
            "           0       0.71      0.66      0.68      7761\n",
            "           1       0.72      0.76      0.74      8759\n",
            "\n",
            "    accuracy                           0.71     16520\n",
            "   macro avg       0.71      0.71      0.71     16520\n",
            "weighted avg       0.71      0.71      0.71     16520\n",
            "\n"
          ],
          "name": "stdout"
        }
      ]
    },
    {
      "cell_type": "markdown",
      "metadata": {
        "id": "V0bBqXNivhF6"
      },
      "source": [
        "# vector size = 100"
      ]
    },
    {
      "cell_type": "code",
      "metadata": {
        "colab": {
          "base_uri": "https://localhost:8080/"
        },
        "id": "ElhiDOD8vmHo",
        "outputId": "96914e68-d3aa-405c-eea7-4afbd140a0ff"
      },
      "source": [
        "model = train_doc2vec(corpus=corpus, \n",
        "                         n_epoch=25, \n",
        "                         name_corpus=\"movie\", \n",
        "                         negative=5,\n",
        "                         alpha = 0.05,\n",
        "                         min_alpha = 0.065,\n",
        "                         window = 3,\n",
        "                         vector_size=100,\n",
        "                         min_count=2)\n",
        "\n",
        "\n",
        "vectors_train = get_vectors(model=model,\n",
        "                            corpus=corpus_train)\n",
        "vectors_test = get_vectors(model=model,\n",
        "                            corpus=corpus_test)\n",
        "\n",
        "X_train = np.array(vectors_train)\n",
        "X_train = np.vstack(X_train)\n",
        "X_test = np.array(vectors_test)\n",
        "X_test = np.vstack(X_test)\n",
        "\n",
        "classification_report(x_train=X_train,\n",
        "                      x_test=X_test,\n",
        "                      y_train=y_train,\n",
        "                      y_test=y_test)"
      ],
      "execution_count": null,
      "outputs": [
        {
          "output_type": "stream",
          "text": [
            "/usr/local/lib/python3.7/dist-packages/gensim/models/doc2vec.py:570: UserWarning: The parameter `size` is deprecated, will be removed in 4.0.0, use `vector_size` instead.\n",
            "  warnings.warn(\"The parameter `size` is deprecated, will be removed in 4.0.0, use `vector_size` instead.\")\n",
            "/usr/local/lib/python3.7/dist-packages/ipykernel_launcher.py:17: VisibleDeprecationWarning: Creating an ndarray from ragged nested sequences (which is a list-or-tuple of lists-or-tuples-or ndarrays with different lengths or shapes) is deprecated. If you meant to do this, you must specify 'dtype=object' when creating the ndarray\n",
            "/usr/local/lib/python3.7/dist-packages/ipykernel_launcher.py:19: VisibleDeprecationWarning: Creating an ndarray from ragged nested sequences (which is a list-or-tuple of lists-or-tuples-or ndarrays with different lengths or shapes) is deprecated. If you meant to do this, you must specify 'dtype=object' when creating the ndarray\n"
          ],
          "name": "stderr"
        },
        {
          "output_type": "stream",
          "text": [
            "LogisticRegression:\n",
            "accuracy: 0.7356537530266344\n",
            "precision: 0.7351289009497965\n",
            "recall: 0.733250393995322\n",
            "              precision    recall  f1-score   support\n",
            "\n",
            "           0       0.73      0.69      0.71      7761\n",
            "           1       0.74      0.77      0.76      8759\n",
            "\n",
            "    accuracy                           0.74     16520\n",
            "   macro avg       0.74      0.73      0.73     16520\n",
            "weighted avg       0.74      0.74      0.74     16520\n",
            "\n",
            "RandomForest:\n",
            "accuracy: 0.715496368038741\n",
            "precision: 0.7149458772815178\n",
            "recall: 0.712677838506204\n",
            "              precision    recall  f1-score   support\n",
            "\n",
            "           0       0.71      0.67      0.69      7761\n",
            "           1       0.72      0.76      0.74      8759\n",
            "\n",
            "    accuracy                           0.72     16520\n",
            "   macro avg       0.71      0.71      0.71     16520\n",
            "weighted avg       0.72      0.72      0.71     16520\n",
            "\n"
          ],
          "name": "stdout"
        }
      ]
    },
    {
      "cell_type": "markdown",
      "metadata": {
        "id": "v6cZrG4FvuGZ"
      },
      "source": [
        "# vector size = 150"
      ]
    },
    {
      "cell_type": "code",
      "metadata": {
        "colab": {
          "base_uri": "https://localhost:8080/"
        },
        "id": "8visbtc0vrp4",
        "outputId": "32d2075f-ee80-4705-def7-0aa21d4a2793"
      },
      "source": [
        "model = train_doc2vec(corpus=corpus, \n",
        "                         n_epoch=25, \n",
        "                         name_corpus=\"movie\", \n",
        "                         negative=5,\n",
        "                         alpha = 0.05,\n",
        "                         min_alpha = 0.065,\n",
        "                         window = 3,\n",
        "                         vector_size=150,\n",
        "                         min_count=2)\n",
        "\n",
        "\n",
        "vectors_train = get_vectors(model=model,\n",
        "                            corpus=corpus_train)\n",
        "vectors_test = get_vectors(model=model,\n",
        "                            corpus=corpus_test)\n",
        "\n",
        "X_train = np.array(vectors_train)\n",
        "X_train = np.vstack(X_train)\n",
        "X_test = np.array(vectors_test)\n",
        "X_test = np.vstack(X_test)\n",
        "\n",
        "classification_report(x_train=X_train,\n",
        "                      x_test=X_test,\n",
        "                      y_train=y_train,\n",
        "                      y_test=y_test)"
      ],
      "execution_count": 39,
      "outputs": [
        {
          "output_type": "stream",
          "text": [
            "/usr/local/lib/python3.7/dist-packages/gensim/models/doc2vec.py:570: UserWarning: The parameter `size` is deprecated, will be removed in 4.0.0, use `vector_size` instead.\n",
            "  warnings.warn(\"The parameter `size` is deprecated, will be removed in 4.0.0, use `vector_size` instead.\")\n",
            "/usr/local/lib/python3.7/dist-packages/ipykernel_launcher.py:17: VisibleDeprecationWarning: Creating an ndarray from ragged nested sequences (which is a list-or-tuple of lists-or-tuples-or ndarrays with different lengths or shapes) is deprecated. If you meant to do this, you must specify 'dtype=object' when creating the ndarray\n",
            "/usr/local/lib/python3.7/dist-packages/ipykernel_launcher.py:19: VisibleDeprecationWarning: Creating an ndarray from ragged nested sequences (which is a list-or-tuple of lists-or-tuples-or ndarrays with different lengths or shapes) is deprecated. If you meant to do this, you must specify 'dtype=object' when creating the ndarray\n"
          ],
          "name": "stderr"
        },
        {
          "output_type": "stream",
          "text": [
            "LogisticRegression:\n",
            "accuracy: 0.7373486682808716\n",
            "precision: 0.7367473716800657\n",
            "recall: 0.7350983285195389\n",
            "              precision    recall  f1-score   support\n",
            "\n",
            "           0       0.73      0.70      0.71      7761\n",
            "           1       0.74      0.77      0.76      8759\n",
            "\n",
            "    accuracy                           0.74     16520\n",
            "   macro avg       0.74      0.74      0.74     16520\n",
            "weighted avg       0.74      0.74      0.74     16520\n",
            "\n",
            "RandomForest:\n",
            "accuracy: 0.7074455205811138\n",
            "precision: 0.7067100134257664\n",
            "recall: 0.7047112797955721\n",
            "              precision    recall  f1-score   support\n",
            "\n",
            "           0       0.70      0.66      0.68      7761\n",
            "           1       0.71      0.75      0.73      8759\n",
            "\n",
            "    accuracy                           0.71     16520\n",
            "   macro avg       0.71      0.70      0.71     16520\n",
            "weighted avg       0.71      0.71      0.71     16520\n",
            "\n"
          ],
          "name": "stdout"
        }
      ]
    },
    {
      "cell_type": "markdown",
      "metadata": {
        "id": "G4hzi59GvzCH"
      },
      "source": [
        "# vector size = 200"
      ]
    },
    {
      "cell_type": "code",
      "metadata": {
        "id": "7SUBZoTqvyWD",
        "colab": {
          "base_uri": "https://localhost:8080/"
        },
        "outputId": "449a313d-63f2-46d8-ad33-fc94434d6d4a"
      },
      "source": [
        "model = train_doc2vec(corpus=corpus, \n",
        "                         n_epoch=25, \n",
        "                         name_corpus=\"movie\", \n",
        "                         negative=5,\n",
        "                         alpha = 0.05,\n",
        "                         min_alpha = 0.065,\n",
        "                         window = 3,\n",
        "                         vector_size=200,\n",
        "                         min_count=2)\n",
        "\n",
        "\n",
        "vectors_train = get_vectors(model=model,\n",
        "                            corpus=corpus_train)\n",
        "vectors_test = get_vectors(model=model,\n",
        "                            corpus=corpus_test)\n",
        "\n",
        "X_train = np.array(vectors_train)\n",
        "X_train = np.vstack(X_train)\n",
        "X_test = np.array(vectors_test)\n",
        "X_test = np.vstack(X_test)\n",
        "\n",
        "classification_report(x_train=X_train,\n",
        "                      x_test=X_test,\n",
        "                      y_train=y_train,\n",
        "                      y_test=y_test)"
      ],
      "execution_count": 40,
      "outputs": [
        {
          "output_type": "stream",
          "text": [
            "/usr/local/lib/python3.7/dist-packages/gensim/models/doc2vec.py:570: UserWarning: The parameter `size` is deprecated, will be removed in 4.0.0, use `vector_size` instead.\n",
            "  warnings.warn(\"The parameter `size` is deprecated, will be removed in 4.0.0, use `vector_size` instead.\")\n",
            "/usr/local/lib/python3.7/dist-packages/ipykernel_launcher.py:17: VisibleDeprecationWarning: Creating an ndarray from ragged nested sequences (which is a list-or-tuple of lists-or-tuples-or ndarrays with different lengths or shapes) is deprecated. If you meant to do this, you must specify 'dtype=object' when creating the ndarray\n",
            "/usr/local/lib/python3.7/dist-packages/ipykernel_launcher.py:19: VisibleDeprecationWarning: Creating an ndarray from ragged nested sequences (which is a list-or-tuple of lists-or-tuples-or ndarrays with different lengths or shapes) is deprecated. If you meant to do this, you must specify 'dtype=object' when creating the ndarray\n"
          ],
          "name": "stderr"
        },
        {
          "output_type": "stream",
          "text": [
            "LogisticRegression:\n",
            "accuracy: 0.738498789346247\n",
            "precision: 0.7378894344382467\n",
            "recall: 0.7362856948552294\n",
            "              precision    recall  f1-score   support\n",
            "\n",
            "           0       0.73      0.70      0.72      7761\n",
            "           1       0.74      0.77      0.76      8759\n",
            "\n",
            "    accuracy                           0.74     16520\n",
            "   macro avg       0.74      0.74      0.74     16520\n",
            "weighted avg       0.74      0.74      0.74     16520\n",
            "\n",
            "RandomForest:\n",
            "accuracy: 0.7113801452784504\n",
            "precision: 0.7105833379595989\n",
            "recall: 0.7088621817581148\n",
            "              precision    recall  f1-score   support\n",
            "\n",
            "           0       0.70      0.67      0.68      7761\n",
            "           1       0.72      0.75      0.73      8759\n",
            "\n",
            "    accuracy                           0.71     16520\n",
            "   macro avg       0.71      0.71      0.71     16520\n",
            "weighted avg       0.71      0.71      0.71     16520\n",
            "\n"
          ],
          "name": "stdout"
        }
      ]
    },
    {
      "cell_type": "code",
      "metadata": {
        "id": "qWJnoUaRv25y"
      },
      "source": [
        ""
      ],
      "execution_count": 40,
      "outputs": []
    },
    {
      "cell_type": "markdown",
      "metadata": {
        "id": "ajvxKRPqv4Ne"
      },
      "source": [
        "# en iyiler sq=0, alpha=0.1, window_size=7, vector_size=200"
      ]
    },
    {
      "cell_type": "code",
      "metadata": {
        "colab": {
          "base_uri": "https://localhost:8080/"
        },
        "id": "QT7j2KSUv5zU",
        "outputId": "29b07bc4-df8e-4e14-fcb9-a3c147034939"
      },
      "source": [
        "model = train_doc2vec(corpus=corpus, \n",
        "                         n_epoch=25, \n",
        "                         name_corpus=\"movie\", \n",
        "                         negative=5,\n",
        "                         alpha = 0.05,\n",
        "                         min_alpha = 0.065,\n",
        "                         window = 7,\n",
        "                         vector_size=200,\n",
        "                         min_count=2)\n",
        "\n",
        "\n",
        "vectors_train = get_vectors(model=model,\n",
        "                            corpus=corpus_train)\n",
        "vectors_test = get_vectors(model=model,\n",
        "                            corpus=corpus_test)\n",
        "\n",
        "X_train = np.array(vectors_train)\n",
        "X_train = np.vstack(X_train)\n",
        "X_test = np.array(vectors_test)\n",
        "X_test = np.vstack(X_test)\n",
        "\n",
        "classification_report(x_train=X_train,\n",
        "                      x_test=X_test,\n",
        "                      y_train=y_train,\n",
        "                      y_test=y_test)"
      ],
      "execution_count": 41,
      "outputs": [
        {
          "output_type": "stream",
          "text": [
            "/usr/local/lib/python3.7/dist-packages/gensim/models/doc2vec.py:570: UserWarning: The parameter `size` is deprecated, will be removed in 4.0.0, use `vector_size` instead.\n",
            "  warnings.warn(\"The parameter `size` is deprecated, will be removed in 4.0.0, use `vector_size` instead.\")\n",
            "/usr/local/lib/python3.7/dist-packages/ipykernel_launcher.py:17: VisibleDeprecationWarning: Creating an ndarray from ragged nested sequences (which is a list-or-tuple of lists-or-tuples-or ndarrays with different lengths or shapes) is deprecated. If you meant to do this, you must specify 'dtype=object' when creating the ndarray\n",
            "/usr/local/lib/python3.7/dist-packages/ipykernel_launcher.py:19: VisibleDeprecationWarning: Creating an ndarray from ragged nested sequences (which is a list-or-tuple of lists-or-tuples-or ndarrays with different lengths or shapes) is deprecated. If you meant to do this, you must specify 'dtype=object' when creating the ndarray\n"
          ],
          "name": "stderr"
        },
        {
          "output_type": "stream",
          "text": [
            "LogisticRegression:\n",
            "accuracy: 0.7424334140435835\n",
            "precision: 0.7417718086941897\n",
            "recall: 0.7403925535446825\n",
            "              precision    recall  f1-score   support\n",
            "\n",
            "           0       0.73      0.71      0.72      7761\n",
            "           1       0.75      0.77      0.76      8759\n",
            "\n",
            "    accuracy                           0.74     16520\n",
            "   macro avg       0.74      0.74      0.74     16520\n",
            "weighted avg       0.74      0.74      0.74     16520\n",
            "\n",
            "RandomForest:\n",
            "accuracy: 0.7236682808716707\n",
            "precision: 0.7230665082770205\n",
            "recall: 0.7211182522311176\n",
            "              precision    recall  f1-score   support\n",
            "\n",
            "           0       0.72      0.68      0.70      7761\n",
            "           1       0.73      0.76      0.75      8759\n",
            "\n",
            "    accuracy                           0.72     16520\n",
            "   macro avg       0.72      0.72      0.72     16520\n",
            "weighted avg       0.72      0.72      0.72     16520\n",
            "\n"
          ],
          "name": "stdout"
        }
      ]
    },
    {
      "cell_type": "code",
      "metadata": {
        "id": "-4BqMTVFxxkx"
      },
      "source": [
        ""
      ],
      "execution_count": null,
      "outputs": []
    }
  ]
}