{
  "nbformat": 4,
  "nbformat_minor": 0,
  "metadata": {
    "colab": {
      "name": "movie_rw_word2vec_benchmark.ipynb",
      "provenance": [],
      "machine_shape": "hm"
    },
    "kernelspec": {
      "name": "python3",
      "display_name": "Python 3"
    },
    "language_info": {
      "name": "python"
    }
  },
  "cells": [
    {
      "cell_type": "code",
      "metadata": {
        "colab": {
          "base_uri": "https://localhost:8080/",
          "height": 0
        },
        "id": "8YxwpjDU0-DP",
        "outputId": "daba8ca6-e6ab-4c7a-dfca-e456b086352a"
      },
      "source": [
        "# import libraries\n",
        "from gensim.models.word2vec import Word2Vec\n",
        "import gensim\n",
        "from gensim.models.doc2vec import TaggedDocument\n",
        "import multiprocessing\n",
        "from sklearn import utils\n",
        "import pandas as pd\n",
        "from gensim.models.phrases import Phrases, Phraser\n",
        "import numpy as np\n",
        "import xgboost \n",
        "from tqdm import tqdm\n",
        "from sklearn.model_selection import train_test_split\n",
        "tqdm.pandas(desc=\"progress-bar\")\n",
        "from sklearn import model_selection, preprocessing, linear_model, naive_bayes, metrics, svm\n",
        "from sklearn import decomposition, ensemble\n",
        "from collections import Counter\n",
        "from nltk import ngrams"
      ],
      "execution_count": 1,
      "outputs": [
        {
          "output_type": "stream",
          "text": [
            "/usr/local/lib/python3.7/dist-packages/tqdm/std.py:658: FutureWarning: The Panel class is removed from pandas. Accessing it from the top-level namespace will also be removed in the next version\n",
            "  from pandas import Panel\n"
          ],
          "name": "stderr"
        }
      ]
    },
    {
      "cell_type": "code",
      "metadata": {
        "id": "72Lu7aGp4A19"
      },
      "source": [
        "def classification_report(x_train, x_test, y_train, y_test):\n",
        "  models = []\n",
        "  models.append(('LogisticRegression', linear_model.LogisticRegression(solver='newton-cg',multi_class='multinomial')))\n",
        "  models.append(('RandomForest', ensemble.RandomForestClassifier(n_estimators=100)))\n",
        "\n",
        "  for name, model in models:\n",
        "      clf=model\n",
        "      clf.fit(x_train, y_train)\n",
        "      y_pred=clf.predict(x_test)\n",
        "      print(f\"{name}:\")\n",
        "      print(f\"accuracy: {metrics.accuracy_score(y_pred=y_pred, y_true=y_test)}\")\n",
        "      print(f\"precision: {metrics.precision_score(y_pred=y_pred, y_true=y_test, average='macro')}\")\n",
        "      print(f\"recall: {metrics.recall_score(y_pred=y_pred, y_true=y_test, average='macro')}\")\n",
        "      print(f\"{metrics.classification_report(y_pred=y_pred, y_true=y_test)}\")"
      ],
      "execution_count": 2,
      "outputs": []
    },
    {
      "cell_type": "code",
      "metadata": {
        "id": "mXg0RuZAZlwf"
      },
      "source": [
        "def get_word_counts(data):\n",
        "  words = data.tweet.to_string().split()\n",
        "  return Counter(words)\n",
        "  "
      ],
      "execution_count": 3,
      "outputs": []
    },
    {
      "cell_type": "code",
      "metadata": {
        "id": "g-O9ZWt4ILoE"
      },
      "source": [
        "# word2vec hyper parameters\n",
        "# min_count = corpusta kelimenin en az bulunma sayısı eğer kelime bu kadardan az geçiyorsa anlam ifade etmediği varsayılır(default=5)\n",
        "# vector_size = kelimelerin ifade edileceği vektörün boyut sayısı\n",
        "# window = current ve predicted word arasındaki maksimum mesafe\n",
        "# sg = 0 cbow, 1 skip-gram\n",
        "# negative = eğer sıfırdan büyük olursa negative sampling kullanılır 5-20 arasında olmalı\n",
        "# alpha = başlangıç learning rate\n",
        "# min_alpha = eğitim aşamasında learning rate linear olarak bunu düşer\n",
        "# epoch = iterasyon sayısı\n"
      ],
      "execution_count": 4,
      "outputs": []
    },
    {
      "cell_type": "code",
      "metadata": {
        "id": "lCziQoyb0qbe"
      },
      "source": [
        "def labelize_tweets_ug(tweets,label):\n",
        "    result = []\n",
        "    prefix = label\n",
        "    for i, t in zip(tweets.index, tweets):\n",
        "        result.append(TaggedDocument(t.split(), [prefix + '_%s' % i]))\n",
        "    return result"
      ],
      "execution_count": 5,
      "outputs": []
    },
    {
      "cell_type": "code",
      "metadata": {
        "id": "NPao5rpSYA_2"
      },
      "source": [
        "def train_word2vec(corpus, n_epoch, name_corpus, sg, vector_size, negative, window, min_count, alpha, min_alpha):\n",
        "  cores = multiprocessing.cpu_count()\n",
        "  model = Word2Vec(sg=sg, size=vector_size, negative=negative, window=window, min_count=min_count, workers=cores, alpha=alpha, min_alpha=min_alpha)\n",
        "  model.build_vocab([x.words for x in tqdm(corpus)])\n",
        "\n",
        "  for epoch in range(n_epoch):\n",
        "    model.train(utils.shuffle([x.words for x in tqdm(corpus)]), total_examples=len(corpus), epochs=1)\n",
        "    model.alpha -= 0.002\n",
        "    model.min_alpha = model.alpha\n",
        "\n",
        "  model.save(f\"/content/drive/MyDrive/hesaplamalı_anlambilim_ödev/trained_embeddings/{name_corpus}_sg_{sg}_size_{vector_size}_window_{window}_min_count_{min_count}.model\")\n",
        "  return model"
      ],
      "execution_count": 6,
      "outputs": []
    },
    {
      "cell_type": "code",
      "metadata": {
        "id": "vL63uMQfkxrK"
      },
      "source": [
        "def get_mean_vector(model, words):\n",
        "    # remove out-of-vocabulary words\n",
        "    words = [word for word in words if word in model.wv]\n",
        "    if len(words) >= 1:\n",
        "        return np.mean(model[words], axis=0)\n",
        "    else:\n",
        "        return np.zeros((1, model.vector_size))"
      ],
      "execution_count": 7,
      "outputs": []
    },
    {
      "cell_type": "code",
      "metadata": {
        "id": "oVMy-vj1lQQm"
      },
      "source": [
        "def get_vectors(model, corpus):\n",
        "  vectors = []\n",
        "  for sentence in corpus:\n",
        "      vec = get_mean_vector(model, sentence)\n",
        "      vectors.append(vec)\n",
        "  return vectors"
      ],
      "execution_count": 8,
      "outputs": []
    },
    {
      "cell_type": "code",
      "metadata": {
        "id": "ULEuRdQeqyzs"
      },
      "source": [
        "def get_max_len_sentence(series):\n",
        "  res = series.str.split().str.len().max()\n",
        "\n",
        "  print(f\"The maximum length in words are : {res}\") "
      ],
      "execution_count": 9,
      "outputs": []
    },
    {
      "cell_type": "code",
      "metadata": {
        "id": "aWfrOSNVl3U-"
      },
      "source": [
        "data = pd.read_csv(\"/content/drive/MyDrive/hesaplamalı_anlambilim_ödev/preprocess_movie_sentiment.csv\")"
      ],
      "execution_count": 10,
      "outputs": []
    },
    {
      "cell_type": "code",
      "metadata": {
        "id": "jR7vZvjFmJHN"
      },
      "source": [
        "data.dropna(inplace=True)\n",
        "data.reset_index(drop=True,inplace=True)\n",
        "\n",
        "x=data.comment\n",
        "y=data.sentiment.values\n",
        "\n",
        "x_train, x_test, y_train, y_test = train_test_split(x, y, test_size=0.2, random_state=42)"
      ],
      "execution_count": 12,
      "outputs": []
    },
    {
      "cell_type": "code",
      "metadata": {
        "id": "fKY4-aLTmMBM"
      },
      "source": [
        "corpus = labelize_tweets_ug(x, 'all')"
      ],
      "execution_count": 13,
      "outputs": []
    },
    {
      "cell_type": "code",
      "metadata": {
        "id": "Hnxp9_tbv5Gq"
      },
      "source": [
        "corpus_train = pd.DataFrame(x_train)['comment'].apply(lambda x: x.split())\n",
        "corpus_test = pd.DataFrame(x_test)['comment'].apply(lambda x: x.split())"
      ],
      "execution_count": 14,
      "outputs": []
    },
    {
      "cell_type": "code",
      "metadata": {
        "id": "MOvAfCWonIDg"
      },
      "source": [
        "# min_count = corpusta kelimenin en az bulunma sayısı eğer kelime bu kadardan az geçiyorsa anlam ifade etmediği varsayılır(default=5)\n",
        "# vector_size = kelimelerin ifade edileceği vektörün boyut sayısı\n",
        "# window = current ve predicted word arasındaki maksimum mesafe\n",
        "# sg = 0 cbow, 1 skip-gram\n",
        "# negative = eğer sıfırdan büyük olursa negative sampling kullanılır 5-20 arasında olmalı\n",
        "# alpha = başlangıç learning rate\n",
        "# min_alpha = eğitim aşamasında learning rate linear olarak bunu düşer\n",
        "# epoch = iterasyon sayısı"
      ],
      "execution_count": 22,
      "outputs": []
    },
    {
      "cell_type": "markdown",
      "metadata": {
        "id": "4LoeKUIrq3-C"
      },
      "source": [
        "# sg=0 epoch=25 negative=5 için (sg karar vermek için ilk deneme ikisi için yapılacak)\n",
        "# alpha 0.5 0.01 0.05 0.1 her biri window = 3, vector_size = 150 kullanılacak \n",
        "# window 3 5 7 her biri alpha = 0.05, vector_size = 150 kullanılacak \n",
        "# vector_size 25 50 150 200 her biri  için window = 3, alpha = 0.05"
      ]
    },
    {
      "cell_type": "code",
      "metadata": {
        "id": "oN7wkxjFmj_M",
        "colab": {
          "base_uri": "https://localhost:8080/",
          "height": 0
        },
        "outputId": "666f9890-13b1-4964-c25b-1f989a484d3e"
      },
      "source": [
        "model_1 = train_word2vec(corpus=corpus, \n",
        "                         n_epoch=25, \n",
        "                         name_corpus=\"movie\", \n",
        "                         sg=0, \n",
        "                         negative=5,\n",
        "                         alpha = 0.5,\n",
        "                         min_alpha = 0.065,\n",
        "                         window = 3,\n",
        "                         vector_size=150,\n",
        "                         min_count=2)"
      ],
      "execution_count": 16,
      "outputs": [
        {
          "output_type": "stream",
          "text": [
            "100%|██████████| 82598/82598 [00:00<00:00, 2078368.23it/s]\n",
            "100%|██████████| 82598/82598 [00:00<00:00, 2108344.88it/s]\n",
            "100%|██████████| 82598/82598 [00:00<00:00, 2001716.75it/s]\n",
            "100%|██████████| 82598/82598 [00:00<00:00, 1991567.44it/s]\n",
            "100%|██████████| 82598/82598 [00:00<00:00, 1890734.22it/s]\n",
            "100%|██████████| 82598/82598 [00:00<00:00, 2058791.74it/s]\n",
            "100%|██████████| 82598/82598 [00:00<00:00, 2024349.63it/s]\n",
            "100%|██████████| 82598/82598 [00:00<00:00, 1822952.17it/s]\n",
            "100%|██████████| 82598/82598 [00:00<00:00, 2000237.42it/s]\n",
            "100%|██████████| 82598/82598 [00:00<00:00, 2112111.02it/s]\n",
            "100%|██████████| 82598/82598 [00:00<00:00, 2031424.24it/s]\n",
            "100%|██████████| 82598/82598 [00:00<00:00, 2134809.29it/s]\n",
            "100%|██████████| 82598/82598 [00:00<00:00, 1983937.52it/s]\n",
            "100%|██████████| 82598/82598 [00:00<00:00, 1960351.29it/s]\n",
            "100%|██████████| 82598/82598 [00:00<00:00, 2129193.79it/s]\n",
            "100%|██████████| 82598/82598 [00:00<00:00, 2033904.89it/s]\n",
            "100%|██████████| 82598/82598 [00:00<00:00, 2122241.82it/s]\n",
            "100%|██████████| 82598/82598 [00:00<00:00, 2096504.76it/s]\n",
            "100%|██████████| 82598/82598 [00:00<00:00, 1917089.74it/s]\n",
            "100%|██████████| 82598/82598 [00:00<00:00, 2087698.99it/s]\n",
            "100%|██████████| 82598/82598 [00:00<00:00, 2110515.52it/s]\n",
            "100%|██████████| 82598/82598 [00:00<00:00, 2151781.48it/s]\n",
            "100%|██████████| 82598/82598 [00:00<00:00, 2062247.74it/s]\n",
            "100%|██████████| 82598/82598 [00:00<00:00, 1954633.08it/s]\n",
            "100%|██████████| 82598/82598 [00:00<00:00, 1886677.31it/s]\n",
            "100%|██████████| 82598/82598 [00:00<00:00, 2008563.92it/s]\n"
          ],
          "name": "stderr"
        }
      ]
    },
    {
      "cell_type": "code",
      "metadata": {
        "colab": {
          "base_uri": "https://localhost:8080/",
          "height": 0
        },
        "id": "zs2aoYW2wKhe",
        "outputId": "e288f8f8-c92b-4709-b03f-f2b3c32798db"
      },
      "source": [
        "vectors_train = get_vectors(model=model_1,\n",
        "                            corpus=corpus_train)\n",
        "vectors_test = get_vectors(model=model_1,\n",
        "                            corpus=corpus_test)\n",
        "\n",
        "X_train = np.array(vectors_train)\n",
        "X_train = np.vstack(X_train)\n",
        "X_test = np.array(vectors_test)\n",
        "X_test = np.vstack(X_test)"
      ],
      "execution_count": 17,
      "outputs": [
        {
          "output_type": "stream",
          "text": [
            "/usr/local/lib/python3.7/dist-packages/ipykernel_launcher.py:5: DeprecationWarning: Call to deprecated `__getitem__` (Method will be removed in 4.0.0, use self.wv.__getitem__() instead).\n",
            "  \"\"\"\n",
            "/usr/local/lib/python3.7/dist-packages/ipykernel_launcher.py:6: VisibleDeprecationWarning: Creating an ndarray from ragged nested sequences (which is a list-or-tuple of lists-or-tuples-or ndarrays with different lengths or shapes) is deprecated. If you meant to do this, you must specify 'dtype=object' when creating the ndarray\n",
            "  \n",
            "/usr/local/lib/python3.7/dist-packages/ipykernel_launcher.py:8: VisibleDeprecationWarning: Creating an ndarray from ragged nested sequences (which is a list-or-tuple of lists-or-tuples-or ndarrays with different lengths or shapes) is deprecated. If you meant to do this, you must specify 'dtype=object' when creating the ndarray\n",
            "  \n"
          ],
          "name": "stderr"
        }
      ]
    },
    {
      "cell_type": "code",
      "metadata": {
        "colab": {
          "base_uri": "https://localhost:8080/",
          "height": 0
        },
        "id": "PxDKsaIRwxY5",
        "outputId": "1a5956dd-731d-4292-addb-3e0c9e930abe"
      },
      "source": [
        "classification_report(x_train=X_train,\n",
        "                      x_test=X_test,\n",
        "                      y_train=y_train,\n",
        "                      y_test=y_test)"
      ],
      "execution_count": 18,
      "outputs": [
        {
          "output_type": "stream",
          "text": [
            "LogisticRegression:\n",
            "accuracy: 0.662953995157385\n",
            "precision: 0.6617183760481924\n",
            "recall: 0.6597227901092813\n",
            "              precision    recall  f1-score   support\n",
            "\n",
            "           0       0.65      0.61      0.63      7761\n",
            "           1       0.67      0.71      0.69      8759\n",
            "\n",
            "    accuracy                           0.66     16520\n",
            "   macro avg       0.66      0.66      0.66     16520\n",
            "weighted avg       0.66      0.66      0.66     16520\n",
            "\n",
            "RandomForest:\n",
            "accuracy: 0.6245157384987894\n",
            "precision: 0.6226658114985069\n",
            "recall: 0.6215070937251884\n",
            "              precision    recall  f1-score   support\n",
            "\n",
            "           0       0.61      0.57      0.59      7761\n",
            "           1       0.64      0.67      0.65      8759\n",
            "\n",
            "    accuracy                           0.62     16520\n",
            "   macro avg       0.62      0.62      0.62     16520\n",
            "weighted avg       0.62      0.62      0.62     16520\n",
            "\n"
          ],
          "name": "stdout"
        }
      ]
    },
    {
      "cell_type": "code",
      "metadata": {
        "colab": {
          "base_uri": "https://localhost:8080/",
          "height": 0
        },
        "id": "XpeTWvLo3oYl",
        "outputId": "586b2066-1341-42bf-a7a6-f7216ef3ae40"
      },
      "source": [
        "# deneme 2\n",
        "model_2 = train_word2vec(corpus=corpus, \n",
        "                         n_epoch=25, \n",
        "                         name_corpus=\"movie\", \n",
        "                         sg=1, \n",
        "                         negative=5,\n",
        "                         alpha = 0.5,\n",
        "                         min_alpha = 0.065,\n",
        "                         window = 3,\n",
        "                         vector_size=150,\n",
        "                         min_count=2)"
      ],
      "execution_count": 19,
      "outputs": [
        {
          "output_type": "stream",
          "text": [
            "100%|██████████| 82598/82598 [00:00<00:00, 1857403.92it/s]\n",
            "100%|██████████| 82598/82598 [00:00<00:00, 1958511.63it/s]\n",
            "100%|██████████| 82598/82598 [00:00<00:00, 1950045.15it/s]\n",
            "100%|██████████| 82598/82598 [00:00<00:00, 2080877.43it/s]\n",
            "100%|██████████| 82598/82598 [00:00<00:00, 2095021.42it/s]\n",
            "100%|██████████| 82598/82598 [00:00<00:00, 1966739.27it/s]\n",
            "100%|██████████| 82598/82598 [00:00<00:00, 2090281.24it/s]\n",
            "100%|██████████| 82598/82598 [00:00<00:00, 1976816.94it/s]\n",
            "100%|██████████| 82598/82598 [00:00<00:00, 2097266.26it/s]\n",
            "100%|██████████| 82598/82598 [00:00<00:00, 1906707.48it/s]\n",
            "100%|██████████| 82598/82598 [00:00<00:00, 1909176.75it/s]\n",
            "100%|██████████| 82598/82598 [00:00<00:00, 1944103.13it/s]\n",
            "100%|██████████| 82598/82598 [00:00<00:00, 2037948.89it/s]\n",
            "100%|██████████| 82598/82598 [00:00<00:00, 2094286.87it/s]\n",
            "100%|██████████| 82598/82598 [00:00<00:00, 1949913.45it/s]\n",
            "100%|██████████| 82598/82598 [00:00<00:00, 2049765.53it/s]\n",
            "100%|██████████| 82598/82598 [00:00<00:00, 1814873.08it/s]\n",
            "100%|██████████| 82598/82598 [00:00<00:00, 2011829.84it/s]\n",
            "100%|██████████| 82598/82598 [00:00<00:00, 1922504.74it/s]\n",
            "100%|██████████| 82598/82598 [00:00<00:00, 1994261.55it/s]\n",
            "100%|██████████| 82598/82598 [00:00<00:00, 2077495.80it/s]\n",
            "100%|██████████| 82598/82598 [00:00<00:00, 2090722.75it/s]\n",
            "100%|██████████| 82598/82598 [00:00<00:00, 1977787.48it/s]\n",
            "100%|██████████| 82598/82598 [00:00<00:00, 2142678.54it/s]\n",
            "100%|██████████| 82598/82598 [00:00<00:00, 1981690.54it/s]\n",
            "100%|██████████| 82598/82598 [00:00<00:00, 1985017.43it/s]\n"
          ],
          "name": "stderr"
        }
      ]
    },
    {
      "cell_type": "code",
      "metadata": {
        "colab": {
          "base_uri": "https://localhost:8080/",
          "height": 0
        },
        "id": "8rvBQAvG4CK_",
        "outputId": "4c6ea536-ec9f-427a-ad61-a1cc71ed3908"
      },
      "source": [
        "vectors_train = get_vectors(model=model_2,\n",
        "                            corpus=corpus_train)\n",
        "vectors_test = get_vectors(model=model_2,\n",
        "                            corpus=corpus_test)\n",
        "\n",
        "X_train = np.array(vectors_train)\n",
        "X_train = np.vstack(X_train)\n",
        "X_test = np.array(vectors_test)\n",
        "X_test = np.vstack(X_test)"
      ],
      "execution_count": 20,
      "outputs": [
        {
          "output_type": "stream",
          "text": [
            "/usr/local/lib/python3.7/dist-packages/ipykernel_launcher.py:5: DeprecationWarning: Call to deprecated `__getitem__` (Method will be removed in 4.0.0, use self.wv.__getitem__() instead).\n",
            "  \"\"\"\n",
            "/usr/local/lib/python3.7/dist-packages/ipykernel_launcher.py:6: VisibleDeprecationWarning: Creating an ndarray from ragged nested sequences (which is a list-or-tuple of lists-or-tuples-or ndarrays with different lengths or shapes) is deprecated. If you meant to do this, you must specify 'dtype=object' when creating the ndarray\n",
            "  \n",
            "/usr/local/lib/python3.7/dist-packages/ipykernel_launcher.py:8: VisibleDeprecationWarning: Creating an ndarray from ragged nested sequences (which is a list-or-tuple of lists-or-tuples-or ndarrays with different lengths or shapes) is deprecated. If you meant to do this, you must specify 'dtype=object' when creating the ndarray\n",
            "  \n"
          ],
          "name": "stderr"
        }
      ]
    },
    {
      "cell_type": "code",
      "metadata": {
        "colab": {
          "base_uri": "https://localhost:8080/",
          "height": 0
        },
        "id": "h-CEpQeS4jtW",
        "outputId": "c4d94ef2-6c78-4953-8cb6-effca3238074"
      },
      "source": [
        "classification_report(x_train=X_train,\n",
        "                      x_test=X_test,\n",
        "                      y_train=y_train,\n",
        "                      y_test=y_test)"
      ],
      "execution_count": 21,
      "outputs": [
        {
          "output_type": "stream",
          "text": [
            "LogisticRegression:\n",
            "accuracy: 0.6463680387409201\n",
            "precision: 0.6448700988464475\n",
            "recall: 0.643046718276733\n",
            "              precision    recall  f1-score   support\n",
            "\n",
            "           0       0.63      0.59      0.61      7761\n",
            "           1       0.66      0.70      0.68      8759\n",
            "\n",
            "    accuracy                           0.65     16520\n",
            "   macro avg       0.64      0.64      0.64     16520\n",
            "weighted avg       0.65      0.65      0.65     16520\n",
            "\n",
            "RandomForest:\n",
            "accuracy: 0.6059927360774818\n",
            "precision: 0.6038140832946602\n",
            "recall: 0.6015655824269046\n",
            "              precision    recall  f1-score   support\n",
            "\n",
            "           0       0.59      0.53      0.56      7761\n",
            "           1       0.62      0.67      0.64      8759\n",
            "\n",
            "    accuracy                           0.61     16520\n",
            "   macro avg       0.60      0.60      0.60     16520\n",
            "weighted avg       0.60      0.61      0.60     16520\n",
            "\n"
          ],
          "name": "stdout"
        }
      ]
    },
    {
      "cell_type": "markdown",
      "metadata": {
        "id": "3inQZRUrtBkv"
      },
      "source": [
        "# yukarıdaki sonuçlara göre sg=0 -> cbow yöntemi için daha başarılı oldu onunla diğer sonuçlar alınacak"
      ]
    },
    {
      "cell_type": "markdown",
      "metadata": {
        "id": "wZ8PHNLTtn2R"
      },
      "source": [
        "# alpha(learning rate) = 0.01"
      ]
    },
    {
      "cell_type": "code",
      "metadata": {
        "id": "WtO0gImktIbn",
        "colab": {
          "base_uri": "https://localhost:8080/",
          "height": 0
        },
        "outputId": "188ef6e3-f6d5-4800-d2a9-dd217a46f365"
      },
      "source": [
        "model = train_word2vec(corpus=corpus, \n",
        "                         n_epoch=25, \n",
        "                         name_corpus=\"movie\", \n",
        "                         sg=0, \n",
        "                         negative=5,\n",
        "                         alpha = 0.01,\n",
        "                         min_alpha = 0.065,\n",
        "                         window = 3,\n",
        "                         vector_size=150,\n",
        "                         min_count=2)"
      ],
      "execution_count": 23,
      "outputs": [
        {
          "output_type": "stream",
          "text": [
            "100%|██████████| 82598/82598 [00:00<00:00, 2052449.27it/s]\n",
            "100%|██████████| 82598/82598 [00:00<00:00, 2145850.48it/s]\n",
            "100%|██████████| 82598/82598 [00:00<00:00, 1977279.52it/s]\n",
            "100%|██████████| 82598/82598 [00:00<00:00, 2028771.41it/s]\n",
            "100%|██████████| 82598/82598 [00:00<00:00, 1939575.30it/s]\n",
            "100%|██████████| 82598/82598 [00:00<00:00, 1903470.35it/s]\n",
            "100%|██████████| 82598/82598 [00:00<00:00, 2136138.77it/s]\n",
            "100%|██████████| 82598/82598 [00:00<00:00, 2055615.61it/s]\n",
            "100%|██████████| 82598/82598 [00:00<00:00, 1991029.49it/s]\n",
            "100%|██████████| 82598/82598 [00:00<00:00, 2126253.55it/s]\n",
            "100%|██████████| 82598/82598 [00:00<00:00, 1973944.75it/s]\n",
            "100%|██████████| 82598/82598 [00:00<00:00, 1926620.93it/s]\n",
            "100%|██████████| 82598/82598 [00:00<00:00, 1885034.81it/s]\n",
            "100%|██████████| 82598/82598 [00:00<00:00, 2075081.74it/s]\n",
            "100%|██████████| 82598/82598 [00:00<00:00, 1989725.88it/s]\n",
            "100%|██████████| 82598/82598 [00:00<00:00, 2011187.48it/s]\n",
            "100%|██████████| 82598/82598 [00:00<00:00, 2046073.24it/s]\n",
            "100%|██████████| 82598/82598 [00:00<00:00, 1854391.46it/s]\n",
            "100%|██████████| 82598/82598 [00:00<00:00, 2100929.19it/s]\n",
            "100%|██████████| 82598/82598 [00:00<00:00, 2033785.49it/s]\n",
            "100%|██████████| 82598/82598 [00:00<00:00, 2034406.53it/s]\n",
            "100%|██████████| 82598/82598 [00:00<00:00, 2102880.32it/s]\n",
            "100%|██████████| 82598/82598 [00:00<00:00, 2095021.42it/s]\n",
            "100%|██████████| 82598/82598 [00:00<00:00, 1966225.80it/s]\n",
            "100%|██████████| 82598/82598 [00:00<00:00, 2091808.39it/s]\n",
            "100%|██████████| 82598/82598 [00:00<00:00, 2089638.23it/s]\n"
          ],
          "name": "stderr"
        }
      ]
    },
    {
      "cell_type": "code",
      "metadata": {
        "colab": {
          "base_uri": "https://localhost:8080/",
          "height": 0
        },
        "id": "mfHkCqRetfmk",
        "outputId": "379fa29f-b927-411e-8faf-f21086ae99eb"
      },
      "source": [
        "vectors_train = get_vectors(model=model,\n",
        "                            corpus=corpus_train)\n",
        "vectors_test = get_vectors(model=model,\n",
        "                            corpus=corpus_test)\n",
        "\n",
        "X_train = np.array(vectors_train)\n",
        "X_train = np.vstack(X_train)\n",
        "X_test = np.array(vectors_test)\n",
        "X_test = np.vstack(X_test)"
      ],
      "execution_count": 24,
      "outputs": [
        {
          "output_type": "stream",
          "text": [
            "/usr/local/lib/python3.7/dist-packages/ipykernel_launcher.py:5: DeprecationWarning: Call to deprecated `__getitem__` (Method will be removed in 4.0.0, use self.wv.__getitem__() instead).\n",
            "  \"\"\"\n",
            "/usr/local/lib/python3.7/dist-packages/ipykernel_launcher.py:6: VisibleDeprecationWarning: Creating an ndarray from ragged nested sequences (which is a list-or-tuple of lists-or-tuples-or ndarrays with different lengths or shapes) is deprecated. If you meant to do this, you must specify 'dtype=object' when creating the ndarray\n",
            "  \n",
            "/usr/local/lib/python3.7/dist-packages/ipykernel_launcher.py:8: VisibleDeprecationWarning: Creating an ndarray from ragged nested sequences (which is a list-or-tuple of lists-or-tuples-or ndarrays with different lengths or shapes) is deprecated. If you meant to do this, you must specify 'dtype=object' when creating the ndarray\n",
            "  \n"
          ],
          "name": "stderr"
        }
      ]
    },
    {
      "cell_type": "code",
      "metadata": {
        "colab": {
          "base_uri": "https://localhost:8080/",
          "height": 0
        },
        "id": "I47m7ABgtl-2",
        "outputId": "e23fc456-eb39-48ab-c115-1240b4be2b7c"
      },
      "source": [
        "classification_report(x_train=X_train,\n",
        "                      x_test=X_test,\n",
        "                      y_train=y_train,\n",
        "                      y_test=y_test)"
      ],
      "execution_count": 25,
      "outputs": [
        {
          "output_type": "stream",
          "text": [
            "LogisticRegression:\n",
            "accuracy: 0.7291767554479419\n",
            "precision: 0.7286878348709327\n",
            "recall: 0.726584509339476\n",
            "              precision    recall  f1-score   support\n",
            "\n",
            "           0       0.72      0.68      0.70      7761\n",
            "           1       0.73      0.77      0.75      8759\n",
            "\n",
            "    accuracy                           0.73     16520\n",
            "   macro avg       0.73      0.73      0.73     16520\n",
            "weighted avg       0.73      0.73      0.73     16520\n",
            "\n",
            "RandomForest:\n",
            "accuracy: 0.7110774818401937\n",
            "precision: 0.7106883425801436\n",
            "recall: 0.70793813358819\n",
            "              precision    recall  f1-score   support\n",
            "\n",
            "           0       0.71      0.66      0.68      7761\n",
            "           1       0.71      0.76      0.74      8759\n",
            "\n",
            "    accuracy                           0.71     16520\n",
            "   macro avg       0.71      0.71      0.71     16520\n",
            "weighted avg       0.71      0.71      0.71     16520\n",
            "\n"
          ],
          "name": "stdout"
        }
      ]
    },
    {
      "cell_type": "markdown",
      "metadata": {
        "id": "A3NDXq-Vtund"
      },
      "source": [
        "# learning rate 0.05"
      ]
    },
    {
      "cell_type": "code",
      "metadata": {
        "id": "hbd1U86UtxYV",
        "colab": {
          "base_uri": "https://localhost:8080/",
          "height": 0
        },
        "outputId": "a9d50be7-4ffe-44fc-b9f1-0e878e13038d"
      },
      "source": [
        "model = train_word2vec(corpus=corpus, \n",
        "                         n_epoch=25, \n",
        "                         name_corpus=\"movie\", \n",
        "                         sg=0, \n",
        "                         negative=5,\n",
        "                         alpha = 0.05,\n",
        "                         min_alpha = 0.065,\n",
        "                         window = 3,\n",
        "                         vector_size=150,\n",
        "                         min_count=2)"
      ],
      "execution_count": 26,
      "outputs": [
        {
          "output_type": "stream",
          "text": [
            "100%|██████████| 82598/82598 [00:00<00:00, 1883313.25it/s]\n",
            "100%|██████████| 82598/82598 [00:00<00:00, 2158767.22it/s]\n",
            "100%|██████████| 82598/82598 [00:00<00:00, 2066799.83it/s]\n",
            "100%|██████████| 82598/82598 [00:00<00:00, 1986542.67it/s]\n",
            "100%|██████████| 82598/82598 [00:00<00:00, 1953035.31it/s]\n",
            "100%|██████████| 82598/82598 [00:00<00:00, 2009332.79it/s]\n",
            "100%|██████████| 82598/82598 [00:00<00:00, 1849076.49it/s]\n",
            "100%|██████████| 82598/82598 [00:00<00:00, 2050493.46it/s]\n",
            "100%|██████████| 82598/82598 [00:00<00:00, 2015493.26it/s]\n",
            "100%|██████████| 82598/82598 [00:00<00:00, 1967722.29it/s]\n",
            "100%|██████████| 82598/82598 [00:00<00:00, 1969131.51it/s]\n",
            "100%|██████████| 82598/82598 [00:00<00:00, 2050760.49it/s]\n",
            "100%|██████████| 82598/82598 [00:00<00:00, 1960007.48it/s]\n",
            "100%|██████████| 82598/82598 [00:00<00:00, 1935792.95it/s]\n",
            "100%|██████████| 82598/82598 [00:00<00:00, 1905784.46it/s]\n",
            "100%|██████████| 82598/82598 [00:00<00:00, 1996088.51it/s]\n",
            "100%|██████████| 82598/82598 [00:00<00:00, 2060322.22it/s]\n",
            "100%|██████████| 82598/82598 [00:00<00:00, 2020265.11it/s]\n",
            "100%|██████████| 82598/82598 [00:00<00:00, 2063598.97it/s]\n",
            "100%|██████████| 82598/82598 [00:00<00:00, 2106998.50it/s]\n",
            "100%|██████████| 82598/82598 [00:00<00:00, 2150739.52it/s]\n",
            "100%|██████████| 82598/82598 [00:00<00:00, 1912602.25it/s]\n",
            "100%|██████████| 82598/82598 [00:00<00:00, 2019770.42it/s]\n",
            "100%|██████████| 82598/82598 [00:00<00:00, 1956211.37it/s]\n",
            "100%|██████████| 82598/82598 [00:00<00:00, 1948180.95it/s]\n",
            "100%|██████████| 82598/82598 [00:00<00:00, 2009892.33it/s]\n"
          ],
          "name": "stderr"
        }
      ]
    },
    {
      "cell_type": "code",
      "metadata": {
        "colab": {
          "base_uri": "https://localhost:8080/",
          "height": 0
        },
        "id": "Mk53FKIjt0B3",
        "outputId": "d31f42e5-23d9-4d05-9d08-3f2dc1120bee"
      },
      "source": [
        "vectors_train = get_vectors(model=model,\n",
        "                            corpus=corpus_train)\n",
        "vectors_test = get_vectors(model=model,\n",
        "                            corpus=corpus_test)\n",
        "\n",
        "X_train = np.array(vectors_train)\n",
        "X_train = np.vstack(X_train)\n",
        "X_test = np.array(vectors_test)\n",
        "X_test = np.vstack(X_test)"
      ],
      "execution_count": 27,
      "outputs": [
        {
          "output_type": "stream",
          "text": [
            "/usr/local/lib/python3.7/dist-packages/ipykernel_launcher.py:5: DeprecationWarning: Call to deprecated `__getitem__` (Method will be removed in 4.0.0, use self.wv.__getitem__() instead).\n",
            "  \"\"\"\n",
            "/usr/local/lib/python3.7/dist-packages/ipykernel_launcher.py:6: VisibleDeprecationWarning: Creating an ndarray from ragged nested sequences (which is a list-or-tuple of lists-or-tuples-or ndarrays with different lengths or shapes) is deprecated. If you meant to do this, you must specify 'dtype=object' when creating the ndarray\n",
            "  \n",
            "/usr/local/lib/python3.7/dist-packages/ipykernel_launcher.py:8: VisibleDeprecationWarning: Creating an ndarray from ragged nested sequences (which is a list-or-tuple of lists-or-tuples-or ndarrays with different lengths or shapes) is deprecated. If you meant to do this, you must specify 'dtype=object' when creating the ndarray\n",
            "  \n"
          ],
          "name": "stderr"
        }
      ]
    },
    {
      "cell_type": "code",
      "metadata": {
        "colab": {
          "base_uri": "https://localhost:8080/",
          "height": 0
        },
        "id": "fRRL4cFQt4Oo",
        "outputId": "839f783e-8fe6-40ae-d3c8-e46cfae63e49"
      },
      "source": [
        "classification_report(x_train=X_train,\n",
        "                      x_test=X_test,\n",
        "                      y_train=y_train,\n",
        "                      y_test=y_test)"
      ],
      "execution_count": 28,
      "outputs": [
        {
          "output_type": "stream",
          "text": [
            "LogisticRegression:\n",
            "accuracy: 0.7398305084745763\n",
            "precision: 0.7391997939211934\n",
            "recall: 0.7376810163445704\n",
            "              precision    recall  f1-score   support\n",
            "\n",
            "           0       0.73      0.70      0.72      7761\n",
            "           1       0.75      0.77      0.76      8759\n",
            "\n",
            "    accuracy                           0.74     16520\n",
            "   macro avg       0.74      0.74      0.74     16520\n",
            "weighted avg       0.74      0.74      0.74     16520\n",
            "\n",
            "RandomForest:\n",
            "accuracy: 0.722457627118644\n",
            "precision: 0.7218741567567772\n",
            "recall: 0.7198517801168571\n",
            "              precision    recall  f1-score   support\n",
            "\n",
            "           0       0.72      0.68      0.70      7761\n",
            "           1       0.73      0.76      0.74      8759\n",
            "\n",
            "    accuracy                           0.72     16520\n",
            "   macro avg       0.72      0.72      0.72     16520\n",
            "weighted avg       0.72      0.72      0.72     16520\n",
            "\n"
          ],
          "name": "stdout"
        }
      ]
    },
    {
      "cell_type": "markdown",
      "metadata": {
        "id": "iz0iXMrlt5Fw"
      },
      "source": [
        "# learning rate 0.1"
      ]
    },
    {
      "cell_type": "code",
      "metadata": {
        "id": "Y67dlPnSt8GK",
        "colab": {
          "base_uri": "https://localhost:8080/",
          "height": 0
        },
        "outputId": "df5ad86a-defa-43b8-b567-51c179e3b48c"
      },
      "source": [
        "model = train_word2vec(corpus=corpus, \n",
        "                         n_epoch=25, \n",
        "                         name_corpus=\"movie\", \n",
        "                         sg=0, \n",
        "                         negative=5,\n",
        "                         alpha = 0.1,\n",
        "                         min_alpha = 0.065,\n",
        "                         window = 3,\n",
        "                         vector_size=150,\n",
        "                         min_count=2)"
      ],
      "execution_count": 29,
      "outputs": [
        {
          "output_type": "stream",
          "text": [
            "100%|██████████| 82598/82598 [00:00<00:00, 1970587.59it/s]\n",
            "100%|██████████| 82598/82598 [00:00<00:00, 1819515.04it/s]\n",
            "100%|██████████| 82598/82598 [00:00<00:00, 2088227.52it/s]\n",
            "100%|██████████| 82598/82598 [00:00<00:00, 1903930.63it/s]\n",
            "100%|██████████| 82598/82598 [00:00<00:00, 1999129.36it/s]\n",
            "100%|██████████| 82598/82598 [00:00<00:00, 2034478.21it/s]\n",
            "100%|██████████| 82598/82598 [00:00<00:00, 1976027.66it/s]\n",
            "100%|██████████| 82598/82598 [00:00<00:00, 2000872.80it/s]\n",
            "100%|██████████| 82598/82598 [00:00<00:00, 1999971.84it/s]\n",
            "100%|██████████| 82598/82598 [00:00<00:00, 2024385.11it/s]\n",
            "100%|██████████| 82598/82598 [00:00<00:00, 2082728.88it/s]\n",
            "100%|██████████| 82598/82598 [00:00<00:00, 2113657.35it/s]\n",
            "100%|██████████| 82598/82598 [00:00<00:00, 1945828.38it/s]\n",
            "100%|██████████| 82598/82598 [00:00<00:00, 2080739.96it/s]\n",
            "100%|██████████| 82598/82598 [00:00<00:00, 2081002.43it/s]\n",
            "100%|██████████| 82598/82598 [00:00<00:00, 1984403.44it/s]\n",
            "100%|██████████| 82598/82598 [00:00<00:00, 1972506.17it/s]\n",
            "100%|██████████| 82598/82598 [00:00<00:00, 1942642.34it/s]\n",
            "100%|██████████| 82598/82598 [00:00<00:00, 1954059.79it/s]\n",
            "100%|██████████| 82598/82598 [00:00<00:00, 1933632.06it/s]\n",
            "100%|██████████| 82598/82598 [00:00<00:00, 1942239.37it/s]\n",
            "100%|██████████| 82598/82598 [00:00<00:00, 2076288.07it/s]\n",
            "100%|██████████| 82598/82598 [00:00<00:00, 2004380.43it/s]\n",
            "100%|██████████| 82598/82598 [00:00<00:00, 2013583.81it/s]\n",
            "100%|██████████| 82598/82598 [00:00<00:00, 2107459.92it/s]\n",
            "100%|██████████| 82598/82598 [00:00<00:00, 1865224.06it/s]\n"
          ],
          "name": "stderr"
        }
      ]
    },
    {
      "cell_type": "code",
      "metadata": {
        "colab": {
          "base_uri": "https://localhost:8080/",
          "height": 0
        },
        "id": "zColPCbsuE5k",
        "outputId": "21cbb69a-9d3b-48e9-eea6-c8e8767bb4dd"
      },
      "source": [
        "vectors_train = get_vectors(model=model,\n",
        "                            corpus=corpus_train)\n",
        "vectors_test = get_vectors(model=model,\n",
        "                            corpus=corpus_test)\n",
        "\n",
        "X_train = np.array(vectors_train)\n",
        "X_train = np.vstack(X_train)\n",
        "X_test = np.array(vectors_test)\n",
        "X_test = np.vstack(X_test)"
      ],
      "execution_count": 30,
      "outputs": [
        {
          "output_type": "stream",
          "text": [
            "/usr/local/lib/python3.7/dist-packages/ipykernel_launcher.py:5: DeprecationWarning: Call to deprecated `__getitem__` (Method will be removed in 4.0.0, use self.wv.__getitem__() instead).\n",
            "  \"\"\"\n",
            "/usr/local/lib/python3.7/dist-packages/ipykernel_launcher.py:6: VisibleDeprecationWarning: Creating an ndarray from ragged nested sequences (which is a list-or-tuple of lists-or-tuples-or ndarrays with different lengths or shapes) is deprecated. If you meant to do this, you must specify 'dtype=object' when creating the ndarray\n",
            "  \n",
            "/usr/local/lib/python3.7/dist-packages/ipykernel_launcher.py:8: VisibleDeprecationWarning: Creating an ndarray from ragged nested sequences (which is a list-or-tuple of lists-or-tuples-or ndarrays with different lengths or shapes) is deprecated. If you meant to do this, you must specify 'dtype=object' when creating the ndarray\n",
            "  \n"
          ],
          "name": "stderr"
        }
      ]
    },
    {
      "cell_type": "code",
      "metadata": {
        "colab": {
          "base_uri": "https://localhost:8080/",
          "height": 0
        },
        "id": "pV5tAPDnuJm7",
        "outputId": "672c5889-4167-4687-8611-f4b9f4a6df44"
      },
      "source": [
        "classification_report(x_train=X_train,\n",
        "                      x_test=X_test,\n",
        "                      y_train=y_train,\n",
        "                      y_test=y_test)"
      ],
      "execution_count": 31,
      "outputs": [
        {
          "output_type": "stream",
          "text": [
            "LogisticRegression:\n",
            "accuracy: 0.7328087167070217\n",
            "precision: 0.7319889537068984\n",
            "recall: 0.7308830827772723\n",
            "              precision    recall  f1-score   support\n",
            "\n",
            "           0       0.72      0.70      0.71      7761\n",
            "           1       0.74      0.76      0.75      8759\n",
            "\n",
            "    accuracy                           0.73     16520\n",
            "   macro avg       0.73      0.73      0.73     16520\n",
            "weighted avg       0.73      0.73      0.73     16520\n",
            "\n",
            "RandomForest:\n",
            "accuracy: 0.7130750605326877\n",
            "precision: 0.7128433291807558\n",
            "recall: 0.7097998886384816\n",
            "              precision    recall  f1-score   support\n",
            "\n",
            "           0       0.71      0.66      0.68      7761\n",
            "           1       0.71      0.76      0.74      8759\n",
            "\n",
            "    accuracy                           0.71     16520\n",
            "   macro avg       0.71      0.71      0.71     16520\n",
            "weighted avg       0.71      0.71      0.71     16520\n",
            "\n"
          ],
          "name": "stdout"
        }
      ]
    },
    {
      "cell_type": "markdown",
      "metadata": {
        "id": "bx4bPZ2_uVfy"
      },
      "source": [
        "# window = 3"
      ]
    },
    {
      "cell_type": "code",
      "metadata": {
        "colab": {
          "base_uri": "https://localhost:8080/",
          "height": 0
        },
        "id": "QqXWkzvUuUeK",
        "outputId": "c75def19-de50-4fca-a574-9c0e18b49137"
      },
      "source": [
        "model = train_word2vec(corpus=corpus, \n",
        "                         n_epoch=25, \n",
        "                         name_corpus=\"movie\", \n",
        "                         sg=0, \n",
        "                         negative=5,\n",
        "                         alpha = 0.05,\n",
        "                         min_alpha = 0.065,\n",
        "                         window = 3,\n",
        "                         vector_size=150,\n",
        "                         min_count=2)"
      ],
      "execution_count": 32,
      "outputs": [
        {
          "output_type": "stream",
          "text": [
            "100%|██████████| 82598/82598 [00:00<00:00, 1923497.43it/s]\n",
            "100%|██████████| 82598/82598 [00:00<00:00, 2039208.44it/s]\n",
            "100%|██████████| 82598/82598 [00:00<00:00, 2013256.17it/s]\n",
            "100%|██████████| 82598/82598 [00:00<00:00, 1923422.67it/s]\n",
            "100%|██████████| 82598/82598 [00:00<00:00, 1945730.02it/s]\n",
            "100%|██████████| 82598/82598 [00:00<00:00, 1988024.62it/s]\n",
            "100%|██████████| 82598/82598 [00:00<00:00, 1988172.93it/s]\n",
            "100%|██████████| 82598/82598 [00:00<00:00, 1934096.25it/s]\n",
            "100%|██████████| 82598/82598 [00:00<00:00, 2075032.02it/s]\n",
            "100%|██████████| 82598/82598 [00:00<00:00, 2009484.30it/s]\n",
            "100%|██████████| 82598/82598 [00:00<00:00, 2087610.93it/s]\n",
            "100%|██████████| 82598/82598 [00:00<00:00, 1789810.67it/s]\n",
            "100%|██████████| 82598/82598 [00:00<00:00, 2044962.11it/s]\n",
            "100%|██████████| 82598/82598 [00:00<00:00, 1993217.43it/s]\n",
            "100%|██████████| 82598/82598 [00:00<00:00, 1910081.99it/s]\n",
            "100%|██████████| 82598/82598 [00:00<00:00, 2041455.49it/s]\n",
            "100%|██████████| 82598/82598 [00:00<00:00, 2069528.39it/s]\n",
            "100%|██████████| 82598/82598 [00:00<00:00, 1970621.22it/s]\n",
            "100%|██████████| 82598/82598 [00:00<00:00, 2036523.28it/s]\n",
            "100%|██████████| 82598/82598 [00:00<00:00, 1969355.38it/s]\n",
            "100%|██████████| 82598/82598 [00:00<00:00, 1986554.06it/s]\n",
            "100%|██████████| 82598/82598 [00:00<00:00, 2154819.60it/s]\n",
            "100%|██████████| 82598/82598 [00:00<00:00, 1975948.77it/s]\n",
            "100%|██████████| 82598/82598 [00:00<00:00, 2032699.59it/s]\n",
            "100%|██████████| 82598/82598 [00:00<00:00, 1995456.16it/s]\n",
            "100%|██████████| 82598/82598 [00:00<00:00, 2035948.81it/s]\n"
          ],
          "name": "stderr"
        }
      ]
    },
    {
      "cell_type": "code",
      "metadata": {
        "colab": {
          "base_uri": "https://localhost:8080/",
          "height": 0
        },
        "id": "xPBRjqXzul1G",
        "outputId": "f6d5b982-8bc3-40d2-dfad-77d4717c2f01"
      },
      "source": [
        "vectors_train = get_vectors(model=model,\n",
        "                            corpus=corpus_train)\n",
        "vectors_test = get_vectors(model=model,\n",
        "                            corpus=corpus_test)\n",
        "\n",
        "X_train = np.array(vectors_train)\n",
        "X_train = np.vstack(X_train)\n",
        "X_test = np.array(vectors_test)\n",
        "X_test = np.vstack(X_test)"
      ],
      "execution_count": 33,
      "outputs": [
        {
          "output_type": "stream",
          "text": [
            "/usr/local/lib/python3.7/dist-packages/ipykernel_launcher.py:5: DeprecationWarning: Call to deprecated `__getitem__` (Method will be removed in 4.0.0, use self.wv.__getitem__() instead).\n",
            "  \"\"\"\n",
            "/usr/local/lib/python3.7/dist-packages/ipykernel_launcher.py:6: VisibleDeprecationWarning: Creating an ndarray from ragged nested sequences (which is a list-or-tuple of lists-or-tuples-or ndarrays with different lengths or shapes) is deprecated. If you meant to do this, you must specify 'dtype=object' when creating the ndarray\n",
            "  \n",
            "/usr/local/lib/python3.7/dist-packages/ipykernel_launcher.py:8: VisibleDeprecationWarning: Creating an ndarray from ragged nested sequences (which is a list-or-tuple of lists-or-tuples-or ndarrays with different lengths or shapes) is deprecated. If you meant to do this, you must specify 'dtype=object' when creating the ndarray\n",
            "  \n"
          ],
          "name": "stderr"
        }
      ]
    },
    {
      "cell_type": "code",
      "metadata": {
        "colab": {
          "base_uri": "https://localhost:8080/",
          "height": 0
        },
        "id": "CIYqGZ4_uoFm",
        "outputId": "91d9f107-a087-4a37-8ce4-0a6e442187a0"
      },
      "source": [
        "classification_report(x_train=X_train,\n",
        "                      x_test=X_test,\n",
        "                      y_train=y_train,\n",
        "                      y_test=y_test)"
      ],
      "execution_count": 34,
      "outputs": [
        {
          "output_type": "stream",
          "text": [
            "LogisticRegression:\n",
            "accuracy: 0.7395883777239709\n",
            "precision: 0.7389859341046865\n",
            "recall: 0.7373866148668349\n",
            "              precision    recall  f1-score   support\n",
            "\n",
            "           0       0.73      0.70      0.72      7761\n",
            "           1       0.74      0.77      0.76      8759\n",
            "\n",
            "    accuracy                           0.74     16520\n",
            "   macro avg       0.74      0.74      0.74     16520\n",
            "weighted avg       0.74      0.74      0.74     16520\n",
            "\n",
            "RandomForest:\n",
            "accuracy: 0.7204600484261501\n",
            "precision: 0.7202135129479756\n",
            "recall: 0.7173734192433121\n",
            "              precision    recall  f1-score   support\n",
            "\n",
            "           0       0.72      0.67      0.69      7761\n",
            "           1       0.72      0.77      0.74      8759\n",
            "\n",
            "    accuracy                           0.72     16520\n",
            "   macro avg       0.72      0.72      0.72     16520\n",
            "weighted avg       0.72      0.72      0.72     16520\n",
            "\n"
          ],
          "name": "stdout"
        }
      ]
    },
    {
      "cell_type": "markdown",
      "metadata": {
        "id": "Uo8XEx9KupRg"
      },
      "source": [
        "# window size = 5"
      ]
    },
    {
      "cell_type": "code",
      "metadata": {
        "id": "Q_LfAvpEutjk",
        "colab": {
          "base_uri": "https://localhost:8080/",
          "height": 0
        },
        "outputId": "801c5c48-4f6c-4206-ea93-318d4c29b0f8"
      },
      "source": [
        "model = train_word2vec(corpus=corpus, \n",
        "                         n_epoch=25, \n",
        "                         name_corpus=\"movie\", \n",
        "                         sg=0, \n",
        "                         negative=5,\n",
        "                         alpha = 0.05,\n",
        "                         min_alpha = 0.065,\n",
        "                         window = 5,\n",
        "                         vector_size=150,\n",
        "                         min_count=2)"
      ],
      "execution_count": 35,
      "outputs": [
        {
          "output_type": "stream",
          "text": [
            "100%|██████████| 82598/82598 [00:00<00:00, 1902069.97it/s]\n",
            "100%|██████████| 82598/82598 [00:00<00:00, 1991178.25it/s]\n",
            "100%|██████████| 82598/82598 [00:00<00:00, 2012753.22it/s]\n",
            "100%|██████████| 82598/82598 [00:00<00:00, 1865414.89it/s]\n",
            "100%|██████████| 82598/82598 [00:00<00:00, 2138763.08it/s]\n",
            "100%|██████████| 82598/82598 [00:00<00:00, 2001265.79it/s]\n",
            "100%|██████████| 82598/82598 [00:00<00:00, 1943764.99it/s]\n",
            "100%|██████████| 82598/82598 [00:00<00:00, 2043357.94it/s]\n",
            "100%|██████████| 82598/82598 [00:00<00:00, 1926331.68it/s]\n",
            "100%|██████████| 82598/82598 [00:00<00:00, 1889105.25it/s]\n",
            "100%|██████████| 82598/82598 [00:00<00:00, 2194554.31it/s]\n",
            "100%|██████████| 82598/82598 [00:00<00:00, 1998126.24it/s]\n",
            "100%|██████████| 82598/82598 [00:00<00:00, 2128984.44it/s]\n",
            "100%|██████████| 82598/82598 [00:00<00:00, 1994043.46it/s]\n",
            "100%|██████████| 82598/82598 [00:00<00:00, 1888600.63it/s]\n",
            "100%|██████████| 82598/82598 [00:00<00:00, 2012566.13it/s]\n",
            "100%|██████████| 82598/82598 [00:00<00:00, 1957493.54it/s]\n",
            "100%|██████████| 82598/82598 [00:00<00:00, 1974901.22it/s]\n",
            "100%|██████████| 82598/82598 [00:00<00:00, 2099439.58it/s]\n",
            "100%|██████████| 82598/82598 [00:00<00:00, 1998322.17it/s]\n",
            "100%|██████████| 82598/82598 [00:00<00:00, 1961727.76it/s]\n",
            "100%|██████████| 82598/82598 [00:00<00:00, 2055103.47it/s]\n",
            "100%|██████████| 82598/82598 [00:00<00:00, 2003163.52it/s]\n",
            "100%|██████████| 82598/82598 [00:00<00:00, 2007784.00it/s]\n",
            "100%|██████████| 82598/82598 [00:00<00:00, 1927703.68it/s]\n",
            "100%|██████████| 82598/82598 [00:00<00:00, 2009157.99it/s]\n"
          ],
          "name": "stderr"
        }
      ]
    },
    {
      "cell_type": "code",
      "metadata": {
        "colab": {
          "base_uri": "https://localhost:8080/",
          "height": 0
        },
        "id": "Ph8qFhMYuvMk",
        "outputId": "34cf5d0a-3388-467a-a316-03f88b995062"
      },
      "source": [
        "vectors_train = get_vectors(model=model,\n",
        "                            corpus=corpus_train)\n",
        "vectors_test = get_vectors(model=model,\n",
        "                            corpus=corpus_test)\n",
        "\n",
        "X_train = np.array(vectors_train)\n",
        "X_train = np.vstack(X_train)\n",
        "X_test = np.array(vectors_test)\n",
        "X_test = np.vstack(X_test)\n",
        "\n",
        "classification_report(x_train=X_train,\n",
        "                      x_test=X_test,\n",
        "                      y_train=y_train,\n",
        "                      y_test=y_test)"
      ],
      "execution_count": 36,
      "outputs": [
        {
          "output_type": "stream",
          "text": [
            "/usr/local/lib/python3.7/dist-packages/ipykernel_launcher.py:5: DeprecationWarning: Call to deprecated `__getitem__` (Method will be removed in 4.0.0, use self.wv.__getitem__() instead).\n",
            "  \"\"\"\n",
            "/usr/local/lib/python3.7/dist-packages/ipykernel_launcher.py:6: VisibleDeprecationWarning: Creating an ndarray from ragged nested sequences (which is a list-or-tuple of lists-or-tuples-or ndarrays with different lengths or shapes) is deprecated. If you meant to do this, you must specify 'dtype=object' when creating the ndarray\n",
            "  \n",
            "/usr/local/lib/python3.7/dist-packages/ipykernel_launcher.py:8: VisibleDeprecationWarning: Creating an ndarray from ragged nested sequences (which is a list-or-tuple of lists-or-tuples-or ndarrays with different lengths or shapes) is deprecated. If you meant to do this, you must specify 'dtype=object' when creating the ndarray\n",
            "  \n"
          ],
          "name": "stderr"
        },
        {
          "output_type": "stream",
          "text": [
            "LogisticRegression:\n",
            "accuracy: 0.7414043583535109\n",
            "precision: 0.7408347136112996\n",
            "recall: 0.7391872256737742\n",
            "              precision    recall  f1-score   support\n",
            "\n",
            "           0       0.74      0.70      0.72      7761\n",
            "           1       0.75      0.78      0.76      8759\n",
            "\n",
            "    accuracy                           0.74     16520\n",
            "   macro avg       0.74      0.74      0.74     16520\n",
            "weighted avg       0.74      0.74      0.74     16520\n",
            "\n",
            "RandomForest:\n",
            "accuracy: 0.7269975786924939\n",
            "precision: 0.7265949550601012\n",
            "recall: 0.7242431989514817\n",
            "              precision    recall  f1-score   support\n",
            "\n",
            "           0       0.72      0.68      0.70      7761\n",
            "           1       0.73      0.77      0.75      8759\n",
            "\n",
            "    accuracy                           0.73     16520\n",
            "   macro avg       0.73      0.72      0.72     16520\n",
            "weighted avg       0.73      0.73      0.73     16520\n",
            "\n"
          ],
          "name": "stdout"
        }
      ]
    },
    {
      "cell_type": "markdown",
      "metadata": {
        "id": "q71fQ3vbu2eC"
      },
      "source": [
        "# window size = 7"
      ]
    },
    {
      "cell_type": "code",
      "metadata": {
        "colab": {
          "base_uri": "https://localhost:8080/",
          "height": 0
        },
        "id": "40kIrtDbu1R2",
        "outputId": "3aafb9fe-4ef1-4b57-e9ef-b7960cb6eb96"
      },
      "source": [
        "model = train_word2vec(corpus=corpus, \n",
        "                         n_epoch=25, \n",
        "                         name_corpus=\"movie\", \n",
        "                         sg=0, \n",
        "                         negative=5,\n",
        "                         alpha = 0.05,\n",
        "                         min_alpha = 0.065,\n",
        "                         window = 7,\n",
        "                         vector_size=150,\n",
        "                         min_count=2)\n",
        "\n",
        "\n",
        "vectors_train = get_vectors(model=model,\n",
        "                            corpus=corpus_train)\n",
        "vectors_test = get_vectors(model=model,\n",
        "                            corpus=corpus_test)\n",
        "\n",
        "X_train = np.array(vectors_train)\n",
        "X_train = np.vstack(X_train)\n",
        "X_test = np.array(vectors_test)\n",
        "X_test = np.vstack(X_test)\n",
        "\n",
        "classification_report(x_train=X_train,\n",
        "                      x_test=X_test,\n",
        "                      y_train=y_train,\n",
        "                      y_test=y_test)"
      ],
      "execution_count": 37,
      "outputs": [
        {
          "output_type": "stream",
          "text": [
            "100%|██████████| 82598/82598 [00:00<00:00, 2132339.03it/s]\n",
            "100%|██████████| 82598/82598 [00:00<00:00, 2054092.11it/s]\n",
            "100%|██████████| 82598/82598 [00:00<00:00, 2027655.26it/s]\n",
            "100%|██████████| 82598/82598 [00:00<00:00, 1901746.29it/s]\n",
            "100%|██████████| 82598/82598 [00:00<00:00, 1794074.26it/s]\n",
            "100%|██████████| 82598/82598 [00:00<00:00, 2086743.29it/s]\n",
            "100%|██████████| 82598/82598 [00:00<00:00, 2057422.36it/s]\n",
            "100%|██████████| 82598/82598 [00:00<00:00, 2144137.26it/s]\n",
            "100%|██████████| 82598/82598 [00:00<00:00, 2089827.31it/s]\n",
            "100%|██████████| 82598/82598 [00:00<00:00, 2118025.05it/s]\n",
            "100%|██████████| 82598/82598 [00:00<00:00, 1928165.02it/s]\n",
            "100%|██████████| 82598/82598 [00:00<00:00, 2089877.73it/s]\n",
            "100%|██████████| 82598/82598 [00:00<00:00, 2114883.14it/s]\n",
            "100%|██████████| 82598/82598 [00:00<00:00, 1915997.69it/s]\n",
            "100%|██████████| 82598/82598 [00:00<00:00, 2045300.16it/s]\n",
            "100%|██████████| 82598/82598 [00:00<00:00, 2076736.13it/s]\n",
            "100%|██████████| 82598/82598 [00:00<00:00, 1946626.52it/s]\n",
            "100%|██████████| 82598/82598 [00:00<00:00, 2011479.41it/s]\n",
            "100%|██████████| 82598/82598 [00:00<00:00, 2129717.35it/s]\n",
            "100%|██████████| 82598/82598 [00:00<00:00, 2013221.07it/s]\n",
            "100%|██████████| 82598/82598 [00:00<00:00, 2125953.45it/s]\n",
            "100%|██████████| 82598/82598 [00:00<00:00, 1969075.55it/s]\n",
            "100%|██████████| 82598/82598 [00:00<00:00, 2148871.86it/s]\n",
            "100%|██████████| 82598/82598 [00:00<00:00, 1983960.24it/s]\n",
            "100%|██████████| 82598/82598 [00:00<00:00, 2080390.10it/s]\n",
            "100%|██████████| 82598/82598 [00:00<00:00, 2091833.65it/s]\n",
            "/usr/local/lib/python3.7/dist-packages/ipykernel_launcher.py:5: DeprecationWarning: Call to deprecated `__getitem__` (Method will be removed in 4.0.0, use self.wv.__getitem__() instead).\n",
            "  \"\"\"\n",
            "/usr/local/lib/python3.7/dist-packages/ipykernel_launcher.py:18: VisibleDeprecationWarning: Creating an ndarray from ragged nested sequences (which is a list-or-tuple of lists-or-tuples-or ndarrays with different lengths or shapes) is deprecated. If you meant to do this, you must specify 'dtype=object' when creating the ndarray\n",
            "/usr/local/lib/python3.7/dist-packages/ipykernel_launcher.py:20: VisibleDeprecationWarning: Creating an ndarray from ragged nested sequences (which is a list-or-tuple of lists-or-tuples-or ndarrays with different lengths or shapes) is deprecated. If you meant to do this, you must specify 'dtype=object' when creating the ndarray\n"
          ],
          "name": "stderr"
        },
        {
          "output_type": "stream",
          "text": [
            "LogisticRegression:\n",
            "accuracy: 0.7463075060532688\n",
            "precision: 0.7456951923186192\n",
            "recall: 0.7442588144542372\n",
            "              precision    recall  f1-score   support\n",
            "\n",
            "           0       0.74      0.71      0.72      7761\n",
            "           1       0.75      0.78      0.76      8759\n",
            "\n",
            "    accuracy                           0.75     16520\n",
            "   macro avg       0.75      0.74      0.74     16520\n",
            "weighted avg       0.75      0.75      0.75     16520\n",
            "\n",
            "RandomForest:\n",
            "accuracy: 0.7291767554479419\n",
            "precision: 0.7287146313762283\n",
            "recall: 0.7265478066119015\n",
            "              precision    recall  f1-score   support\n",
            "\n",
            "           0       0.72      0.68      0.70      7761\n",
            "           1       0.73      0.77      0.75      8759\n",
            "\n",
            "    accuracy                           0.73     16520\n",
            "   macro avg       0.73      0.73      0.73     16520\n",
            "weighted avg       0.73      0.73      0.73     16520\n",
            "\n"
          ],
          "name": "stdout"
        }
      ]
    },
    {
      "cell_type": "code",
      "metadata": {
        "id": "WMnCFd1vu-yL"
      },
      "source": [
        ""
      ],
      "execution_count": 37,
      "outputs": []
    },
    {
      "cell_type": "markdown",
      "metadata": {
        "id": "MMEjCkh9vC9D"
      },
      "source": [
        "# vector size = 25\n"
      ]
    },
    {
      "cell_type": "code",
      "metadata": {
        "colab": {
          "base_uri": "https://localhost:8080/",
          "height": 0
        },
        "id": "d2bHOBPlvF_A",
        "outputId": "12642e74-d45e-408b-ed81-5b3095497ccc"
      },
      "source": [
        "model = train_word2vec(corpus=corpus, \n",
        "                         n_epoch=25, \n",
        "                         name_corpus=\"movie\", \n",
        "                         sg=0, \n",
        "                         negative=5,\n",
        "                         alpha = 0.05,\n",
        "                         min_alpha = 0.065,\n",
        "                         window = 3,\n",
        "                         vector_size=25,\n",
        "                         min_count=2)\n",
        "\n",
        "\n",
        "vectors_train = get_vectors(model=model,\n",
        "                            corpus=corpus_train)\n",
        "vectors_test = get_vectors(model=model,\n",
        "                            corpus=corpus_test)\n",
        "\n",
        "X_train = np.array(vectors_train)\n",
        "X_train = np.vstack(X_train)\n",
        "X_test = np.array(vectors_test)\n",
        "X_test = np.vstack(X_test)\n",
        "\n",
        "classification_report(x_train=X_train,\n",
        "                      x_test=X_test,\n",
        "                      y_train=y_train,\n",
        "                      y_test=y_test)"
      ],
      "execution_count": 38,
      "outputs": [
        {
          "output_type": "stream",
          "text": [
            "100%|██████████| 82598/82598 [00:00<00:00, 1933243.61it/s]\n",
            "100%|██████████| 82598/82598 [00:00<00:00, 2031555.28it/s]\n",
            "100%|██████████| 82598/82598 [00:00<00:00, 1917705.24it/s]\n",
            "100%|██████████| 82598/82598 [00:00<00:00, 1921896.83it/s]\n",
            "100%|██████████| 82598/82598 [00:00<00:00, 2035566.01it/s]\n",
            "100%|██████████| 82598/82598 [00:00<00:00, 1929733.09it/s]\n",
            "100%|██████████| 82598/82598 [00:00<00:00, 2071235.85it/s]\n",
            "100%|██████████| 82598/82598 [00:00<00:00, 2157705.04it/s]\n",
            "100%|██████████| 82598/82598 [00:00<00:00, 2139066.81it/s]\n",
            "100%|██████████| 82598/82598 [00:00<00:00, 2019652.68it/s]\n",
            "100%|██████████| 82598/82598 [00:00<00:00, 2048626.16it/s]\n",
            "100%|██████████| 82598/82598 [00:00<00:00, 2052424.95it/s]\n",
            "100%|██████████| 82598/82598 [00:00<00:00, 1950484.31it/s]\n",
            "100%|██████████| 82598/82598 [00:00<00:00, 1927457.00it/s]\n",
            "100%|██████████| 82598/82598 [00:00<00:00, 2032174.95it/s]\n",
            "100%|██████████| 82598/82598 [00:00<00:00, 1995686.06it/s]\n",
            "100%|██████████| 82598/82598 [00:00<00:00, 2064902.74it/s]\n",
            "100%|██████████| 82598/82598 [00:00<00:00, 1949068.74it/s]\n",
            "100%|██████████| 82598/82598 [00:00<00:00, 2009565.89it/s]\n",
            "100%|██████████| 82598/82598 [00:00<00:00, 1973753.57it/s]\n",
            "100%|██████████| 82598/82598 [00:00<00:00, 1832178.42it/s]\n",
            "100%|██████████| 82598/82598 [00:00<00:00, 2080889.93it/s]\n",
            "100%|██████████| 82598/82598 [00:00<00:00, 2047754.31it/s]\n",
            "100%|██████████| 82598/82598 [00:00<00:00, 2071756.07it/s]\n",
            "100%|██████████| 82598/82598 [00:00<00:00, 2004322.45it/s]\n",
            "100%|██████████| 82598/82598 [00:00<00:00, 2063943.20it/s]\n",
            "/usr/local/lib/python3.7/dist-packages/ipykernel_launcher.py:5: DeprecationWarning: Call to deprecated `__getitem__` (Method will be removed in 4.0.0, use self.wv.__getitem__() instead).\n",
            "  \"\"\"\n",
            "/usr/local/lib/python3.7/dist-packages/ipykernel_launcher.py:18: VisibleDeprecationWarning: Creating an ndarray from ragged nested sequences (which is a list-or-tuple of lists-or-tuples-or ndarrays with different lengths or shapes) is deprecated. If you meant to do this, you must specify 'dtype=object' when creating the ndarray\n",
            "/usr/local/lib/python3.7/dist-packages/ipykernel_launcher.py:20: VisibleDeprecationWarning: Creating an ndarray from ragged nested sequences (which is a list-or-tuple of lists-or-tuples-or ndarrays with different lengths or shapes) is deprecated. If you meant to do this, you must specify 'dtype=object' when creating the ndarray\n"
          ],
          "name": "stderr"
        },
        {
          "output_type": "stream",
          "text": [
            "LogisticRegression:\n",
            "accuracy: 0.7207021791767555\n",
            "precision: 0.7198313647010177\n",
            "recall: 0.7185927294559278\n",
            "              precision    recall  f1-score   support\n",
            "\n",
            "           0       0.71      0.68      0.70      7761\n",
            "           1       0.73      0.75      0.74      8759\n",
            "\n",
            "    accuracy                           0.72     16520\n",
            "   macro avg       0.72      0.72      0.72     16520\n",
            "weighted avg       0.72      0.72      0.72     16520\n",
            "\n",
            "RandomForest:\n",
            "accuracy: 0.7177966101694915\n",
            "precision: 0.7172028932941477\n",
            "recall: 0.7150966144506744\n",
            "              precision    recall  f1-score   support\n",
            "\n",
            "           0       0.71      0.67      0.69      7761\n",
            "           1       0.72      0.76      0.74      8759\n",
            "\n",
            "    accuracy                           0.72     16520\n",
            "   macro avg       0.72      0.72      0.72     16520\n",
            "weighted avg       0.72      0.72      0.72     16520\n",
            "\n"
          ],
          "name": "stdout"
        }
      ]
    },
    {
      "cell_type": "markdown",
      "metadata": {
        "id": "0LYFwoQ9vRIM"
      },
      "source": [
        "# vector  size = 50"
      ]
    },
    {
      "cell_type": "code",
      "metadata": {
        "colab": {
          "base_uri": "https://localhost:8080/",
          "height": 0
        },
        "id": "WwCctArMvT7J",
        "outputId": "edc99e53-dfd4-43a8-f279-8d055a63399b"
      },
      "source": [
        "model = train_word2vec(corpus=corpus, \n",
        "                         n_epoch=25, \n",
        "                         name_corpus=\"movie\", \n",
        "                         sg=0, \n",
        "                         negative=5,\n",
        "                         alpha = 0.05,\n",
        "                         min_alpha = 0.065,\n",
        "                         window = 3,\n",
        "                         vector_size=50,\n",
        "                         min_count=2)\n",
        "\n",
        "\n",
        "vectors_train = get_vectors(model=model,\n",
        "                            corpus=corpus_train)\n",
        "vectors_test = get_vectors(model=model,\n",
        "                            corpus=corpus_test)\n",
        "\n",
        "X_train = np.array(vectors_train)\n",
        "X_train = np.vstack(X_train)\n",
        "X_test = np.array(vectors_test)\n",
        "X_test = np.vstack(X_test)\n",
        "\n",
        "classification_report(x_train=X_train,\n",
        "                      x_test=X_test,\n",
        "                      y_train=y_train,\n",
        "                      y_test=y_test)"
      ],
      "execution_count": 39,
      "outputs": [
        {
          "output_type": "stream",
          "text": [
            "100%|██████████| 82598/82598 [00:00<00:00, 2098002.91it/s]\n",
            "100%|██████████| 82598/82598 [00:00<00:00, 2108781.21it/s]\n",
            "100%|██████████| 82598/82598 [00:00<00:00, 1995801.03it/s]\n",
            "100%|██████████| 82598/82598 [00:00<00:00, 1869471.56it/s]\n",
            "100%|██████████| 82598/82598 [00:00<00:00, 2012718.14it/s]\n",
            "100%|██████████| 82598/82598 [00:00<00:00, 1961827.74it/s]\n",
            "100%|██████████| 82598/82598 [00:00<00:00, 1932531.86it/s]\n",
            "100%|██████████| 82598/82598 [00:00<00:00, 2033510.92it/s]\n",
            "100%|██████████| 82598/82598 [00:00<00:00, 2002318.36it/s]\n",
            "100%|██████████| 82598/82598 [00:00<00:00, 1971686.67it/s]\n",
            "100%|██████████| 82598/82598 [00:00<00:00, 2027738.33it/s]\n",
            "100%|██████████| 82598/82598 [00:00<00:00, 2088290.46it/s]\n",
            "100%|██████████| 82598/82598 [00:00<00:00, 2036990.28it/s]\n",
            "100%|██████████| 82598/82598 [00:00<00:00, 1979788.00it/s]\n",
            "100%|██████████| 82598/82598 [00:00<00:00, 2165148.75it/s]\n",
            "100%|██████████| 82598/82598 [00:00<00:00, 1888858.05it/s]\n",
            "100%|██████████| 82598/82598 [00:00<00:00, 1986895.85it/s]\n",
            "100%|██████████| 82598/82598 [00:00<00:00, 2094312.19it/s]\n",
            "100%|██████████| 82598/82598 [00:00<00:00, 1933804.75it/s]\n",
            "100%|██████████| 82598/82598 [00:00<00:00, 2097113.92it/s]\n",
            "100%|██████████| 82598/82598 [00:00<00:00, 1889084.64it/s]\n",
            "100%|██████████| 82598/82598 [00:00<00:00, 2027750.20it/s]\n",
            "100%|██████████| 82598/82598 [00:00<00:00, 2166841.51it/s]\n",
            "100%|██████████| 82598/82598 [00:00<00:00, 2069058.71it/s]\n",
            "100%|██████████| 82598/82598 [00:00<00:00, 1998518.14it/s]\n",
            "100%|██████████| 82598/82598 [00:00<00:00, 1968236.53it/s]\n",
            "/usr/local/lib/python3.7/dist-packages/ipykernel_launcher.py:5: DeprecationWarning: Call to deprecated `__getitem__` (Method will be removed in 4.0.0, use self.wv.__getitem__() instead).\n",
            "  \"\"\"\n",
            "/usr/local/lib/python3.7/dist-packages/ipykernel_launcher.py:18: VisibleDeprecationWarning: Creating an ndarray from ragged nested sequences (which is a list-or-tuple of lists-or-tuples-or ndarrays with different lengths or shapes) is deprecated. If you meant to do this, you must specify 'dtype=object' when creating the ndarray\n",
            "/usr/local/lib/python3.7/dist-packages/ipykernel_launcher.py:20: VisibleDeprecationWarning: Creating an ndarray from ragged nested sequences (which is a list-or-tuple of lists-or-tuples-or ndarrays with different lengths or shapes) is deprecated. If you meant to do this, you must specify 'dtype=object' when creating the ndarray\n"
          ],
          "name": "stderr"
        },
        {
          "output_type": "stream",
          "text": [
            "LogisticRegression:\n",
            "accuracy: 0.7325665859564164\n",
            "precision: 0.7317894363189625\n",
            "recall: 0.7305372974809321\n",
            "              precision    recall  f1-score   support\n",
            "\n",
            "           0       0.72      0.70      0.71      7761\n",
            "           1       0.74      0.76      0.75      8759\n",
            "\n",
            "    accuracy                           0.73     16520\n",
            "   macro avg       0.73      0.73      0.73     16520\n",
            "weighted avg       0.73      0.73      0.73     16520\n",
            "\n",
            "RandomForest:\n",
            "accuracy: 0.7275423728813559\n",
            "precision: 0.7270774169291097\n",
            "recall: 0.7248817455034635\n",
            "              precision    recall  f1-score   support\n",
            "\n",
            "           0       0.72      0.68      0.70      7761\n",
            "           1       0.73      0.77      0.75      8759\n",
            "\n",
            "    accuracy                           0.73     16520\n",
            "   macro avg       0.73      0.72      0.73     16520\n",
            "weighted avg       0.73      0.73      0.73     16520\n",
            "\n"
          ],
          "name": "stdout"
        }
      ]
    },
    {
      "cell_type": "markdown",
      "metadata": {
        "id": "V0bBqXNivhF6"
      },
      "source": [
        "# vector size = 100"
      ]
    },
    {
      "cell_type": "code",
      "metadata": {
        "colab": {
          "base_uri": "https://localhost:8080/",
          "height": 0
        },
        "id": "ElhiDOD8vmHo",
        "outputId": "db3f5800-1510-49c1-bd43-f38f8551ff92"
      },
      "source": [
        "model = train_word2vec(corpus=corpus, \n",
        "                         n_epoch=25, \n",
        "                         name_corpus=\"movie\", \n",
        "                         sg=0, \n",
        "                         negative=5,\n",
        "                         alpha = 0.05,\n",
        "                         min_alpha = 0.065,\n",
        "                         window = 3,\n",
        "                         vector_size=100,\n",
        "                         min_count=2)\n",
        "\n",
        "\n",
        "vectors_train = get_vectors(model=model,\n",
        "                            corpus=corpus_train)\n",
        "vectors_test = get_vectors(model=model,\n",
        "                            corpus=corpus_test)\n",
        "\n",
        "X_train = np.array(vectors_train)\n",
        "X_train = np.vstack(X_train)\n",
        "X_test = np.array(vectors_test)\n",
        "X_test = np.vstack(X_test)\n",
        "\n",
        "classification_report(x_train=X_train,\n",
        "                      x_test=X_test,\n",
        "                      y_train=y_train,\n",
        "                      y_test=y_test)"
      ],
      "execution_count": 40,
      "outputs": [
        {
          "output_type": "stream",
          "text": [
            "100%|██████████| 82598/82598 [00:00<00:00, 1840754.93it/s]\n",
            "100%|██████████| 82598/82598 [00:00<00:00, 1945664.46it/s]\n",
            "100%|██████████| 82598/82598 [00:00<00:00, 1987363.17it/s]\n",
            "100%|██████████| 82598/82598 [00:00<00:00, 2042550.77it/s]\n",
            "100%|██████████| 82598/82598 [00:00<00:00, 2017805.85it/s]\n",
            "100%|██████████| 82598/82598 [00:00<00:00, 2028712.01it/s]\n",
            "100%|██████████| 82598/82598 [00:00<00:00, 1895243.97it/s]\n",
            "100%|██████████| 82598/82598 [00:00<00:00, 2050857.61it/s]\n",
            "100%|██████████| 82598/82598 [00:00<00:00, 2079054.23it/s]\n",
            "100%|██████████| 82598/82598 [00:00<00:00, 1960972.68it/s]\n",
            "100%|██████████| 82598/82598 [00:00<00:00, 2200157.00it/s]\n",
            "100%|██████████| 82598/82598 [00:00<00:00, 2144190.34it/s]\n",
            "100%|██████████| 82598/82598 [00:00<00:00, 2092086.29it/s]\n",
            "100%|██████████| 82598/82598 [00:00<00:00, 1916400.44it/s]\n",
            "100%|██████████| 82598/82598 [00:00<00:00, 1901819.37it/s]\n",
            "100%|██████████| 82598/82598 [00:00<00:00, 2058180.19it/s]\n",
            "100%|██████████| 82598/82598 [00:00<00:00, 2031078.86it/s]\n",
            "100%|██████████| 82598/82598 [00:00<00:00, 2036271.91it/s]\n",
            "100%|██████████| 82598/82598 [00:00<00:00, 2064324.45it/s]\n",
            "100%|██████████| 82598/82598 [00:00<00:00, 2020536.11it/s]\n",
            "100%|██████████| 82598/82598 [00:00<00:00, 2008948.28it/s]\n",
            "100%|██████████| 82598/82598 [00:00<00:00, 2073256.26it/s]\n",
            "100%|██████████| 82598/82598 [00:00<00:00, 1986713.55it/s]\n",
            "100%|██████████| 82598/82598 [00:00<00:00, 1893151.92it/s]\n",
            "100%|██████████| 82598/82598 [00:00<00:00, 1891291.60it/s]\n",
            "100%|██████████| 82598/82598 [00:00<00:00, 2072065.85it/s]\n",
            "/usr/local/lib/python3.7/dist-packages/ipykernel_launcher.py:5: DeprecationWarning: Call to deprecated `__getitem__` (Method will be removed in 4.0.0, use self.wv.__getitem__() instead).\n",
            "  \"\"\"\n",
            "/usr/local/lib/python3.7/dist-packages/ipykernel_launcher.py:18: VisibleDeprecationWarning: Creating an ndarray from ragged nested sequences (which is a list-or-tuple of lists-or-tuples-or ndarrays with different lengths or shapes) is deprecated. If you meant to do this, you must specify 'dtype=object' when creating the ndarray\n",
            "/usr/local/lib/python3.7/dist-packages/ipykernel_launcher.py:20: VisibleDeprecationWarning: Creating an ndarray from ragged nested sequences (which is a list-or-tuple of lists-or-tuples-or ndarrays with different lengths or shapes) is deprecated. If you meant to do this, you must specify 'dtype=object' when creating the ndarray\n"
          ],
          "name": "stderr"
        },
        {
          "output_type": "stream",
          "text": [
            "LogisticRegression:\n",
            "accuracy: 0.7372881355932204\n",
            "precision: 0.7367068604923366\n",
            "recall: 0.735004541649939\n",
            "              precision    recall  f1-score   support\n",
            "\n",
            "           0       0.73      0.70      0.71      7761\n",
            "           1       0.74      0.77      0.76      8759\n",
            "\n",
            "    accuracy                           0.74     16520\n",
            "   macro avg       0.74      0.74      0.74     16520\n",
            "weighted avg       0.74      0.74      0.74     16520\n",
            "\n",
            "RandomForest:\n",
            "accuracy: 0.7230629539951574\n",
            "precision: 0.7225172085068203\n",
            "recall: 0.7204152809915956\n",
            "              precision    recall  f1-score   support\n",
            "\n",
            "           0       0.72      0.68      0.70      7761\n",
            "           1       0.73      0.76      0.75      8759\n",
            "\n",
            "    accuracy                           0.72     16520\n",
            "   macro avg       0.72      0.72      0.72     16520\n",
            "weighted avg       0.72      0.72      0.72     16520\n",
            "\n"
          ],
          "name": "stdout"
        }
      ]
    },
    {
      "cell_type": "markdown",
      "metadata": {
        "id": "v6cZrG4FvuGZ"
      },
      "source": [
        "# vector size = 150"
      ]
    },
    {
      "cell_type": "code",
      "metadata": {
        "colab": {
          "base_uri": "https://localhost:8080/",
          "height": 0
        },
        "id": "8visbtc0vrp4",
        "outputId": "76de4846-a08b-4918-f6f7-7240e34c6671"
      },
      "source": [
        "model = train_word2vec(corpus=corpus, \n",
        "                         n_epoch=25, \n",
        "                         name_corpus=\"movie\", \n",
        "                         sg=0, \n",
        "                         negative=5,\n",
        "                         alpha = 0.05,\n",
        "                         min_alpha = 0.065,\n",
        "                         window = 3,\n",
        "                         vector_size=150,\n",
        "                         min_count=2)\n",
        "\n",
        "\n",
        "vectors_train = get_vectors(model=model,\n",
        "                            corpus=corpus_train)\n",
        "vectors_test = get_vectors(model=model,\n",
        "                            corpus=corpus_test)\n",
        "\n",
        "X_train = np.array(vectors_train)\n",
        "X_train = np.vstack(X_train)\n",
        "X_test = np.array(vectors_test)\n",
        "X_test = np.vstack(X_test)\n",
        "\n",
        "classification_report(x_train=X_train,\n",
        "                      x_test=X_test,\n",
        "                      y_train=y_train,\n",
        "                      y_test=y_test)"
      ],
      "execution_count": 41,
      "outputs": [
        {
          "output_type": "stream",
          "text": [
            "100%|██████████| 82598/82598 [00:00<00:00, 1894083.45it/s]\n",
            "100%|██████████| 82598/82598 [00:00<00:00, 2008820.14it/s]\n",
            "100%|██████████| 82598/82598 [00:00<00:00, 2073479.62it/s]\n",
            "100%|██████████| 82598/82598 [00:00<00:00, 2028937.76it/s]\n",
            "100%|██████████| 82598/82598 [00:00<00:00, 2009869.01it/s]\n",
            "100%|██████████| 82598/82598 [00:00<00:00, 2040349.37it/s]\n",
            "100%|██████████| 82598/82598 [00:00<00:00, 2165365.28it/s]\n",
            "100%|██████████| 82598/82598 [00:00<00:00, 1988138.70it/s]\n",
            "100%|██████████| 82598/82598 [00:00<00:00, 2089121.59it/s]\n",
            "100%|██████████| 82598/82598 [00:00<00:00, 2068008.89it/s]\n",
            "100%|██████████| 82598/82598 [00:00<00:00, 1829005.74it/s]\n",
            "100%|██████████| 82598/82598 [00:00<00:00, 2035398.58it/s]\n",
            "100%|██████████| 82598/82598 [00:00<00:00, 1956520.71it/s]\n",
            "100%|██████████| 82598/82598 [00:00<00:00, 2030281.37it/s]\n",
            "100%|██████████| 82598/82598 [00:00<00:00, 2053678.11it/s]\n",
            "100%|██████████| 82598/82598 [00:00<00:00, 1992002.59it/s]\n",
            "100%|██████████| 82598/82598 [00:00<00:00, 1992117.13it/s]\n",
            "100%|██████████| 82598/82598 [00:00<00:00, 1987853.51it/s]\n",
            "100%|██████████| 82598/82598 [00:00<00:00, 2017782.34it/s]\n",
            "100%|██████████| 82598/82598 [00:00<00:00, 1921928.81it/s]\n",
            "100%|██████████| 82598/82598 [00:00<00:00, 2034131.79it/s]\n",
            "100%|██████████| 82598/82598 [00:00<00:00, 2037589.31it/s]\n",
            "100%|██████████| 82598/82598 [00:00<00:00, 1779961.99it/s]\n",
            "100%|██████████| 82598/82598 [00:00<00:00, 1966203.49it/s]\n",
            "100%|██████████| 82598/82598 [00:00<00:00, 2023888.41it/s]\n",
            "100%|██████████| 82598/82598 [00:00<00:00, 2124193.69it/s]\n",
            "/usr/local/lib/python3.7/dist-packages/ipykernel_launcher.py:5: DeprecationWarning: Call to deprecated `__getitem__` (Method will be removed in 4.0.0, use self.wv.__getitem__() instead).\n",
            "  \"\"\"\n",
            "/usr/local/lib/python3.7/dist-packages/ipykernel_launcher.py:18: VisibleDeprecationWarning: Creating an ndarray from ragged nested sequences (which is a list-or-tuple of lists-or-tuples-or ndarrays with different lengths or shapes) is deprecated. If you meant to do this, you must specify 'dtype=object' when creating the ndarray\n",
            "/usr/local/lib/python3.7/dist-packages/ipykernel_launcher.py:20: VisibleDeprecationWarning: Creating an ndarray from ragged nested sequences (which is a list-or-tuple of lists-or-tuples-or ndarrays with different lengths or shapes) is deprecated. If you meant to do this, you must specify 'dtype=object' when creating the ndarray\n"
          ],
          "name": "stderr"
        },
        {
          "output_type": "stream",
          "text": [
            "LogisticRegression:\n",
            "accuracy: 0.7415859564164649\n",
            "precision: 0.7410347734077674\n",
            "recall: 0.7393437970088204\n",
            "              precision    recall  f1-score   support\n",
            "\n",
            "           0       0.74      0.70      0.72      7761\n",
            "           1       0.75      0.78      0.76      8759\n",
            "\n",
            "    accuracy                           0.74     16520\n",
            "   macro avg       0.74      0.74      0.74     16520\n",
            "weighted avg       0.74      0.74      0.74     16520\n",
            "\n",
            "RandomForest:\n",
            "accuracy: 0.7216707021791767\n",
            "precision: 0.7212199924788967\n",
            "recall: 0.7188601077230203\n",
            "              precision    recall  f1-score   support\n",
            "\n",
            "           0       0.72      0.67      0.69      7761\n",
            "           1       0.72      0.77      0.74      8759\n",
            "\n",
            "    accuracy                           0.72     16520\n",
            "   macro avg       0.72      0.72      0.72     16520\n",
            "weighted avg       0.72      0.72      0.72     16520\n",
            "\n"
          ],
          "name": "stdout"
        }
      ]
    },
    {
      "cell_type": "markdown",
      "metadata": {
        "id": "G4hzi59GvzCH"
      },
      "source": [
        "# vector size = 200"
      ]
    },
    {
      "cell_type": "code",
      "metadata": {
        "colab": {
          "base_uri": "https://localhost:8080/",
          "height": 0
        },
        "id": "7SUBZoTqvyWD",
        "outputId": "792594f6-56dd-4d87-87ce-e86b9a52fa88"
      },
      "source": [
        "model = train_word2vec(corpus=corpus, \n",
        "                         n_epoch=25, \n",
        "                         name_corpus=\"movie\", \n",
        "                         sg=0, \n",
        "                         negative=5,\n",
        "                         alpha = 0.05,\n",
        "                         min_alpha = 0.065,\n",
        "                         window = 3,\n",
        "                         vector_size=200,\n",
        "                         min_count=2)\n",
        "\n",
        "\n",
        "vectors_train = get_vectors(model=model,\n",
        "                            corpus=corpus_train)\n",
        "vectors_test = get_vectors(model=model,\n",
        "                            corpus=corpus_test)\n",
        "\n",
        "X_train = np.array(vectors_train)\n",
        "X_train = np.vstack(X_train)\n",
        "X_test = np.array(vectors_test)\n",
        "X_test = np.vstack(X_test)\n",
        "\n",
        "classification_report(x_train=X_train,\n",
        "                      x_test=X_test,\n",
        "                      y_train=y_train,\n",
        "                      y_test=y_test)"
      ],
      "execution_count": 42,
      "outputs": [
        {
          "output_type": "stream",
          "text": [
            "100%|██████████| 82598/82598 [00:00<00:00, 1925742.76it/s]\n",
            "100%|██████████| 82598/82598 [00:00<00:00, 1963128.40it/s]\n",
            "100%|██████████| 82598/82598 [00:00<00:00, 1833118.80it/s]\n",
            "100%|██████████| 82598/82598 [00:00<00:00, 1863418.20it/s]\n",
            "100%|██████████| 82598/82598 [00:00<00:00, 2051938.70it/s]\n",
            "100%|██████████| 82598/82598 [00:00<00:00, 1988892.01it/s]\n",
            "100%|██████████| 82598/82598 [00:00<00:00, 2122189.82it/s]\n",
            "100%|██████████| 82598/82598 [00:00<00:00, 2125379.58it/s]\n",
            "100%|██████████| 82598/82598 [00:00<00:00, 1962405.60it/s]\n",
            "100%|██████████| 82598/82598 [00:00<00:00, 2035326.83it/s]\n",
            "100%|██████████| 82598/82598 [00:00<00:00, 1890692.95it/s]\n",
            "100%|██████████| 82598/82598 [00:00<00:00, 2022033.83it/s]\n",
            "100%|██████████| 82598/82598 [00:00<00:00, 2015399.46it/s]\n",
            "100%|██████████| 82598/82598 [00:00<00:00, 2154109.49it/s]\n",
            "100%|██████████| 82598/82598 [00:00<00:00, 1934290.62it/s]\n",
            "100%|██████████| 82598/82598 [00:00<00:00, 2074448.05it/s]\n",
            "100%|██████████| 82598/82598 [00:00<00:00, 1902143.07it/s]\n",
            "100%|██████████| 82598/82598 [00:00<00:00, 1993194.50it/s]\n",
            "100%|██████████| 82598/82598 [00:00<00:00, 2124936.34it/s]\n",
            "100%|██████████| 82598/82598 [00:00<00:00, 1879063.84it/s]\n",
            "100%|██████████| 82598/82598 [00:00<00:00, 1951704.00it/s]\n",
            "100%|██████████| 82598/82598 [00:00<00:00, 2044455.26it/s]\n",
            "100%|██████████| 82598/82598 [00:00<00:00, 1970251.38it/s]\n",
            "100%|██████████| 82598/82598 [00:00<00:00, 1874590.10it/s]\n",
            "100%|██████████| 82598/82598 [00:00<00:00, 2004739.99it/s]\n",
            "100%|██████████| 82598/82598 [00:00<00:00, 2117170.77it/s]\n",
            "/usr/local/lib/python3.7/dist-packages/ipykernel_launcher.py:5: DeprecationWarning: Call to deprecated `__getitem__` (Method will be removed in 4.0.0, use self.wv.__getitem__() instead).\n",
            "  \"\"\"\n",
            "/usr/local/lib/python3.7/dist-packages/ipykernel_launcher.py:18: VisibleDeprecationWarning: Creating an ndarray from ragged nested sequences (which is a list-or-tuple of lists-or-tuples-or ndarrays with different lengths or shapes) is deprecated. If you meant to do this, you must specify 'dtype=object' when creating the ndarray\n",
            "/usr/local/lib/python3.7/dist-packages/ipykernel_launcher.py:20: VisibleDeprecationWarning: Creating an ndarray from ragged nested sequences (which is a list-or-tuple of lists-or-tuples-or ndarrays with different lengths or shapes) is deprecated. If you meant to do this, you must specify 'dtype=object' when creating the ndarray\n"
          ],
          "name": "stderr"
        },
        {
          "output_type": "stream",
          "text": [
            "LogisticRegression:\n",
            "accuracy: 0.7407990314769975\n",
            "precision: 0.7403059721672947\n",
            "recall: 0.7384548922521925\n",
            "              precision    recall  f1-score   support\n",
            "\n",
            "           0       0.74      0.70      0.72      7761\n",
            "           1       0.74      0.78      0.76      8759\n",
            "\n",
            "    accuracy                           0.74     16520\n",
            "   macro avg       0.74      0.74      0.74     16520\n",
            "weighted avg       0.74      0.74      0.74     16520\n",
            "\n",
            "RandomForest:\n",
            "accuracy: 0.7200968523002421\n",
            "precision: 0.7196510446690256\n",
            "recall: 0.7172437902110929\n",
            "              precision    recall  f1-score   support\n",
            "\n",
            "           0       0.72      0.67      0.69      7761\n",
            "           1       0.72      0.76      0.74      8759\n",
            "\n",
            "    accuracy                           0.72     16520\n",
            "   macro avg       0.72      0.72      0.72     16520\n",
            "weighted avg       0.72      0.72      0.72     16520\n",
            "\n"
          ],
          "name": "stdout"
        }
      ]
    },
    {
      "cell_type": "code",
      "metadata": {
        "id": "qWJnoUaRv25y"
      },
      "source": [
        ""
      ],
      "execution_count": 42,
      "outputs": []
    },
    {
      "cell_type": "markdown",
      "metadata": {
        "id": "ajvxKRPqv4Ne"
      },
      "source": [
        "# en iyiler sq=0, alpha=0.1, window_size=7, vector_size=200"
      ]
    },
    {
      "cell_type": "code",
      "metadata": {
        "colab": {
          "base_uri": "https://localhost:8080/",
          "height": 0
        },
        "id": "QT7j2KSUv5zU",
        "outputId": "33812fa0-c35b-4541-b03f-6609595a6a80"
      },
      "source": [
        "model = train_word2vec(corpus=corpus, \n",
        "                         n_epoch=25, \n",
        "                         name_corpus=\"movie\", \n",
        "                         sg=0, \n",
        "                         negative=5,\n",
        "                         alpha = 0.1,\n",
        "                         min_alpha = 0.065,\n",
        "                         window = 7,\n",
        "                         vector_size=200,\n",
        "                         min_count=2)\n",
        "\n",
        "\n",
        "vectors_train = get_vectors(model=model,\n",
        "                            corpus=corpus_train)\n",
        "vectors_test = get_vectors(model=model,\n",
        "                            corpus=corpus_test)\n",
        "\n",
        "X_train = np.array(vectors_train)\n",
        "X_train = np.vstack(X_train)\n",
        "X_test = np.array(vectors_test)\n",
        "X_test = np.vstack(X_test)\n",
        "\n",
        "classification_report(x_train=X_train,\n",
        "                      x_test=X_test,\n",
        "                      y_train=y_train,\n",
        "                      y_test=y_test)"
      ],
      "execution_count": 43,
      "outputs": [
        {
          "output_type": "stream",
          "text": [
            "100%|██████████| 82598/82598 [00:00<00:00, 1911821.21it/s]\n",
            "100%|██████████| 82598/82598 [00:00<00:00, 1868654.78it/s]\n",
            "100%|██████████| 82598/82598 [00:00<00:00, 2019876.41it/s]\n",
            "100%|██████████| 82598/82598 [00:00<00:00, 1927939.69it/s]\n",
            "100%|██████████| 82598/82598 [00:00<00:00, 1993768.04it/s]\n",
            "100%|██████████| 82598/82598 [00:00<00:00, 1968348.36it/s]\n",
            "100%|██████████| 82598/82598 [00:00<00:00, 2051732.11it/s]\n",
            "100%|██████████| 82598/82598 [00:00<00:00, 2103557.05it/s]\n",
            "100%|██████████| 82598/82598 [00:00<00:00, 2057520.11it/s]\n",
            "100%|██████████| 82598/82598 [00:00<00:00, 2068379.30it/s]\n",
            "100%|██████████| 82598/82598 [00:00<00:00, 2086567.34it/s]\n",
            "100%|██████████| 82598/82598 [00:00<00:00, 1886687.59it/s]\n",
            "100%|██████████| 82598/82598 [00:00<00:00, 1998633.44it/s]\n",
            "100%|██████████| 82598/82598 [00:00<00:00, 2011689.65it/s]\n",
            "100%|██████████| 82598/82598 [00:00<00:00, 1826681.58it/s]\n",
            "100%|██████████| 82598/82598 [00:00<00:00, 2008284.48it/s]\n",
            "100%|██████████| 82598/82598 [00:00<00:00, 1978917.22it/s]\n",
            "100%|██████████| 82598/82598 [00:00<00:00, 2119878.36it/s]\n",
            "100%|██████████| 82598/82598 [00:00<00:00, 2009181.30it/s]\n",
            "100%|██████████| 82598/82598 [00:00<00:00, 1975126.41it/s]\n",
            "100%|██████████| 82598/82598 [00:00<00:00, 1991796.44it/s]\n",
            "100%|██████████| 82598/82598 [00:00<00:00, 2077807.30it/s]\n",
            "100%|██████████| 82598/82598 [00:00<00:00, 1962683.54it/s]\n",
            "100%|██████████| 82598/82598 [00:00<00:00, 2059758.74it/s]\n",
            "100%|██████████| 82598/82598 [00:00<00:00, 2064878.12it/s]\n",
            "100%|██████████| 82598/82598 [00:00<00:00, 1946560.89it/s]\n",
            "/usr/local/lib/python3.7/dist-packages/ipykernel_launcher.py:5: DeprecationWarning: Call to deprecated `__getitem__` (Method will be removed in 4.0.0, use self.wv.__getitem__() instead).\n",
            "  \"\"\"\n",
            "/usr/local/lib/python3.7/dist-packages/ipykernel_launcher.py:18: VisibleDeprecationWarning: Creating an ndarray from ragged nested sequences (which is a list-or-tuple of lists-or-tuples-or ndarrays with different lengths or shapes) is deprecated. If you meant to do this, you must specify 'dtype=object' when creating the ndarray\n",
            "/usr/local/lib/python3.7/dist-packages/ipykernel_launcher.py:20: VisibleDeprecationWarning: Creating an ndarray from ragged nested sequences (which is a list-or-tuple of lists-or-tuples-or ndarrays with different lengths or shapes) is deprecated. If you meant to do this, you must specify 'dtype=object' when creating the ndarray\n"
          ],
          "name": "stderr"
        },
        {
          "output_type": "stream",
          "text": [
            "LogisticRegression:\n",
            "accuracy: 0.7354721549636803\n",
            "precision: 0.7351110127728779\n",
            "recall: 0.7328442441127685\n",
            "              precision    recall  f1-score   support\n",
            "\n",
            "           0       0.73      0.69      0.71      7761\n",
            "           1       0.74      0.78      0.76      8759\n",
            "\n",
            "    accuracy                           0.74     16520\n",
            "   macro avg       0.74      0.73      0.73     16520\n",
            "weighted avg       0.74      0.74      0.73     16520\n",
            "\n",
            "RandomForest:\n",
            "accuracy: 0.7096246973365617\n",
            "precision: 0.70977045191627\n",
            "recall: 0.7058854434466941\n",
            "              precision    recall  f1-score   support\n",
            "\n",
            "           0       0.71      0.64      0.68      7761\n",
            "           1       0.71      0.77      0.74      8759\n",
            "\n",
            "    accuracy                           0.71     16520\n",
            "   macro avg       0.71      0.71      0.71     16520\n",
            "weighted avg       0.71      0.71      0.71     16520\n",
            "\n"
          ],
          "name": "stdout"
        }
      ]
    },
    {
      "cell_type": "code",
      "metadata": {
        "id": "-4BqMTVFxxkx"
      },
      "source": [
        ""
      ],
      "execution_count": 43,
      "outputs": []
    }
  ]
}