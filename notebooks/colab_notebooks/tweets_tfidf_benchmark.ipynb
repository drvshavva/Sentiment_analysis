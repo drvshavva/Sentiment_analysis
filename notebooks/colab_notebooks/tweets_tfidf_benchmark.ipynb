{
 "nbformat": 4,
 "nbformat_minor": 0,
 "metadata": {
  "colab": {
   "name": "tweets_tfidf_benchmark.ipynb ",
   "provenance": [],
   "machine_shape": "hm"
  },
  "kernelspec": {
   "name": "python3",
   "display_name": "Python 3"
  },
  "language_info": {
   "name": "python"
  },
  "pycharm": {
   "stem_cell": {
    "cell_type": "raw",
    "source": [],
    "metadata": {
     "collapsed": false
    }
   }
  }
 },
 "cells": [
  {
   "cell_type": "code",
   "metadata": {
    "id": "8YxwpjDU0-DP"
   },
   "source": [
    "# import libraries\n",
    "from sklearn.feature_extraction.text import TfidfVectorizer\n",
    "import pandas as pd\n",
    "import numpy as np\n",
    "from sklearn.model_selection import train_test_split\n",
    "from sklearn import model_selection, preprocessing, linear_model, naive_bayes, metrics, svm\n",
    "from sklearn import decomposition, ensemble\n"
   ],
   "execution_count": 1,
   "outputs": []
  },
  {
   "cell_type": "code",
   "metadata": {
    "id": "72Lu7aGp4A19"
   },
   "source": [
    "def classification_report_tf_idf(x_train, x_test, y_train, y_test, max_features: int = None, analyzer: str = \"word\", n_gram=(1, 1)):\n",
    "  models = []\n",
    "  models.append(('LogisticRegression', linear_model.LogisticRegression(solver='newton-cg',multi_class='multinomial')))\n",
    "  models.append(('RandomForest', ensemble.RandomForestClassifier(n_estimators=100)))\n",
    "\n",
    "  vectorizer = TfidfVectorizer( max_features=max_features,analyzer=analyzer, ngram_range=n_gram, use_idf=True)\n",
    "  vectorizer.fit(pd.concat([x_train, x_test]))\n",
    "  x_train = vectorizer.transform(x_train)\n",
    "  x_test = vectorizer.transform(x_test)\n",
    "\n",
    "  for name, model in models:\n",
    "      clf=model\n",
    "      clf.fit(x_train, y_train)\n",
    "      y_pred=clf.predict(x_test)\n",
    "      print(f\"{name}:\")\n",
    "      print(f\"accuracy: {metrics.accuracy_score(y_pred=y_pred, y_true=y_test)}\")\n",
    "      print(f\"precision: {metrics.precision_score(y_pred=y_pred, y_true=y_test, average='macro')}\")\n",
    "      print(f\"recall: {metrics.recall_score(y_pred=y_pred, y_true=y_test, average='macro')}\")\n",
    "      print(f\"{metrics.classification_report(y_pred=y_pred, y_true=y_test)}\")"
   ],
   "execution_count": 8,
   "outputs": []
  },
  {
   "cell_type": "code",
   "metadata": {
    "id": "aWfrOSNVl3U-"
   },
   "source": [
    "tweet_train = pd.read_csv(\"/content/drive/MyDrive/hesaplamalı_anlambilim_ödev/preprocess_train.csv\")\n",
    "tweet_test = pd.read_csv(\"/content/drive/MyDrive/hesaplamalı_anlambilim_ödev/preprocess_test.csv\")"
   ],
   "execution_count": 3,
   "outputs": []
  },
  {
   "cell_type": "code",
   "metadata": {
    "id": "jR7vZvjFmJHN"
   },
   "source": [
    "tweet_test.dropna(inplace=True)\n",
    "tweet_test.reset_index(drop=True,inplace=True)\n",
    "\n",
    "tweet_train.dropna(inplace=True)\n",
    "tweet_train.reset_index(drop=True,inplace=True)\n",
    "\n",
    "x_train=tweet_train.tweet\n",
    "y_train=tweet_train.sentiment.map({'olumlu':1,'olumsuz':-1,'notr':0}).values\n",
    "x_test=tweet_test.tweet\n",
    "y_test=tweet_test.sentiment.map({'olumlu':1,'olumsuz':-1,'notr':0}).values"
   ],
   "execution_count": 4,
   "outputs": []
  },
  {
   "cell_type": "markdown",
   "metadata": {
    "id": "WCZKmKPPhkx6"
   },
   "source": [
    "# analyzer \"word\" \"char\"\n",
    "# n_gram    (1,1) (2,2) (3,3)\n",
    "# max_features 25 50 75 100"
   ]
  },
  {
   "cell_type": "markdown",
   "metadata": {
    "id": "UHFaL0AXlpW4"
   },
   "source": [
    "# max features 50"
   ]
  },
  {
   "cell_type": "code",
   "metadata": {
    "colab": {
     "base_uri": "https://localhost:8080/"
    },
    "id": "GU0Ev7RrhFEq",
    "outputId": "a1e76614-ff36-4782-94ac-379215540e70"
   },
   "source": [
    "classification_report(x_train,\n",
    "                      x_test,\n",
    "                      y_train,\n",
    "                      y_test,\n",
    "                      analyzer = \"word\",\n",
    "                      n_gram = (1,1),\n",
    "                      max_features=50)"
   ],
   "execution_count": 9,
   "outputs": [
    {
     "output_type": "stream",
     "text": [
      "LogisticRegression:\n",
      "accuracy: 0.4915893271461717\n",
      "precision: 0.5044027817560593\n",
      "recall: 0.47742582149399077\n",
      "              precision    recall  f1-score   support\n",
      "\n",
      "          -1       0.54      0.55      0.55      1373\n",
      "           0       0.42      0.53      0.47      1160\n",
      "           1       0.55      0.34      0.42       915\n",
      "\n",
      "    accuracy                           0.49      3448\n",
      "   macro avg       0.50      0.48      0.48      3448\n",
      "weighted avg       0.50      0.49      0.49      3448\n",
      "\n",
      "RandomForest:\n",
      "accuracy: 0.4872389791183295\n",
      "precision: 0.49994679351475063\n",
      "recall: 0.4759074519112554\n",
      "              precision    recall  f1-score   support\n",
      "\n",
      "          -1       0.54      0.51      0.53      1373\n",
      "           0       0.42      0.56      0.48      1160\n",
      "           1       0.54      0.35      0.42       915\n",
      "\n",
      "    accuracy                           0.49      3448\n",
      "   macro avg       0.50      0.48      0.48      3448\n",
      "weighted avg       0.50      0.49      0.48      3448\n",
      "\n"
     ],
     "name": "stdout"
    }
   ]
  },
  {
   "cell_type": "markdown",
   "metadata": {
    "id": "jfDpEJM2lt_h"
   },
   "source": [
    "# max_features 25"
   ]
  },
  {
   "cell_type": "code",
   "metadata": {
    "colab": {
     "base_uri": "https://localhost:8080/"
    },
    "id": "o6XRBLDclkTi",
    "outputId": "350d6aac-8fa2-4711-a095-4a07b61a5bbd"
   },
   "source": [
    "classification_report(x_train,\n",
    "                      x_test,\n",
    "                      y_train,\n",
    "                      y_test,\n",
    "                      analyzer = \"word\",\n",
    "                      n_gram = (1,1),\n",
    "                      max_features=25)"
   ],
   "execution_count": 10,
   "outputs": [
    {
     "output_type": "stream",
     "text": [
      "LogisticRegression:\n",
      "accuracy: 0.4538863109048724\n",
      "precision: 0.4749377269496584\n",
      "recall: 0.438765280347023\n",
      "              precision    recall  f1-score   support\n",
      "\n",
      "          -1       0.51      0.47      0.49      1373\n",
      "           0       0.40      0.59      0.48      1160\n",
      "           1       0.52      0.25      0.34       915\n",
      "\n",
      "    accuracy                           0.45      3448\n",
      "   macro avg       0.47      0.44      0.43      3448\n",
      "weighted avg       0.47      0.45      0.44      3448\n",
      "\n",
      "RandomForest:\n",
      "accuracy: 0.4544663573085847\n",
      "precision: 0.4799066018306361\n",
      "recall: 0.4435004329689935\n",
      "              precision    recall  f1-score   support\n",
      "\n",
      "          -1       0.52      0.44      0.48      1373\n",
      "           0       0.39      0.61      0.48      1160\n",
      "           1       0.53      0.28      0.37       915\n",
      "\n",
      "    accuracy                           0.45      3448\n",
      "   macro avg       0.48      0.44      0.44      3448\n",
      "weighted avg       0.48      0.45      0.45      3448\n",
      "\n"
     ],
     "name": "stdout"
    }
   ]
  },
  {
   "cell_type": "markdown",
   "metadata": {
    "id": "QvUV8ncXlywN"
   },
   "source": [
    "# max features 75"
   ]
  },
  {
   "cell_type": "code",
   "metadata": {
    "colab": {
     "base_uri": "https://localhost:8080/"
    },
    "id": "L89q3WgMlw_6",
    "outputId": "d6a16f67-8712-48b4-d346-5318a124fe16"
   },
   "source": [
    "classification_report(x_train,\n",
    "                      x_test,\n",
    "                      y_train,\n",
    "                      y_test,\n",
    "                      analyzer = \"word\",\n",
    "                      n_gram = (1,1),\n",
    "                      max_features=75)"
   ],
   "execution_count": 11,
   "outputs": [
    {
     "output_type": "stream",
     "text": [
      "LogisticRegression:\n",
      "accuracy: 0.5121809744779582\n",
      "precision: 0.5233165493727364\n",
      "recall: 0.49606447676626947\n",
      "              precision    recall  f1-score   support\n",
      "\n",
      "          -1       0.55      0.60      0.57      1373\n",
      "           0       0.45      0.53      0.48      1160\n",
      "           1       0.57      0.36      0.44       915\n",
      "\n",
      "    accuracy                           0.51      3448\n",
      "   macro avg       0.52      0.50      0.50      3448\n",
      "weighted avg       0.52      0.51      0.51      3448\n",
      "\n",
      "RandomForest:\n",
      "accuracy: 0.5055104408352669\n",
      "precision: 0.5153053150149907\n",
      "recall: 0.49340202624639784\n",
      "              precision    recall  f1-score   support\n",
      "\n",
      "          -1       0.56      0.55      0.55      1373\n",
      "           0       0.44      0.57      0.50      1160\n",
      "           1       0.55      0.37      0.44       915\n",
      "\n",
      "    accuracy                           0.51      3448\n",
      "   macro avg       0.52      0.49      0.50      3448\n",
      "weighted avg       0.52      0.51      0.50      3448\n",
      "\n"
     ],
     "name": "stdout"
    }
   ]
  },
  {
   "cell_type": "markdown",
   "metadata": {
    "id": "VeUET_O4l24e"
   },
   "source": [
    "# max features 100"
   ]
  },
  {
   "cell_type": "code",
   "metadata": {
    "colab": {
     "base_uri": "https://localhost:8080/"
    },
    "id": "nU_e12NKl2Bq",
    "outputId": "6f6edf67-b6c8-4db7-8d87-a18f64c0433e"
   },
   "source": [
    "classification_report(x_train,\n",
    "                      x_test,\n",
    "                      y_train,\n",
    "                      y_test,\n",
    "                      analyzer = \"word\",\n",
    "                      n_gram = (1,1),\n",
    "                      max_features=100)"
   ],
   "execution_count": 12,
   "outputs": [
    {
     "output_type": "stream",
     "text": [
      "LogisticRegression:\n",
      "accuracy: 0.5258120649651972\n",
      "precision: 0.5365645117163295\n",
      "recall: 0.5104116737077594\n",
      "              precision    recall  f1-score   support\n",
      "\n",
      "          -1       0.55      0.62      0.58      1373\n",
      "           0       0.46      0.53      0.49      1160\n",
      "           1       0.59      0.39      0.47       915\n",
      "\n",
      "    accuracy                           0.53      3448\n",
      "   macro avg       0.54      0.51      0.52      3448\n",
      "weighted avg       0.53      0.53      0.52      3448\n",
      "\n",
      "RandomForest:\n",
      "accuracy: 0.5246519721577726\n",
      "precision: 0.5326381916743311\n",
      "recall: 0.5122771184087053\n",
      "              precision    recall  f1-score   support\n",
      "\n",
      "          -1       0.57      0.57      0.57      1373\n",
      "           0       0.46      0.57      0.51      1160\n",
      "           1       0.57      0.39      0.46       915\n",
      "\n",
      "    accuracy                           0.52      3448\n",
      "   macro avg       0.53      0.51      0.52      3448\n",
      "weighted avg       0.53      0.52      0.52      3448\n",
      "\n"
     ],
     "name": "stdout"
    }
   ]
  },
  {
   "cell_type": "markdown",
   "metadata": {
    "id": "fpYGbrGhmAmU"
   },
   "source": [
    "# analyzer \"word\""
   ]
  },
  {
   "cell_type": "code",
   "metadata": {
    "colab": {
     "base_uri": "https://localhost:8080/"
    },
    "id": "8zXuZeZTl9EZ",
    "outputId": "0ad9cfba-2b85-4a29-e574-b117942a4d92"
   },
   "source": [
    "classification_report(x_train,\n",
    "                      x_test,\n",
    "                      y_train,\n",
    "                      y_test,\n",
    "                      analyzer = \"word\",\n",
    "                      n_gram = (1,1),\n",
    "                      max_features=100)"
   ],
   "execution_count": 13,
   "outputs": [
    {
     "output_type": "stream",
     "text": [
      "LogisticRegression:\n",
      "accuracy: 0.5258120649651972\n",
      "precision: 0.5365645117163295\n",
      "recall: 0.5104116737077594\n",
      "              precision    recall  f1-score   support\n",
      "\n",
      "          -1       0.55      0.62      0.58      1373\n",
      "           0       0.46      0.53      0.49      1160\n",
      "           1       0.59      0.39      0.47       915\n",
      "\n",
      "    accuracy                           0.53      3448\n",
      "   macro avg       0.54      0.51      0.52      3448\n",
      "weighted avg       0.53      0.53      0.52      3448\n",
      "\n",
      "RandomForest:\n",
      "accuracy: 0.519431554524362\n",
      "precision: 0.5261904998083718\n",
      "recall: 0.5087455596604008\n",
      "              precision    recall  f1-score   support\n",
      "\n",
      "          -1       0.57      0.56      0.56      1373\n",
      "           0       0.46      0.57      0.51      1160\n",
      "           1       0.55      0.40      0.46       915\n",
      "\n",
      "    accuracy                           0.52      3448\n",
      "   macro avg       0.53      0.51      0.51      3448\n",
      "weighted avg       0.53      0.52      0.52      3448\n",
      "\n"
     ],
     "name": "stdout"
    }
   ]
  },
  {
   "cell_type": "markdown",
   "metadata": {
    "id": "zOc5KQQ2mIJ4"
   },
   "source": [
    "# analyzer \"char\""
   ]
  },
  {
   "cell_type": "code",
   "metadata": {
    "colab": {
     "base_uri": "https://localhost:8080/"
    },
    "id": "nkzt0tXWmHJO",
    "outputId": "2d3ec347-c6ca-49b4-9c4a-c36150386a07"
   },
   "source": [
    "classification_report(x_train,\n",
    "                      x_test,\n",
    "                      y_train,\n",
    "                      y_test,\n",
    "                      analyzer = \"char\",\n",
    "                      n_gram = (1,1),\n",
    "                      max_features=100)"
   ],
   "execution_count": 14,
   "outputs": [
    {
     "output_type": "stream",
     "text": [
      "LogisticRegression:\n",
      "accuracy: 0.46403712296983757\n",
      "precision: 0.45942918551524453\n",
      "recall: 0.4296728365605981\n",
      "              precision    recall  f1-score   support\n",
      "\n",
      "          -1       0.47      0.72      0.57      1373\n",
      "           0       0.47      0.37      0.41      1160\n",
      "           1       0.44      0.20      0.28       915\n",
      "\n",
      "    accuracy                           0.46      3448\n",
      "   macro avg       0.46      0.43      0.42      3448\n",
      "weighted avg       0.46      0.46      0.44      3448\n",
      "\n",
      "RandomForest:\n",
      "accuracy: 0.5185614849187935\n",
      "precision: 0.5282279299267988\n",
      "recall: 0.48979378928177475\n",
      "              precision    recall  f1-score   support\n",
      "\n",
      "          -1       0.51      0.74      0.61      1373\n",
      "           0       0.50      0.43      0.46      1160\n",
      "           1       0.57      0.30      0.39       915\n",
      "\n",
      "    accuracy                           0.52      3448\n",
      "   macro avg       0.53      0.49      0.49      3448\n",
      "weighted avg       0.52      0.52      0.50      3448\n",
      "\n"
     ],
     "name": "stdout"
    }
   ]
  },
  {
   "cell_type": "markdown",
   "metadata": {
    "id": "pO3F53vjmOMK"
   },
   "source": [
    "# n gram (1,1)"
   ]
  },
  {
   "cell_type": "code",
   "metadata": {
    "colab": {
     "base_uri": "https://localhost:8080/"
    },
    "id": "d4IMsQpImM7A",
    "outputId": "d187e7d3-68af-40fc-9283-20cc5182f2e1"
   },
   "source": [
    "classification_report(x_train,\n",
    "                      x_test,\n",
    "                      y_train,\n",
    "                      y_test,\n",
    "                      analyzer = \"word\",\n",
    "                      n_gram = (1,1),\n",
    "                      max_features=100)"
   ],
   "execution_count": 15,
   "outputs": [
    {
     "output_type": "stream",
     "text": [
      "LogisticRegression:\n",
      "accuracy: 0.5258120649651972\n",
      "precision: 0.5365645117163295\n",
      "recall: 0.5104116737077594\n",
      "              precision    recall  f1-score   support\n",
      "\n",
      "          -1       0.55      0.62      0.58      1373\n",
      "           0       0.46      0.53      0.49      1160\n",
      "           1       0.59      0.39      0.47       915\n",
      "\n",
      "    accuracy                           0.53      3448\n",
      "   macro avg       0.54      0.51      0.52      3448\n",
      "weighted avg       0.53      0.53      0.52      3448\n",
      "\n",
      "RandomForest:\n",
      "accuracy: 0.5226218097447796\n",
      "precision: 0.5293867198808954\n",
      "recall: 0.5100427294123804\n",
      "              precision    recall  f1-score   support\n",
      "\n",
      "          -1       0.56      0.58      0.57      1373\n",
      "           0       0.46      0.56      0.51      1160\n",
      "           1       0.56      0.39      0.46       915\n",
      "\n",
      "    accuracy                           0.52      3448\n",
      "   macro avg       0.53      0.51      0.51      3448\n",
      "weighted avg       0.53      0.52      0.52      3448\n",
      "\n"
     ],
     "name": "stdout"
    }
   ]
  },
  {
   "cell_type": "markdown",
   "metadata": {
    "id": "fEaEC-QHmTYk"
   },
   "source": [
    "# n_gram (2,2)"
   ]
  },
  {
   "cell_type": "code",
   "metadata": {
    "colab": {
     "base_uri": "https://localhost:8080/"
    },
    "id": "9842553fmRYl",
    "outputId": "bb161c06-766d-4d33-c543-5190b54279ef"
   },
   "source": [
    "classification_report(x_train,\n",
    "                      x_test,\n",
    "                      y_train,\n",
    "                      y_test,\n",
    "                      analyzer = \"word\",\n",
    "                      n_gram = (2,2),\n",
    "                      max_features=100)"
   ],
   "execution_count": 16,
   "outputs": [
    {
     "output_type": "stream",
     "text": [
      "LogisticRegression:\n",
      "accuracy: 0.4431554524361949\n",
      "precision: 0.5388464023535632\n",
      "recall: 0.39091601019106853\n",
      "              precision    recall  f1-score   support\n",
      "\n",
      "          -1       0.42      0.94      0.58      1373\n",
      "           0       0.55      0.10      0.17      1160\n",
      "           1       0.65      0.13      0.22       915\n",
      "\n",
      "    accuracy                           0.44      3448\n",
      "   macro avg       0.54      0.39      0.32      3448\n",
      "weighted avg       0.52      0.44      0.35      3448\n",
      "\n",
      "RandomForest:\n",
      "accuracy: 0.4448955916473318\n",
      "precision: 0.5456370758335706\n",
      "recall: 0.3926682285481579\n",
      "              precision    recall  f1-score   support\n",
      "\n",
      "          -1       0.42      0.95      0.59      1373\n",
      "           0       0.58      0.09      0.16      1160\n",
      "           1       0.64      0.14      0.23       915\n",
      "\n",
      "    accuracy                           0.44      3448\n",
      "   macro avg       0.55      0.39      0.32      3448\n",
      "weighted avg       0.53      0.44      0.35      3448\n",
      "\n"
     ],
     "name": "stdout"
    }
   ]
  },
  {
   "cell_type": "markdown",
   "metadata": {
    "id": "RgbdWWbTmZP0"
   },
   "source": [
    "# ngram (3,3)"
   ]
  },
  {
   "cell_type": "code",
   "metadata": {
    "colab": {
     "base_uri": "https://localhost:8080/"
    },
    "id": "wp6owm64mX5O",
    "outputId": "03dd11a6-b578-4abf-cf53-40a84015f02f"
   },
   "source": [
    "classification_report(x_train,\n",
    "                      x_test,\n",
    "                      y_train,\n",
    "                      y_test,\n",
    "                      analyzer = \"word\",\n",
    "                      n_gram = (3,3),\n",
    "                      max_features=100)"
   ],
   "execution_count": 17,
   "outputs": [
    {
     "output_type": "stream",
     "text": [
      "LogisticRegression:\n",
      "accuracy: 0.4245939675174014\n",
      "precision: 0.6279432692989355\n",
      "recall: 0.3624230684617096\n",
      "              precision    recall  f1-score   support\n",
      "\n",
      "          -1       0.41      0.99      0.58      1373\n",
      "           0       0.77      0.06      0.11      1160\n",
      "           1       0.70      0.04      0.07       915\n",
      "\n",
      "    accuracy                           0.42      3448\n",
      "   macro avg       0.63      0.36      0.25      3448\n",
      "weighted avg       0.61      0.42      0.29      3448\n",
      "\n",
      "RandomForest:\n",
      "accuracy: 0.4245939675174014\n",
      "precision: 0.6329897645445753\n",
      "recall: 0.3624230684617096\n",
      "              precision    recall  f1-score   support\n",
      "\n",
      "          -1       0.41      0.99      0.58      1373\n",
      "           0       0.77      0.06      0.11      1160\n",
      "           1       0.72      0.04      0.07       915\n",
      "\n",
      "    accuracy                           0.42      3448\n",
      "   macro avg       0.63      0.36      0.25      3448\n",
      "weighted avg       0.61      0.42      0.29      3448\n",
      "\n"
     ],
     "name": "stdout"
    }
   ]
  },
  {
   "cell_type": "code",
   "metadata": {
    "colab": {
     "base_uri": "https://localhost:8080/"
    },
    "id": "oqRU7s6xmcfW",
    "outputId": "677e77fb-3eb3-4773-afec-ce91a32203a9"
   },
   "source": [
    "classification_report(x_train,\n",
    "                      x_test,\n",
    "                      y_train,\n",
    "                      y_test,\n",
    "                      analyzer = \"char\",\n",
    "                      n_gram = (1,3),\n",
    "                      max_features=200)"
   ],
   "execution_count": 21,
   "outputs": [
    {
     "output_type": "stream",
     "text": [
      "LogisticRegression:\n",
      "accuracy: 0.5501740139211136\n",
      "precision: 0.5444765070380967\n",
      "recall: 0.5329263632942205\n",
      "              precision    recall  f1-score   support\n",
      "\n",
      "          -1       0.57      0.69      0.63      1373\n",
      "           0       0.53      0.48      0.50      1160\n",
      "           1       0.53      0.43      0.47       915\n",
      "\n",
      "    accuracy                           0.55      3448\n",
      "   macro avg       0.54      0.53      0.53      3448\n",
      "weighted avg       0.55      0.55      0.54      3448\n",
      "\n",
      "RandomForest:\n",
      "accuracy: 0.5907772621809745\n",
      "precision: 0.6071608030326847\n",
      "recall: 0.5644255918001542\n",
      "              precision    recall  f1-score   support\n",
      "\n",
      "          -1       0.57      0.77      0.66      1373\n",
      "           0       0.59      0.54      0.57      1160\n",
      "           1       0.66      0.38      0.48       915\n",
      "\n",
      "    accuracy                           0.59      3448\n",
      "   macro avg       0.61      0.56      0.57      3448\n",
      "weighted avg       0.60      0.59      0.58      3448\n",
      "\n"
     ],
     "name": "stdout"
    }
   ]
  },
  {
   "cell_type": "code",
   "metadata": {
    "id": "gMUnHGQOmv_q"
   },
   "source": [
    ""
   ],
   "execution_count": null,
   "outputs": []
  }
 ]
}