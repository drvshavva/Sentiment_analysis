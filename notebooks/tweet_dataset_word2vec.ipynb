{
 "cells": [
  {
   "cell_type": "code",
   "execution_count": 10,
   "metadata": {},
   "outputs": [],
   "source": [
    "from src.feature_engineering.benchmark_utils import *\n",
    "from src.feature_engineering.word2vec_benchmark import *\n",
    "from src.data_operations.rw_utils import read_from_csv\n",
    "import pandas as pd"
   ]
  },
  {
   "cell_type": "code",
   "execution_count": 6,
   "metadata": {},
   "outputs": [
    {
     "name": "stdout",
     "output_type": "stream",
     "text": [
      "Data is read. Len of the data 13806 and columns Index(['tweet', 'sentiment'], dtype='object')\n"
     ]
    },
    {
     "data": {
      "text/html": [
       "<div>\n",
       "<style scoped>\n",
       "    .dataframe tbody tr th:only-of-type {\n",
       "        vertical-align: middle;\n",
       "    }\n",
       "\n",
       "    .dataframe tbody tr th {\n",
       "        vertical-align: top;\n",
       "    }\n",
       "\n",
       "    .dataframe thead th {\n",
       "        text-align: right;\n",
       "    }\n",
       "</style>\n",
       "<table border=\"1\" class=\"dataframe\">\n",
       "  <thead>\n",
       "    <tr style=\"text-align: right;\">\n",
       "      <th></th>\n",
       "      <th>tweet</th>\n",
       "      <th>sentiment</th>\n",
       "    </tr>\n",
       "  </thead>\n",
       "  <tbody>\n",
       "    <tr>\n",
       "      <th>0</th>\n",
       "      <td>internet sadece kasar duser cocuklari</td>\n",
       "      <td>olumsuz</td>\n",
       "    </tr>\n",
       "    <tr>\n",
       "      <th>1</th>\n",
       "      <td>ayrica reklami kadar kotu bir reklam gormemistim</td>\n",
       "      <td>olumsuz</td>\n",
       "    </tr>\n",
       "    <tr>\n",
       "      <th>2</th>\n",
       "      <td>pahali</td>\n",
       "      <td>olumsuz</td>\n",
       "    </tr>\n",
       "    <tr>\n",
       "      <th>3</th>\n",
       "      <td>kasta internetin cekmiyor</td>\n",
       "      <td>olumsuz</td>\n",
       "    </tr>\n",
       "    <tr>\n",
       "      <th>4</th>\n",
       "      <td>allah belasi versin demek isterdim demicem dem...</td>\n",
       "      <td>olumsuz</td>\n",
       "    </tr>\n",
       "  </tbody>\n",
       "</table>\n",
       "</div>"
      ],
      "text/plain": [
       "                                               tweet sentiment\n",
       "0              internet sadece kasar duser cocuklari   olumsuz\n",
       "1   ayrica reklami kadar kotu bir reklam gormemistim   olumsuz\n",
       "2                                             pahali   olumsuz\n",
       "3                          kasta internetin cekmiyor   olumsuz\n",
       "4  allah belasi versin demek isterdim demicem dem...   olumsuz"
      ]
     },
     "execution_count": 6,
     "metadata": {},
     "output_type": "execute_result"
    }
   ],
   "source": [
    "tweet_train = read_from_csv(\"preprocess_train.csv\")\n",
    "tweet_train.head()"
   ]
  },
  {
   "cell_type": "code",
   "execution_count": 7,
   "metadata": {},
   "outputs": [
    {
     "name": "stdout",
     "output_type": "stream",
     "text": [
      "Data is read. Len of the data 3456 and columns Index(['tweet', 'sentiment'], dtype='object')\n"
     ]
    },
    {
     "data": {
      "text/html": [
       "<div>\n",
       "<style scoped>\n",
       "    .dataframe tbody tr th:only-of-type {\n",
       "        vertical-align: middle;\n",
       "    }\n",
       "\n",
       "    .dataframe tbody tr th {\n",
       "        vertical-align: top;\n",
       "    }\n",
       "\n",
       "    .dataframe thead th {\n",
       "        text-align: right;\n",
       "    }\n",
       "</style>\n",
       "<table border=\"1\" class=\"dataframe\">\n",
       "  <thead>\n",
       "    <tr style=\"text-align: right;\">\n",
       "      <th></th>\n",
       "      <th>tweet</th>\n",
       "      <th>sentiment</th>\n",
       "    </tr>\n",
       "  </thead>\n",
       "  <tbody>\n",
       "    <tr>\n",
       "      <th>0</th>\n",
       "      <td>kadar serefsiz misiniz</td>\n",
       "      <td>olumsuz</td>\n",
       "    </tr>\n",
       "    <tr>\n",
       "      <th>1</th>\n",
       "      <td>burdan sesleniyorum haram olsun</td>\n",
       "      <td>olumsuz</td>\n",
       "    </tr>\n",
       "    <tr>\n",
       "      <th>2</th>\n",
       "      <td>hayatimda kadar kazik operator gormedim</td>\n",
       "      <td>olumsuz</td>\n",
       "    </tr>\n",
       "    <tr>\n",
       "      <th>3</th>\n",
       "      <td>gozumde son demlerini yasiyor hatti degisicem ...</td>\n",
       "      <td>olumsuz</td>\n",
       "    </tr>\n",
       "    <tr>\n",
       "      <th>4</th>\n",
       "      <td>sonra oldugunu gorup sovuyorum</td>\n",
       "      <td>olumsuz</td>\n",
       "    </tr>\n",
       "  </tbody>\n",
       "</table>\n",
       "</div>"
      ],
      "text/plain": [
       "                                               tweet sentiment\n",
       "0                             kadar serefsiz misiniz   olumsuz\n",
       "1                    burdan sesleniyorum haram olsun   olumsuz\n",
       "2            hayatimda kadar kazik operator gormedim   olumsuz\n",
       "3  gozumde son demlerini yasiyor hatti degisicem ...   olumsuz\n",
       "4                     sonra oldugunu gorup sovuyorum   olumsuz"
      ]
     },
     "execution_count": 7,
     "metadata": {},
     "output_type": "execute_result"
    }
   ],
   "source": [
    "tweet_test = read_from_csv(\"preprocess_test.csv\")\n",
    "tweet_test.head()"
   ]
  },
  {
   "cell_type": "code",
   "execution_count": 8,
   "metadata": {},
   "outputs": [],
   "source": [
    "tweet_test.dropna(inplace=True)\n",
    "tweet_test.reset_index(drop=True,inplace=True)\n",
    "\n",
    "tweet_train.dropna(inplace=True)\n",
    "tweet_train.reset_index(drop=True,inplace=True)\n",
    "\n",
    "x_train=tweet_train.tweet\n",
    "y_train=tweet_train.sentiment.map({'olumlu':1,'olumsuz':-1,'notr':0}).values\n",
    "x_test=tweet_test.tweet\n",
    "y_test=tweet_test.sentiment.map({'olumlu':1,'olumsuz':-1,'notr':0}).values"
   ]
  },
  {
   "cell_type": "code",
   "execution_count": 11,
   "metadata": {},
   "outputs": [],
   "source": [
    "concat = pd.concat([x_train, x_test])\n",
    "corpus = labelize_tweets_ug(concat, 'all')"
   ]
  },
  {
   "cell_type": "code",
   "execution_count": 12,
   "metadata": {},
   "outputs": [],
   "source": [
    "corpus_train = pd.DataFrame(x_train)['tweet'].apply(lambda x: x.split())\n",
    "corpus_test = pd.DataFrame(x_test)['tweet'].apply(lambda x: x.split())"
   ]
  },
  {
   "cell_type": "code",
   "execution_count": 13,
   "metadata": {},
   "outputs": [],
   "source": [
    "# min_count = corpusta kelimenin en az bulunma sayısı eğer kelime bu kadardan az geçiyorsa anlam ifade etmediği varsayılır(default=5)\n",
    "# vector_size = kelimelerin ifade edileceği vektörün boyut sayısı\n",
    "# window = current ve predicted word arasındaki maksimum mesafe\n",
    "# sg = 0 cbow, 1 skip-gram\n",
    "# negative = eğer sıfırdan büyük olursa negative sampling kullanılır 5-20 arasında olmalı\n",
    "# alpha = başlangıç learning rate\n",
    "# min_alpha = eğitim aşamasında learning rate linear olarak bunu düşer\n",
    "# epoch = iterasyon sayısı"
   ]
  },
  {
   "cell_type": "code",
   "execution_count": 14,
   "metadata": {},
   "outputs": [
    {
     "name": "stdout",
     "output_type": "stream",
     "text": [
      "The maximum length in words are : 27\n"
     ]
    }
   ],
   "source": [
    "get_max_len_sentence(pd.DataFrame(concat).tweet)"
   ]
  },
  {
   "cell_type": "code",
   "execution_count": 15,
   "metadata": {},
   "outputs": [
    {
     "name": "stderr",
     "output_type": "stream",
     "text": [
      "100%|██████████| 17222/17222 [00:00<00:00, 1230378.71it/s]\n",
      "100%|██████████| 17222/17222 [00:00<00:00, 1439131.02it/s]\n",
      "100%|██████████| 17222/17222 [00:00<00:00, 1569901.41it/s]\n",
      "100%|██████████| 17222/17222 [00:00<00:00, 575595.07it/s]\n",
      "100%|██████████| 17222/17222 [00:00<00:00, 1439045.01it/s]\n",
      "100%|██████████| 17222/17222 [00:00<00:00, 639592.55it/s]\n",
      "100%|██████████| 17222/17222 [00:00<00:00, 785095.74it/s]\n",
      "100%|██████████| 17222/17222 [00:00<00:00, 664125.77it/s]\n",
      "100%|██████████| 17222/17222 [00:00<00:00, 244891.10it/s]\n",
      "100%|██████████| 17222/17222 [00:00<00:00, 1015810.76it/s]\n",
      "100%|██████████| 17222/17222 [00:00<00:00, 1079122.52it/s]\n",
      "100%|██████████| 17222/17222 [00:00<00:00, 792616.41it/s]\n",
      "100%|██████████| 17222/17222 [00:00<00:00, 690642.54it/s]\n",
      "100%|██████████| 17222/17222 [00:00<00:00, 1570037.90it/s]\n",
      "100%|██████████| 17222/17222 [00:00<00:00, 690820.88it/s]\n",
      "100%|██████████| 17222/17222 [00:00<00:00, 719486.67it/s]\n",
      "100%|██████████| 17222/17222 [00:00<00:00, 539666.07it/s]\n",
      "100%|██████████| 17222/17222 [00:00<00:00, 1079267.63it/s]\n",
      "100%|██████████| 17222/17222 [00:00<00:00, 1233425.03it/s]\n",
      "100%|██████████| 17222/17222 [00:00<00:00, 1233298.68it/s]\n",
      "100%|██████████| 17222/17222 [00:00<00:00, 863385.73it/s]\n",
      "100%|██████████| 17222/17222 [00:00<00:00, 1441629.81it/s]\n",
      "100%|██████████| 17222/17222 [00:00<00:00, 1439245.72it/s]\n",
      "100%|██████████| 17222/17222 [00:00<00:00, 1726854.02it/s]\n",
      "100%|██████████| 17222/17222 [00:00<00:00, 1569935.53it/s]\n",
      "100%|██████████| 17222/17222 [00:00<00:00, 1439045.01it/s]\n"
     ]
    }
   ],
   "source": [
    "model = train_word2vec(corpus=corpus, \n",
    "                         n_epoch=25, \n",
    "                         name_corpus=\"tweet\", \n",
    "                         sg=0, \n",
    "                         negative=7,\n",
    "                         alpha = 0.07,\n",
    "                         min_alpha = 0.065,\n",
    "                         window = 3,\n",
    "                         vector_size=150,\n",
    "                         min_count=2)"
   ]
  },
  {
   "cell_type": "code",
   "execution_count": 16,
   "metadata": {},
   "outputs": [],
   "source": [
    "vectors_train = get_vectors(model=model,\n",
    "                            corpus=corpus_train)\n",
    "vectors_test = get_vectors(model=model,\n",
    "                            corpus=corpus_test)\n",
    "\n",
    "X_train = np.array(vectors_train)\n",
    "X_train = np.vstack(X_train)\n",
    "X_test = np.array(vectors_test)\n",
    "X_test = np.vstack(X_test)"
   ]
  },
  {
   "cell_type": "code",
   "execution_count": 17,
   "metadata": {},
   "outputs": [
    {
     "name": "stdout",
     "output_type": "stream",
     "text": [
      "LogisticRegression:\n",
      "accuracy: 0.622969837587007\n",
      "precision: 0.6186956206610763\n",
      "recall: 0.6086989221132949\n",
      "              precision    recall  f1-score   support\n",
      "\n",
      "          -1       0.64      0.75      0.69      1373\n",
      "           0       0.62      0.55      0.58      1160\n",
      "           1       0.60      0.53      0.56       915\n",
      "\n",
      "    accuracy                           0.62      3448\n",
      "   macro avg       0.62      0.61      0.61      3448\n",
      "weighted avg       0.62      0.62      0.62      3448\n",
      "\n",
      "RandomForest:\n",
      "accuracy: 0.6337006960556845\n",
      "precision: 0.6424744869955755\n",
      "recall: 0.6112209053139425\n",
      "              precision    recall  f1-score   support\n",
      "\n",
      "          -1       0.62      0.81      0.70      1373\n",
      "           0       0.65      0.55      0.60      1160\n",
      "           1       0.67      0.47      0.55       915\n",
      "\n",
      "    accuracy                           0.63      3448\n",
      "   macro avg       0.64      0.61      0.62      3448\n",
      "weighted avg       0.64      0.63      0.63      3448\n",
      "\n",
      "SVM:\n",
      "accuracy: 0.6540023201856149\n",
      "precision: 0.6544980659815441\n",
      "recall: 0.6367145171857057\n",
      "              precision    recall  f1-score   support\n",
      "\n",
      "          -1       0.66      0.79      0.72      1373\n",
      "           0       0.65      0.59      0.61      1160\n",
      "           1       0.66      0.53      0.59       915\n",
      "\n",
      "    accuracy                           0.65      3448\n",
      "   macro avg       0.65      0.64      0.64      3448\n",
      "weighted avg       0.65      0.65      0.65      3448\n",
      "\n"
     ]
    }
   ],
   "source": [
    "classification_report(x_train=X_train,\n",
    "                      x_test=X_test,\n",
    "                      y_train=y_train,\n",
    "                      y_test=y_test)"
   ]
  },
  {
   "cell_type": "code",
   "execution_count": null,
   "metadata": {},
   "outputs": [],
   "source": []
  }
 ],
 "metadata": {
  "kernelspec": {
   "display_name": "Python 3",
   "language": "python",
   "name": "python3"
  },
  "language_info": {
   "codemirror_mode": {
    "name": "ipython",
    "version": 3
   },
   "file_extension": ".py",
   "mimetype": "text/x-python",
   "name": "python",
   "nbconvert_exporter": "python",
   "pygments_lexer": "ipython3",
   "version": "3.7.7"
  }
 },
 "nbformat": 4,
 "nbformat_minor": 4
}
